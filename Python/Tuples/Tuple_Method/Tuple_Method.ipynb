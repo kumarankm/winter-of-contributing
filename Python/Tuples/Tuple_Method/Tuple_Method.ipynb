{
  "nbformat": 4,
  "nbformat_minor": 0,
  "metadata": {
    "colab": {
      "name": "Tuple_Method.ipynb",
      "provenance": [],
      "collapsed_sections": []
    },
    "kernelspec": {
      "name": "python3",
      "display_name": "Python 3"
    },
    "language_info": {
      "name": "python"
    }
  },
  "cells": [
    {
      "cell_type": "markdown",
      "metadata": {
        "id": "8CUReI_ZxtlG"
      },
      "source": [
        "# What are Tuple  Methods?\n",
        "\n",
        "\n"
      ]
    },
    {
      "cell_type": "markdown",
      "metadata": {
        "id": "amWWVYsRx9B3"
      },
      "source": [
        "Python has a set of built-in methods that you can use on tuple.<br/>\n",
        "Python tuples are a data structure that store an ordered sequence of values. Tuples are immutable<br/>\n",
        "Tuples can be accessed but value in tuple cannot be changed\n"
      ]
    },
    {
      "cell_type": "markdown",
      "metadata": {
        "id": "X-_0WmuN1rBT"
      },
      "source": [
        "# Tuple value changes using List\n",
        "```Python\n",
        "t = (1,2,3,4)\n",
        "m = list(t)\n",
        "m[1]=5\n",
        "t=tuple(m)\n",
        "print(t)\n",
        "```\n",
        "(1, 5, 3, 4)\n",
        "\n"
      ]
    },
    {
      "cell_type": "markdown",
      "metadata": {
        "id": "Gkna0gaSyG-H"
      },
      "source": [
        "# Main Purpose\n",
        "Tuples are used to store multiple items in a single variable."
      ]
    },
    {
      "cell_type": "markdown",
      "metadata": {
        "id": "x73t9OIYyhiX"
      },
      "source": [
        "# tuple Representation\n",
        "Tuple is created using simple brackets"
      ]
    },
    {
      "cell_type": "markdown",
      "metadata": {
        "id": "DB2TxKTxyyYV"
      },
      "source": [
        "# Sample Code and Explanation\n",
        "##Count : Counts the specific value in a tuple\n",
        "```python\n",
        "thistuple = (1, 4 ,5, 6 , 6 , 7 , 6)\n",
        "x = thistuple.count(6)\n",
        "x\n",
        "```\n",
        "3\n"
      ]
    },
    {
      "cell_type": "markdown",
      "metadata": {
        "id": "No3SndQ0zrlV"
      },
      "source": [
        "##Index : finds the first ocurrence of specific value\n",
        "```python\n",
        "thistuple = (1, 4 ,5, 6 , 6 , 7 , 6)\n",
        "x = thistuple.index(5)\n",
        "x\n",
        "```\n",
        "2"
      ]
    },
    {
      "cell_type": "markdown",
      "metadata": {
        "id": "wgCmdkRcz_6C"
      },
      "source": [
        "#Advantage\n",
        "Tuples are faster than list<br/>\n",
        "Tuples can be used as dictionary keys "
      ]
    },
    {
      "cell_type": "markdown",
      "metadata": {
        "id": "Uu3vdU4C0cwf"
      },
      "source": [
        "#Conclusion\n",
        "The tuple is preferred over List to store different types of data types in a sequence<br/>\n",
        "Since a tuple is immutable, iterating through the tuple is slightly faster than a list. <br/>"
      ]
    }
  ]
}