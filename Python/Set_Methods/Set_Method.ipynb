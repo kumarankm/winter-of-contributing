{
  "nbformat": 4,
  "nbformat_minor": 0,
  "metadata": {
    "colab": {
      "name": "Set_Method.ipynb",
      "provenance": [],
      "collapsed_sections": []
    },
    "kernelspec": {
      "name": "python3",
      "display_name": "Python 3"
    },
    "language_info": {
      "name": "python"
    }
  },
  "cells": [
    {
      "cell_type": "markdown",
      "metadata": {
        "id": "Vcvgmf-242g7"
      },
      "source": [
        "# What are Set Methods?"
      ]
    },
    {
      "cell_type": "markdown",
      "metadata": {
        "id": "UdNhqqZG5Ep-"
      },
      "source": [
        "Python has a set of built-in methods that you can use on set.<br/>\n",
        "A set is an unordered collection of items. Set items are unique and immutable<br/>"
      ]
    },
    {
      "cell_type": "markdown",
      "metadata": {
        "id": "7bgbHoDd81Kb"
      },
      "source": [
        "#Main Purpose<br/>\n",
        "Set() method is used to convert any of the iterable to sequence of iterable elements with distinct elements, commonly called Set."
      ]
    },
    {
      "cell_type": "markdown",
      "metadata": {
        "id": "MHOWLrVZ9YAD"
      },
      "source": [
        "# Set Representation\n",
        "Set is created using curly brackets"
      ]
    },
    {
      "cell_type": "markdown",
      "metadata": {
        "id": "uH46cmvV-Ddy"
      },
      "source": [
        "# Sample Code and Explanation\n",
        "##Add : adds an element to the set\n",
        "```python\n",
        "L={\"A\",\"B\",\"C\"}\n",
        "L.add(\"D\")\n",
        "L\n",
        "```\n",
        "{'A', 'B', 'C', 'D'}\n"
      ]
    },
    {
      "cell_type": "markdown",
      "metadata": {
        "id": "urlVfxQN_PT0"
      },
      "source": [
        "##Clear : Removes all elements in a set\n",
        "```python\n",
        "M={\"A\",\"B\",\"C\"}\n",
        "M.clear()\n",
        "M\n",
        "```\n",
        "set()\n"
      ]
    },
    {
      "cell_type": "markdown",
      "metadata": {
        "id": "StF0MfGE_z7c"
      },
      "source": [
        "##Copy : copy all elements of one set to another\n",
        "```python\n",
        "M={\"A\",\"B\",\"C\"}\n",
        "y= M.copy()\n",
        "y\n",
        "```\n",
        "{'A', 'B', 'C'}\n"
      ]
    },
    {
      "cell_type": "markdown",
      "metadata": {
        "id": "pjTXavOLAYqP"
      },
      "source": [
        "##Difference : returns a set that contains the difference between two sets\n",
        "```python\n",
        "M={\"A\",\"B\",\"C\"}\n",
        "y={\"A\",\"D\",\"E\"}\n",
        "z=M.difference(y)\n",
        "z\n",
        "```\n",
        "{'B', 'C'}\n"
      ]
    },
    {
      "cell_type": "markdown",
      "metadata": {
        "id": "0fq1Yih7A-Xo"
      },
      "source": [
        "##Difference_update : removes the items that exist in both sets\n",
        "```python\n",
        "M={\"A\",\"B\",\"C\"}\n",
        "y={\"A\",\"D\",\"E\"}\n",
        "M.difference_update(y)\n",
        "M\n",
        "```\n",
        "{'B', 'C'}\n"
      ]
    },
    {
      "cell_type": "markdown",
      "metadata": {
        "id": "1JQ5Q9rFBPA0"
      },
      "source": [
        "##Discard : removes the specified item from the set\n",
        "```python\n",
        "M={\"A\",\"B\",\"C\"}\n",
        "M.discard(\"B\")\n",
        "M\n",
        "```\n",
        "{'A', 'C'}\n"
      ]
    },
    {
      "cell_type": "markdown",
      "metadata": {
        "id": "Lc9e9fR2B3oz"
      },
      "source": [
        "##Intersection : returns a set that contains the similarity between two or more sets\n",
        "```python\n",
        "M={\"A\",\"B\",\"C\"}\n",
        "y={\"A\",\"D\",\"E\"}\n",
        "z= M.intersection(y)\n",
        "z\n",
        "```\n",
        "{'A'}\n"
      ]
    },
    {
      "cell_type": "markdown",
      "metadata": {
        "id": "bO-mmHsfCb7h"
      },
      "source": [
        "##Issubset : returns True if all items in the set exists in the specified set, otherwise it retuns False\n",
        "```python\n",
        "M={\"A\",\"B\",\"C\"}\n",
        "y={\"L\",\"D\",\"E\",\"A\",\"B\",\"C\"}\n",
        "z= M.issubset(y)\n",
        "z\n",
        "```\n",
        "True\n"
      ]
    },
    {
      "cell_type": "markdown",
      "metadata": {
        "id": "E7Q5XJ1pDZRu"
      },
      "source": [
        "##Issuperset : returns True if all items in the specified set exists in the original set, otherwise it retuns False.\n",
        "```python\n",
        "M={\"A\",\"B\",\"C\"}\n",
        "y={\"L\",\"D\",\"E\",\"A\",\"B\",\"C\"}\n",
        "z= y.issuperset(M)\n",
        "z\n",
        "```\n",
        "True\n"
      ]
    },
    {
      "cell_type": "markdown",
      "metadata": {
        "id": "D2QUgrSXEqH3"
      },
      "source": [
        "##Pop : removes a random item from the set\n",
        "```python\n",
        "M={\"A\",\"B\",\"C\"}\n",
        "M.pop()\n",
        "M\n",
        "```\n",
        "{'A', 'B'}\n"
      ]
    },
    {
      "cell_type": "markdown",
      "metadata": {
        "id": "g8rX7g6UFO29"
      },
      "source": [
        "##Remove :  removes the specified element from the set\n",
        "```python\n",
        "M={\"A\",\"B\",\"C\"}\n",
        "M.remove(\"B\")\n",
        "M\n",
        "```\n",
        "{'A', 'C'}"
      ]
    },
    {
      "cell_type": "markdown",
      "metadata": {
        "id": "xiuw4XVXGoro"
      },
      "source": [
        "##Symmetric_Difference :  returns a set that contains all items from both set, but not the items that are present in both sets\n",
        "```python\n",
        "M={\"A\",\"B\",\"C\"}\n",
        "O={\"A\",\"L\",\"D\"}\n",
        "z = M.symmetric_difference(O)\n",
        "z\n",
        "```\n",
        "{'B', 'C', 'D', 'L'}\n"
      ]
    },
    {
      "cell_type": "markdown",
      "metadata": {
        "id": "CykFhJqPHNZ8"
      },
      "source": [
        "\n",
        "##Union :  returns a set that contains all items from the original set, and all items from the specified set(s)\n",
        "```python\n",
        "M={\"A\",\"B\",\"C\"}\n",
        "O={\"A\",\"L\",\"D\"}\n",
        "z = M.union(O)\n",
        "z\n",
        "```\n",
        "{'A', 'B', 'C', 'D', 'L'}\n"
      ]
    },
    {
      "cell_type": "markdown",
      "metadata": {
        "id": "Fn8IJzATHcf-"
      },
      "source": [
        "##Update :  updates the current set, by adding items from another set (or any other iterable)\n",
        "```python\n",
        "M={\"A\",\"B\",\"C\"}\n",
        "O={\"A\",\"L\",\"D\"}\n",
        "M.update(O)\n",
        "M\n",
        "```\n",
        "{'A', 'B', 'C', 'D', 'L'}\n"
      ]
    },
    {
      "cell_type": "markdown",
      "metadata": {
        "id": "0MSLp3mEIjIV"
      },
      "source": [
        "#Advantage\n",
        "Set formatting is easier"
      ]
    },
    {
      "cell_type": "markdown",
      "metadata": {
        "id": "jfcWyT1TIlUh"
      },
      "source": [
        "#Conclusion\n",
        "Sets highly useful to efficiently remove duplicate values from a list or tuple and to perform common math operations like unions and intersections."
      ]
    }
  ]
}