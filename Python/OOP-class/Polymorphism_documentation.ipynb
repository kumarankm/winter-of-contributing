{
  "nbformat": 4,
  "nbformat_minor": 0,
  "metadata": {
    "colab": {
      "name": "Polymorphism_documentation.md",
      "provenance": [],
      "collapsed_sections": []
    },
    "kernelspec": {
      "name": "python3",
      "display_name": "Python 3"
    },
    "language_info": {
      "name": "python"
    }
  },
  "cells": [
    {
      "cell_type": "markdown",
      "metadata": {
        "id": "tLCaZY29roQE"
      },
      "source": [
        "#POLYMORPHISM\n",
        "\n",
        "**Polymorphism** is an important feature of any Object Oriented programming language.\n",
        "\n",
        "The word Polymorphism is  combination of two words - **Poly** means **_many_** and **Morph** means **_form_**.\n",
        "\n",
        "So, it is clear that Polymorphism is all about an entity with different behaviours.\n",
        "\n",
        "In Python built-in Operators and Functions supporting Polymorphism are provided.\n",
        "\n",
        "**Operator +**\n",
        "\n",
        " \n",
        "\n",
        "\n",
        "\n",
        "\n",
        "\n",
        "\n"
      ]
    },
    {
      "cell_type": "code",
      "metadata": {
        "colab": {
          "base_uri": "https://localhost:8080/"
        },
        "id": "3G7W0rcuwDtO",
        "outputId": "e2f250cf-ceb6-4840-f95b-0ac4e84ad331"
      },
      "source": [
        "print(5+4)\n",
        "print('Python'+'Programming')"
      ],
      "execution_count": null,
      "outputs": [
        {
          "output_type": "stream",
          "name": "stdout",
          "text": [
            "9\n",
            "PythonProgramming\n"
          ]
        }
      ]
    },
    {
      "cell_type": "markdown",
      "metadata": {
        "id": "CUyk7ds_wbLq"
      },
      "source": [
        "Here operator **+**  is used to add different data type objects integer and string.\n",
        "\n",
        "Similarly, built-in function **_len_** is used to find length of different \n",
        " data type objects as demonstrated below."
      ]
    },
    {
      "cell_type": "code",
      "metadata": {
        "colab": {
          "base_uri": "https://localhost:8080/"
        },
        "id": "Gb_nMCEyxEtp",
        "outputId": "c4948084-db00-4e39-8c32-63e4c2772540"
      },
      "source": [
        "Str='GWOC is the OPEN SOURCE REPOSITORY'\n",
        "print(\"Length of string is: \",len(Str))\n",
        "List=[1,2,3,4]\n",
        "print(\"Length of the list is: \",len(List))\n",
        "Dict={ 1:'G' , 2:'W' , 3:'O' }\n",
        "print(\"Length of Dictionary is: \",len(Dict))\n",
        "\n"
      ],
      "execution_count": null,
      "outputs": [
        {
          "output_type": "stream",
          "name": "stdout",
          "text": [
            "Length of string is:  34\n",
            "Length of the list is:  4\n",
            "Length of Dictionary is:  3\n"
          ]
        }
      ]
    },
    {
      "cell_type": "markdown",
      "metadata": {
        "id": "oMqkwul6yT_0"
      },
      "source": [
        "**Polymorphism with User-defined functions:**\n",
        "\n",
        "A user-defined function to multiply its arguments can be given as  \n"
      ]
    },
    {
      "cell_type": "code",
      "metadata": {
        "colab": {
          "base_uri": "https://localhost:8080/"
        },
        "id": "O9xgAZ_b0tFs",
        "outputId": "62bf472b-73e2-4e24-eaa4-299d50a18f08"
      },
      "source": [
        "def multiply(a,b,c,d=1):\n",
        "  print(a*b*c*d)\n",
        "multiply(1,2,3)\n",
        "multiply(2,3,4,5)"
      ],
      "execution_count": null,
      "outputs": [
        {
          "output_type": "stream",
          "name": "stdout",
          "text": [
            "6\n",
            "120\n"
          ]
        }
      ]
    },
    {
      "cell_type": "markdown",
      "metadata": {
        "id": "t00xdJRy1La8"
      },
      "source": [
        "Here the same function **multiply()** is used to multiply 3 numbers and 4 numbers."
      ]
    },
    {
      "cell_type": "markdown",
      "metadata": {
        "id": "M4pf2-Fd1n-r"
      },
      "source": [
        "**Polymorphism in user-defined Class Methods:**\n",
        "\n",
        "A method can be defined with same name and different functionality under different classes.\n",
        "Here, the referenced class object will invoke its corresponding function and it is executed without any ambguity.\n",
        "\n",
        "With reference to the example given below, even if the method is same in both the classes ,method  in class A adds 2 numbers and in class B  3 numbers are added.\n"
      ]
    },
    {
      "cell_type": "code",
      "metadata": {
        "colab": {
          "base_uri": "https://localhost:8080/"
        },
        "id": "LWAUgwbqMXZa",
        "outputId": "38e275e3-42a7-4616-ca6a-1e319b7bd313"
      },
      "source": [
        "class A:\n",
        "  def __init__(self,x,y):\n",
        "    self.x=x\n",
        "    self.y=y\n",
        "  def Sum(self):\n",
        "    print(\"Sum from method of class A : \",self.x+self.y)\n",
        "\n",
        "class B:\n",
        "  def __init__(self,x,y,z):\n",
        "    self.x=x\n",
        "    self.y=y\n",
        "    self.z=z\n",
        "  def Sum(self):\n",
        "    print(\"Sum from method of class B : \",self.x+self.y+self.z)\n",
        "a=A(10,20)\n",
        "a.Sum()\n",
        "b=B(2,3,4)\n",
        "b.Sum()"
      ],
      "execution_count": 23,
      "outputs": [
        {
          "output_type": "stream",
          "name": "stdout",
          "text": [
            "Sum from method of class A :  30\n",
            "Sum from method of class B :  9\n"
          ]
        }
      ]
    },
    {
      "cell_type": "markdown",
      "metadata": {
        "id": "qwZr2_pZO2Ms"
      },
      "source": [
        "**Polymorphism in Inheritance:**\n",
        "\n",
        "Inheritance allows the access to members of Parent class, which a child class inherits  using its own object.\n",
        "\n",
        "However, Polymorphism can be used in this case to override the method defintions as required in the child class.\n",
        "\n",
        "In the example provided below, ```Show()``` is the method defined in Parent class and it is redefined in child classes.\n",
        "Although the function is the same one, functionality\n",
        "is changed. \n",
        "\n",
        "So this provides the simplest and clear understanding of Polymorphism in Inheritance employed in Python."
      ]
    },
    {
      "cell_type": "code",
      "metadata": {
        "colab": {
          "base_uri": "https://localhost:8080/"
        },
        "id": "R9c2nEyNRTAK",
        "outputId": "51139b0d-7272-4001-815f-a3e027d21eb0"
      },
      "source": [
        "class Parent:\n",
        "  def Show(self):\n",
        "    print(\"This the parent method Show().\")\n",
        "\n",
        "class Child1(Parent):\n",
        "  def Show(self):\n",
        "    print(\"This the Show() method overridden in child class 1. \")\n",
        "class Child2(Parent):\n",
        "  def Show(self):\n",
        "    print(\"This the Show() method overridden in child class 2. \")\n",
        "\n",
        "#objects for above 3 classes.\n",
        "P=Parent()\n",
        "C1=Child1()\n",
        "C2=Child2()\n",
        "\n",
        "#function call to Show() using 3 objects created above.\n",
        "\n",
        "P.Show()\n",
        "C1.Show()\n",
        "C2.Show()\n",
        "\n",
        "\n"
      ],
      "execution_count": 25,
      "outputs": [
        {
          "output_type": "stream",
          "name": "stdout",
          "text": [
            "This the parent method Show().\n",
            "This the Show() method overridden in child class 1. \n",
            "This the Show() method overridden in child class 2. \n"
          ]
        }
      ]
    }
  ]
}