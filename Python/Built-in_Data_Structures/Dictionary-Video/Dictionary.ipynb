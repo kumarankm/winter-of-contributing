{
 "cells": [
  {
   "cell_type": "markdown",
   "id": "e0a77728",
   "metadata": {},
   "source": [
    "# Dictionary\n",
    "Dictionary is one of the four collection data types in python.\n",
    "It is a data structre that stores data in key:value pairs.\n",
    "\n",
    "The main properties of a dictionary is that they are\n",
    ">Ordered (as of python version 3.7)\n",
    "\n",
    ">Changable\n",
    "\n",
    ">Do not allow duplicate"
   ]
  },
  {
   "cell_type": "code",
   "execution_count": 1,
   "id": "3432ba69",
   "metadata": {},
   "outputs": [
    {
     "data": {
      "text/plain": [
       "dict"
      ]
     },
     "execution_count": 1,
     "metadata": {},
     "output_type": "execute_result"
    }
   ],
   "source": [
    "#empty dictionary and how python reads it\n",
    "Dict = {}\n",
    "type(Dict)"
   ]
  },
  {
   "cell_type": "markdown",
   "id": "8c6d2c0a",
   "metadata": {},
   "source": [
    "# Initialization"
   ]
  },
  {
   "cell_type": "code",
   "execution_count": 7,
   "id": "a2fcc5dc",
   "metadata": {},
   "outputs": [
    {
     "data": {
      "text/plain": [
       "{1: 'A', 2: 'B', 3: 'C'}"
      ]
     },
     "execution_count": 7,
     "metadata": {},
     "output_type": "execute_result"
    }
   ],
   "source": [
    "# 2 ways\n",
    "\n",
    "Dict = {1:\"A\",2:\"B\",3:\"C\"}\n",
    "Dict\n",
    "\n",
    "Dict = dict([(1,\"A\"),(2,\"B\"),(3,\"C\")])\n",
    "Dict"
   ]
  },
  {
   "cell_type": "code",
   "execution_count": 8,
   "id": "e8508353",
   "metadata": {},
   "outputs": [
    {
     "data": {
      "text/plain": [
       "{1: 'A', 2: 'B', 3: 'D'}"
      ]
     },
     "execution_count": 8,
     "metadata": {},
     "output_type": "execute_result"
    }
   ],
   "source": [
    "#duplicates\n",
    "Dict = {1:\"A\",2:\"B\",3:\"C\",3:\"D\"}\n",
    "Dict"
   ]
  },
  {
   "cell_type": "code",
   "execution_count": 9,
   "id": "a4cc99e6",
   "metadata": {},
   "outputs": [
    {
     "data": {
      "text/plain": [
       "{1: 'A', 'Name': 'Sam', 3.4: 'C', 'Lis': [1, 2, 3, 4], 'Tup': (1, 2, 3, 4)}"
      ]
     },
     "execution_count": 9,
     "metadata": {},
     "output_type": "execute_result"
    }
   ],
   "source": [
    "#playing around with datasets\n",
    "Dict = {1:\"A\",\"Name\":\"Sam\",3.4:\"C\",\"Lis\":[1,2,3,4],\"Tup\":(1,2,3,4)}\n",
    "Dict"
   ]
  },
  {
   "cell_type": "code",
   "execution_count": 10,
   "id": "4a965712",
   "metadata": {},
   "outputs": [
    {
     "data": {
      "text/plain": [
       "{1: 'A',\n",
       " 'Name': 'Sam',\n",
       " 3.4: 'C',\n",
       " 'Lis': [1, 2, 3, 4],\n",
       " 'Tup': (1, 2, 3, 4),\n",
       " 'Dic': {5: 'A', 6: 'B'}}"
      ]
     },
     "execution_count": 10,
     "metadata": {},
     "output_type": "execute_result"
    }
   ],
   "source": [
    "#nested dictionary\n",
    "Dict = {1:\"A\",\"Name\":\"Sam\",3.4:\"C\",\"Lis\":[1,2,3,4],\"Tup\":(1,2,3,4),\"Dic\":{5:\"A\",6:\"B\"}}\n",
    "Dict"
   ]
  },
  {
   "cell_type": "code",
   "execution_count": 18,
   "id": "050606d3",
   "metadata": {},
   "outputs": [
    {
     "data": {
      "text/plain": [
       "dict_items([(1, 'A'), ('Name', 'Sam'), (3.4, 'C'), ('Lis', [1, 2, 3, 4]), ('Tup', (1, 2, 3, 4)), ('Dic', {5: 'A', 6: 'B'})])"
      ]
     },
     "execution_count": 18,
     "metadata": {},
     "output_type": "execute_result"
    }
   ],
   "source": [
    "#methods to get insights -- keys(),values(),items()\n",
    "Dict.keys()\n",
    "Dict.values()\n",
    "Dict.items()"
   ]
  },
  {
   "cell_type": "markdown",
   "id": "39570e1c",
   "metadata": {},
   "source": [
    "# Data accessing"
   ]
  },
  {
   "cell_type": "code",
   "execution_count": 16,
   "id": "374f0255",
   "metadata": {},
   "outputs": [
    {
     "data": {
      "text/plain": [
       "'Sam'"
      ]
     },
     "execution_count": 16,
     "metadata": {},
     "output_type": "execute_result"
    }
   ],
   "source": [
    "#using keys\n",
    "Dict[\"Name\"]"
   ]
  },
  {
   "cell_type": "code",
   "execution_count": 17,
   "id": "296c7573",
   "metadata": {},
   "outputs": [
    {
     "data": {
      "text/plain": [
       "'B'"
      ]
     },
     "execution_count": 17,
     "metadata": {},
     "output_type": "execute_result"
    }
   ],
   "source": [
    "#accessing from nested dictionary\n",
    "Dict[\"Dic\"][6]"
   ]
  },
  {
   "cell_type": "code",
   "execution_count": 19,
   "id": "2b061027",
   "metadata": {},
   "outputs": [
    {
     "data": {
      "text/plain": [
       "'C'"
      ]
     },
     "execution_count": 19,
     "metadata": {},
     "output_type": "execute_result"
    }
   ],
   "source": [
    "#using dictionary method get()\n",
    "Dict.get(3.4)"
   ]
  },
  {
   "cell_type": "markdown",
   "id": "09d0d795",
   "metadata": {},
   "source": [
    "# Modifications"
   ]
  },
  {
   "cell_type": "code",
   "execution_count": 20,
   "id": "5e30dc8f",
   "metadata": {},
   "outputs": [
    {
     "data": {
      "text/plain": [
       "{1: 'A',\n",
       " 'Name': 'Sam',\n",
       " 3.4: 'C',\n",
       " 'Lis': [1, 2, 3, 4],\n",
       " 'Tup': (1, 2, 3, 4),\n",
       " 'Dic': {5: 'A', 6: 'B'},\n",
       " 'Sirname': 'Jhonson'}"
      ]
     },
     "execution_count": 20,
     "metadata": {},
     "output_type": "execute_result"
    }
   ],
   "source": [
    "#adding item in a dictionary using key value\n",
    "Dict[\"Sirname\"] = \"Jhonson\"\n",
    "Dict"
   ]
  },
  {
   "cell_type": "code",
   "execution_count": 23,
   "id": "1c9f8567",
   "metadata": {},
   "outputs": [
    {
     "data": {
      "text/plain": [
       "{1: 'A',\n",
       " 'Name': 'Sam',\n",
       " 3.4: 'C',\n",
       " 'Lis': [1, 2, 3, 4],\n",
       " 'Tup': (1, 2, 3, 4),\n",
       " 'Dic': {5: 'A', 6: 'B'},\n",
       " 'Sirname': 'Jhonson',\n",
       " 'Middlename': 'Seth'}"
      ]
     },
     "execution_count": 23,
     "metadata": {},
     "output_type": "execute_result"
    }
   ],
   "source": [
    "#update()\n",
    "Dict.update({\"Middlename\":\"Seth\"})\n",
    "Dict"
   ]
  },
  {
   "cell_type": "code",
   "execution_count": 24,
   "id": "08331f68",
   "metadata": {},
   "outputs": [
    {
     "data": {
      "text/plain": [
       "{1: 'A',\n",
       " 'Name': 'Sam',\n",
       " 3.4: 'C',\n",
       " 'Lis': [1, 2, 3, 4],\n",
       " 'Tup': (1, 2, 3, 4),\n",
       " 'Dic': {5: 'A', 6: 'B'},\n",
       " 'Sirname': 'Seth',\n",
       " 'Middlename': 'Seth'}"
      ]
     },
     "execution_count": 24,
     "metadata": {},
     "output_type": "execute_result"
    }
   ],
   "source": [
    "Dict.update({\"Sirname\":\"Seth\"})\n",
    "Dict"
   ]
  },
  {
   "cell_type": "code",
   "execution_count": 31,
   "id": "c7d37391",
   "metadata": {},
   "outputs": [
    {
     "name": "stdout",
     "output_type": "stream",
     "text": [
      "{5: 'Welcome', 7: 'Python', 'A': {1: 'A', 2: 'B', 3: 'C'}, 'B': {1: 'a', 2: 'b'}}\n",
      "{5: 'Welcome', 7: 'Python', 'A': {1: 'A', 3: 'C'}, 'B': {1: 'a', 2: 'b'}}\n"
     ]
    }
   ],
   "source": [
    "#removing an item in dictionary\n",
    "#del keyword\n",
    "Dict = { 5 : 'Welcome', 6 : 'To', 7 : 'Python',\n",
    "        'A' : {1 : 'A', 2 : 'B', 3 : 'C'},\n",
    "        'B' : {1 : 'a', 2 : 'b'}}\n",
    " \n",
    "del Dict[6]\n",
    "print(Dict)\n",
    " \n",
    "# Deleting a Key from nested Dictionary\n",
    "del Dict['A'][2]\n",
    "print(Dict)"
   ]
  },
  {
   "cell_type": "code",
   "execution_count": 33,
   "id": "8f365615",
   "metadata": {},
   "outputs": [
    {
     "data": {
      "text/plain": [
       "{5: 'Welcome', 'A': {1: 'A', 3: 'C'}, 'B': {1: 'a', 2: 'b'}}"
      ]
     },
     "execution_count": 33,
     "metadata": {},
     "output_type": "execute_result"
    }
   ],
   "source": [
    "#pop()\n",
    "Dict.pop(7)\n",
    "Dict"
   ]
  },
  {
   "cell_type": "code",
   "execution_count": 34,
   "id": "26092997",
   "metadata": {},
   "outputs": [
    {
     "data": {
      "text/plain": [
       "{5: 'Welcome', 'A': {1: 'A', 3: 'C'}}"
      ]
     },
     "execution_count": 34,
     "metadata": {},
     "output_type": "execute_result"
    }
   ],
   "source": [
    "#popitem()\n",
    "Dict.popitem()\n",
    "Dict"
   ]
  },
  {
   "cell_type": "code",
   "execution_count": 35,
   "id": "0ec25a53",
   "metadata": {},
   "outputs": [
    {
     "data": {
      "text/plain": [
       "{}"
      ]
     },
     "execution_count": 35,
     "metadata": {},
     "output_type": "execute_result"
    }
   ],
   "source": [
    "#clear()\n",
    "Dict.clear()\n",
    "Dict"
   ]
  },
  {
   "cell_type": "code",
   "execution_count": null,
   "id": "847eeecd",
   "metadata": {},
   "outputs": [],
   "source": []
  }
 ],
 "metadata": {
  "kernelspec": {
   "display_name": "Python 3 (ipykernel)",
   "language": "python",
   "name": "python3"
  },
  "language_info": {
   "codemirror_mode": {
    "name": "ipython",
    "version": 3
   },
   "file_extension": ".py",
   "mimetype": "text/x-python",
   "name": "python",
   "nbconvert_exporter": "python",
   "pygments_lexer": "ipython3",
   "version": "3.9.5"
  }
 },
 "nbformat": 4,
 "nbformat_minor": 5
}
