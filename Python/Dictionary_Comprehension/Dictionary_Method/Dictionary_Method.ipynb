{
  "nbformat": 4,
  "nbformat_minor": 0,
  "metadata": {
    "colab": {
      "name": "Dictionary_Method.ipynb",
      "provenance": []
    },
    "kernelspec": {
      "name": "python3",
      "display_name": "Python 3"
    },
    "language_info": {
      "name": "python"
    }
  },
  "cells": [
    {
      "cell_type": "markdown",
      "metadata": {
        "id": "ULIMprTkVofu"
      },
      "source": [
        "# What are Dictionary Methods?\n"
      ]
    },
    {
      "cell_type": "markdown",
      "metadata": {
        "id": "d1ctxoIiWtmW"
      },
      "source": [
        "Python has a dictionary of built-in methods that you can use on dictionary.<br/>\n",
        "Dictionary in Python is an unordered collection of data values, used to store data values like a map, which, unlike other Data Types that hold only a single value as an element."
      ]
    },
    {
      "cell_type": "markdown",
      "metadata": {
        "id": "KfpfrWmVXHkh"
      },
      "source": [
        "#Main Purpose<br/>\n",
        "Dictionary methods are used to create dictionary or change the contents of a dictionary"
      ]
    },
    {
      "cell_type": "markdown",
      "metadata": {
        "id": "Shxv2NcdbKPB"
      },
      "source": [
        "# Dictionary Representation\n",
        "Dictionary is created using curly braces {}.<br/>\n",
        "Dictionary holds key:value<br/>"
      ]
    },
    {
      "cell_type": "markdown",
      "metadata": {
        "id": "WYvKdU2WEsDR"
      },
      "source": [
        "# Sample Code and Explanation\n",
        "##Clear: Removes all the elements from the dictionary\n",
        "```python\n",
        "Fruit = {\n",
        "  \"Name\":\"Apple\",\n",
        "  \"Quantity\":4,\n",
        "  \"Quality\":\"good\"\n",
        "}\n",
        "Fruit.clear()\n",
        "Fruit\n",
        "```\n",
        "{}"
      ]
    },
    {
      "cell_type": "markdown",
      "metadata": {
        "id": "34-fvBP9J_Fj"
      },
      "source": [
        "## Copy : Returns a copy of the dictionary\n",
        "```python\n",
        "Fruit = {\n",
        "  \"Name\":\"Mango\",\n",
        "  \"Quantity\":4,\n",
        "  \"Quality\":\"good\"\n",
        "}\n",
        "y = Fruit.copy()\n",
        "y\n",
        "```\n",
        "\n",
        "{'Name': 'Mango', 'Quality': 'good', 'Quantity': 4}\n"
      ]
    },
    {
      "cell_type": "markdown",
      "metadata": {
        "id": "dSN6TAx-KVCv"
      },
      "source": [
        "## fromkeys: Returns a dictionary with the specified keys and value\n",
        "```python\n",
        "x = ('key1', 'key2', 'key3')\n",
        "y = 1\n",
        "thisdict = dict.fromkeys(x, y)\n",
        "thisdict\n",
        "```\n",
        "{'key1': 1, 'key2': 1, 'key3': 1}\n"
      ]
    },
    {
      "cell_type": "markdown",
      "metadata": {
        "id": "gVD0bF5qLoYj"
      },
      "source": [
        "## Get: Returns the value of the specified key\n",
        "```python\n",
        "Fruit = {\n",
        "  \"Name\":\"Mango\",\n",
        "  \"Quantity\":4,\n",
        "  \"Quality\":\"good\"\n",
        "}\n",
        "y = Fruit.get(\"Quality\")\n",
        "y\n",
        "```\n",
        "'good'"
      ]
    },
    {
      "cell_type": "markdown",
      "metadata": {
        "id": "7-LJB1dJL7E8"
      },
      "source": [
        "## Items: Returns a list containing a tuple for each key value pair\n",
        "```python\n",
        "Fruit = {\n",
        "  \"Name\":\"Mango\",\n",
        "  \"Quantity\":4,\n",
        "  \"Quality\":\"good\"\n",
        "}\n",
        "y = Fruit.items()\n",
        "y\n",
        "```\n",
        "dict_items([('Name', 'Mango'), ('Quantity', 4), ('Quality', 'good')])\n"
      ]
    },
    {
      "cell_type": "markdown",
      "metadata": {
        "id": "W-W5B3cRMSNl"
      },
      "source": [
        "## keys: Returns a list containing the dictionary's keys\n",
        "```python\n",
        "Fruit = {\n",
        "  \"Name\":\"Mango\",\n",
        "  \"Quantity\":4,\n",
        "  \"Quality\":\"good\"\n",
        "}\n",
        "y = Fruit.keys()\n",
        "y\n",
        "```\n",
        "dict_keys(['Name', 'Quantity', 'Quality'])\n"
      ]
    },
    {
      "cell_type": "markdown",
      "metadata": {
        "id": "Ke0ZTbe7Mg9i"
      },
      "source": [
        "## Pop: Removes the element with the specified key\n",
        "```python\n",
        "Fruit = {\n",
        "  \"Name\":\"Mango\",\n",
        "  \"Quantity\":4,\n",
        "  \"Quality\":\"good\"\n",
        "}\n",
        "Fruit.pop(\"Quantity\")\n",
        "Fruit\n",
        "```\n",
        "{'Name': 'Mango', 'Quality': 'good'}\n"
      ]
    },
    {
      "cell_type": "markdown",
      "metadata": {
        "id": "XcK8wjOYNBIZ"
      },
      "source": [
        "## Setdefault: Returns the value of the specified key. If the key does not exist: insert the key, with the specified value\n",
        "```python\n",
        "Fruit = {\n",
        "  \"Name\":\"Mango\",\n",
        "  \"Quantity\":4,\n",
        "  \"Quality\":\"good\"\n",
        "}\n",
        "y = Fruit.setdefault(\"Quantity\",5)\n",
        "y\n",
        "```\n",
        "4"
      ]
    },
    {
      "cell_type": "markdown",
      "metadata": {
        "id": "NH6-0hP1QKtK"
      },
      "source": [
        "## Update: Updates the dictionary with the specified key-value pairs\n",
        "```python\n",
        "Fruit = {\n",
        "  \"Name\":\"Mango\",\n",
        "  \"Quantity\":4,\n",
        "  \"Quality\":\"good\"\n",
        "}\n",
        "Fruit.update({\"color\":\"yellow\"})\n",
        "Fruit\n",
        "```\n",
        "{'Name': 'Mango', 'Quality': 'good', 'Quantity': 4, 'color': 'yellow'}\n"
      ]
    },
    {
      "cell_type": "markdown",
      "metadata": {
        "id": "0JLq7prMQokk"
      },
      "source": [
        "## Values: Returns a list of all the values in the dictionary\n",
        "```python\n",
        "Fruit = {\n",
        "  \"Name\":\"Mango\",\n",
        "  \"Quantity\":4,\n",
        "  \"Quality\":\"good\"\n",
        "}\n",
        "y= Fruit.values()\n",
        "y\n",
        "```\n",
        "dict_values(['Mango', 4, 'good'])\n"
      ]
    },
    {
      "cell_type": "markdown",
      "metadata": {
        "id": "VMRLg3qjQ5Oj"
      },
      "source": [
        "#Advantage\n",
        "Dictionary formatting is easier. "
      ]
    },
    {
      "cell_type": "markdown",
      "metadata": {
        "id": "w76SXC9BRvbC"
      },
      "source": [
        "#Conclusion\n",
        "Dictionary methods change or manipulate the original dictionary."
      ]
    }
  ]
}