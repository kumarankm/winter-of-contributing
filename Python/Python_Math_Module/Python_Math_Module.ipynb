{
  "nbformat": 4,
  "nbformat_minor": 0,
  "metadata": {
    "colab": {
      "name": "Python_Math_Module.ipynb",
      "provenance": [],
      "collapsed_sections": []
    },
    "kernelspec": {
      "name": "python3",
      "display_name": "Python 3"
    },
    "language_info": {
      "name": "python"
    }
  },
  "cells": [
    {
      "cell_type": "markdown",
      "metadata": {
        "id": "PxA95ZfkTDvI"
      },
      "source": [
        "#  Python Math Module"
      ]
    },
    {
      "cell_type": "markdown",
      "metadata": {
        "id": "vcugxX5WTqZP"
      },
      "source": [
        "# Introduction:-"
      ]
    },
    {
      "cell_type": "markdown",
      "metadata": {
        "id": "ZgmPXmoQT0tU"
      },
      "source": [
        "\n",
        "\n",
        "For doing mathematical calculations Python provides the **math** module to work with the calculations. \n",
        "\n",
        "Python **math** module comes built into Python, so there is no need to install it externally so, we can simply import this for work with mathematical tasks.\n",
        "\n",
        "The **math** module has a set of methods and constants.\n",
        "\n",
        "We can simply import **math** module like this - "
      ]
    },
    {
      "cell_type": "code",
      "metadata": {
        "id": "p-r75_eAXUk_"
      },
      "source": [
        "import math"
      ],
      "execution_count": null,
      "outputs": []
    },
    {
      "cell_type": "markdown",
      "metadata": {
        "id": "FLeWKAIJXdgW"
      },
      "source": [
        "This module provides access to the mathematical functions defined by the C standard.\n",
        "\n",
        "This module does not support complex datatypes. The **cmath** module is the complex counterpart."
      ]
    },
    {
      "cell_type": "markdown",
      "metadata": {
        "id": "X2FCu2SSX4rf"
      },
      "source": [
        "To get all the constants or functions without mentioning the math module in our code we can import math module as - "
      ]
    },
    {
      "cell_type": "code",
      "metadata": {
        "id": "5tEtJkdJYIg4"
      },
      "source": [
        "from math import *"
      ],
      "execution_count": null,
      "outputs": []
    },
    {
      "cell_type": "markdown",
      "metadata": {
        "id": "_l6oB8KkYMxw"
      },
      "source": [
        "\n",
        "# What is inside in **math** module?"
      ]
    },
    {
      "cell_type": "markdown",
      "metadata": {
        "id": "vz2UgkpZYxh0"
      },
      "source": [
        "We can use dir() function to get a list of all attributes containing in this module."
      ]
    },
    {
      "cell_type": "code",
      "metadata": {
        "colab": {
          "base_uri": "https://localhost:8080/"
        },
        "id": "IBz_RJ9fYzGL",
        "outputId": "4ad51fc2-3d0c-4494-ff96-52b36e1be56a"
      },
      "source": [
        "import math \n",
        "\n",
        "print(dir(math))"
      ],
      "execution_count": 1,
      "outputs": [
        {
          "output_type": "stream",
          "name": "stdout",
          "text": [
            "['__doc__', '__loader__', '__name__', '__package__', '__spec__', 'acos', 'acosh', 'asin', 'asinh', 'atan', 'atan2', 'atanh', 'ceil', 'copysign', 'cos', 'cosh', 'degrees', 'e', 'erf', 'erfc', 'exp', 'expm1', 'fabs', 'factorial', 'floor', 'fmod', 'frexp', 'fsum', 'gamma', 'gcd', 'hypot', 'inf', 'isclose', 'isfinite', 'isinf', 'isnan', 'ldexp', 'lgamma', 'log', 'log10', 'log1p', 'log2', 'modf', 'nan', 'pi', 'pow', 'radians', 'remainder', 'sin', 'sinh', 'sqrt', 'tan', 'tanh', 'tau', 'trunc']\n"
          ]
        }
      ]
    },
    {
      "cell_type": "markdown",
      "metadata": {
        "id": "P1_VaXXEZD-z"
      },
      "source": [
        "# Constants in math module:-"
      ]
    },
    {
      "cell_type": "markdown",
      "metadata": {
        "id": "TD8hg-obbb0j"
      },
      "source": [
        "Math module provides various the value of various constants . Having such constants saves the time of writing the value of each constant.\n",
        "\n",
        "Constants provided by the math module are - \n",
        "\n",
        "\n",
        "\n",
        "1.   Pi\n",
        "2.   Euler’s Number\n",
        "3.   Tau\n",
        "4.   Infinity\n",
        "5.   Not a Number (NaN)\n",
        "\n",
        "\n",
        "\n"
      ]
    },
    {
      "cell_type": "markdown",
      "metadata": {
        "id": "uugsLZa0k-KF"
      },
      "source": [
        "**1. Pi:-**\n",
        "\n",
        "The pi is depicted as either 22/7 or 3.141592..... math.pi provides a more precise value for the pi.\n",
        "\n",
        "**Syntax:-**"
      ]
    },
    {
      "cell_type": "code",
      "metadata": {
        "id": "meEHrYnnl7KT"
      },
      "source": [
        "math.pi"
      ],
      "execution_count": null,
      "outputs": []
    },
    {
      "cell_type": "markdown",
      "metadata": {
        "id": "b_kVsCOSmA2B"
      },
      "source": [
        "**Example:-**"
      ]
    },
    {
      "cell_type": "code",
      "metadata": {
        "colab": {
          "base_uri": "https://localhost:8080/"
        },
        "id": "Znf_OgxbmDeZ",
        "outputId": "940169e8-4449-4bcf-a48d-6446505d5362"
      },
      "source": [
        "# Import math Library\n",
        "import math\n",
        " \n",
        "# radius of the circle\n",
        "r = 7\n",
        " \n",
        "# area of the circle\n",
        "area = math.pi * r * r\n",
        " \n",
        "print(\"Area of the Circle is: \", area)"
      ],
      "execution_count": 3,
      "outputs": [
        {
          "output_type": "stream",
          "name": "stdout",
          "text": [
            "Area of the Circle is:  153.93804002589985\n"
          ]
        }
      ]
    },
    {
      "cell_type": "markdown",
      "metadata": {
        "id": "ofR7iPasmuHT"
      },
      "source": [
        "\n",
        "**2. Euler's Number:-**\n",
        "\n",
        "It gives the value of the Euler's Number e = 2.71828182...\n",
        "\n",
        "**Syntax:-**"
      ]
    },
    {
      "cell_type": "code",
      "metadata": {
        "id": "9Y73xz4NnM0n"
      },
      "source": [
        "math.e"
      ],
      "execution_count": null,
      "outputs": []
    },
    {
      "cell_type": "markdown",
      "metadata": {
        "id": "D4yKMt3_nO9i"
      },
      "source": [
        "**Example:-**"
      ]
    },
    {
      "cell_type": "code",
      "metadata": {
        "colab": {
          "base_uri": "https://localhost:8080/"
        },
        "id": "N-YfOZcwnYmC",
        "outputId": "7eadcee9-a857-4389-e5ae-4bbb24bc5630"
      },
      "source": [
        "# Import math Library\n",
        "import math\n",
        " \n",
        "# Print the value of Euler Number\n",
        "print(\"The value of Euler's Number is: \", math.e)"
      ],
      "execution_count": 4,
      "outputs": [
        {
          "output_type": "stream",
          "name": "stdout",
          "text": [
            "The value of Euler's Number is:  2.718281828459045\n"
          ]
        }
      ]
    },
    {
      "cell_type": "markdown",
      "metadata": {
        "id": "88tCpy_Enq_6"
      },
      "source": [
        "**3. Tau:-**\n",
        "\n",
        "Tau is a circle constant equal to 2 * pi, the ratio of a circle’s circumference to its radius. It returns the value 6.2831... with precision.\n",
        "\n",
        "**Syntax:-**"
      ]
    },
    {
      "cell_type": "code",
      "metadata": {
        "id": "B_0LU6MGoaYN"
      },
      "source": [
        "math.tau"
      ],
      "execution_count": null,
      "outputs": []
    },
    {
      "cell_type": "markdown",
      "metadata": {
        "id": "1vOMwXA5ocf-"
      },
      "source": [
        "**Example:-**"
      ]
    },
    {
      "cell_type": "code",
      "metadata": {
        "colab": {
          "base_uri": "https://localhost:8080/"
        },
        "id": "9sD1Hbbsogqz",
        "outputId": "56d088b2-17f1-4c8f-f937-5146ea9675b6"
      },
      "source": [
        "# Import math Library\n",
        "import math\n",
        " \n",
        "# radius of the circle\n",
        "r = 7\n",
        " \n",
        "# circumference of the circle\n",
        "circum = 2 * math.pi * r \n",
        "\n",
        "tau1 = circum / r\n",
        "tau2 = math.tau\n",
        "\n",
        "# Both will print the same value\n",
        "print(\"The value of tau1 is: \", tau1)\n",
        "print(\"the value of tau2 is: \", tau2)"
      ],
      "execution_count": 5,
      "outputs": [
        {
          "output_type": "stream",
          "name": "stdout",
          "text": [
            "The value of tau1 is:  6.283185307179586\n",
            "the value of tau2 is:  6.283185307179586\n"
          ]
        }
      ]
    },
    {
      "cell_type": "markdown",
      "metadata": {
        "id": "QqsXOhXMpfK0"
      },
      "source": [
        "\n",
        "**4. Infinity:-**\n",
        "\n",
        "Infinity basically means something which is boundless from both negative and positive directions. It cannot be decided by a number. The **math.inf** constant returns positive infinity. For negative infinity, **-math.inf** is used.\n",
        "\n",
        "**Syntax:-**"
      ]
    },
    {
      "cell_type": "code",
      "metadata": {
        "id": "jjbqcWaIqB8j"
      },
      "source": [
        "math.inf"
      ],
      "execution_count": null,
      "outputs": []
    },
    {
      "cell_type": "markdown",
      "metadata": {
        "id": "woitgNOaqDy9"
      },
      "source": [
        "**Example:-**"
      ]
    },
    {
      "cell_type": "code",
      "metadata": {
        "colab": {
          "base_uri": "https://localhost:8080/"
        },
        "id": "sgL-KMojqF8i",
        "outputId": "9f93730a-ca72-4418-ac7d-ad2a6bc598b8"
      },
      "source": [
        "# Import math Library\n",
        "import math\n",
        " \n",
        "# Print the positive infinity\n",
        "print(math.inf)\n",
        " \n",
        "# Print the negative infinity\n",
        "print(-math.inf)"
      ],
      "execution_count": 6,
      "outputs": [
        {
          "output_type": "stream",
          "name": "stdout",
          "text": [
            "inf\n",
            "-inf\n"
          ]
        }
      ]
    },
    {
      "cell_type": "markdown",
      "metadata": {
        "id": "qGqwFY5iqamH"
      },
      "source": [
        "**5. Not a Number (NaN):-**\n",
        "\n",
        "This value is not a legal number. It returns floating-point nan (Not a Number) value.\n",
        "\n",
        "**Syntax:-**"
      ]
    },
    {
      "cell_type": "code",
      "metadata": {
        "id": "d9uI0io5rfgr"
      },
      "source": [
        "math.nan"
      ],
      "execution_count": null,
      "outputs": []
    },
    {
      "cell_type": "markdown",
      "metadata": {
        "id": "K0NZdLFbrjCa"
      },
      "source": [
        "**Example:-**"
      ]
    },
    {
      "cell_type": "code",
      "metadata": {
        "colab": {
          "base_uri": "https://localhost:8080/"
        },
        "id": "joTV949qrmI8",
        "outputId": "c245bbea-460f-4ffd-d57d-ecf20ad8c968"
      },
      "source": [
        "# Import math Library\n",
        "import math\n",
        " \n",
        "# Print the value of NaN\n",
        "print(math.nan)"
      ],
      "execution_count": 7,
      "outputs": [
        {
          "output_type": "stream",
          "name": "stdout",
          "text": [
            "nan\n"
          ]
        }
      ]
    },
    {
      "cell_type": "markdown",
      "metadata": {
        "id": "RvTm2e5_rvz5"
      },
      "source": [
        "# Numerical Function:-"
      ]
    },
    {
      "cell_type": "markdown",
      "metadata": {
        "id": "S08bebnyuF-U"
      },
      "source": [
        "This functions are used for numerical calculations."
      ]
    },
    {
      "cell_type": "markdown",
      "metadata": {
        "id": "8VZOha8TvcEu"
      },
      "source": [
        "Some of the numerical functions under math module are - "
      ]
    },
    {
      "cell_type": "markdown",
      "metadata": {
        "id": "oNZpcTvjvnrQ"
      },
      "source": [
        "**1. Ceil Function:-**\n",
        "\n",
        "Returns the ceil of the number , the smallest integer greater than or equal to that number."
      ]
    },
    {
      "cell_type": "code",
      "metadata": {
        "colab": {
          "base_uri": "https://localhost:8080/"
        },
        "id": "i63q_q8uwHQP",
        "outputId": "92f0ea3a-6ac0-4a11-ace5-945b47d0ed70"
      },
      "source": [
        "# Python code for ceil() function\n",
        " \n",
        "# importing \"math\" for mathematical operations\n",
        "import math\n",
        " \n",
        "a = 4.56\n",
        " \n",
        "# Print the ceil of 2.3\n",
        "print (\"The ceil of 2.3 is : \", math.ceil(a))"
      ],
      "execution_count": 8,
      "outputs": [
        {
          "output_type": "stream",
          "name": "stdout",
          "text": [
            "The ceil of 2.3 is :  5\n"
          ]
        }
      ]
    },
    {
      "cell_type": "markdown",
      "metadata": {
        "id": "U68H89gRwhJ-"
      },
      "source": [
        "**2. Floor Function:-**\n",
        "\n"
      ]
    },
    {
      "cell_type": "markdown",
      "metadata": {
        "id": "0UbrxysAwq1r"
      },
      "source": [
        "Returns the floor of the number , the largest integer less than or equal to that number."
      ]
    },
    {
      "cell_type": "code",
      "metadata": {
        "colab": {
          "base_uri": "https://localhost:8080/"
        },
        "id": "7-kxJW6ww3E3",
        "outputId": "ba401a8b-ce4f-407f-8d7b-e0c903c20697"
      },
      "source": [
        "# Python code for floor() function\n",
        " \n",
        "# importing \"math\" for mathematical operations\n",
        "import math\n",
        " \n",
        "a = 4.56\n",
        " \n",
        "# Print the floor of 2.3\n",
        "print (\"The floor of 2.3 is : \", math.floor(a))"
      ],
      "execution_count": 9,
      "outputs": [
        {
          "output_type": "stream",
          "name": "stdout",
          "text": [
            "The floor of 2.3 is :  4\n"
          ]
        }
      ]
    },
    {
      "cell_type": "markdown",
      "metadata": {
        "id": "jrY3L5KjxGsc"
      },
      "source": [
        "**3. Fabs Function:-**"
      ]
    },
    {
      "cell_type": "markdown",
      "metadata": {
        "id": "HqWkjV8uxTjI"
      },
      "source": [
        "Returns the absolute value of that number in floating-point."
      ]
    },
    {
      "cell_type": "code",
      "metadata": {
        "colab": {
          "base_uri": "https://localhost:8080/"
        },
        "id": "7jKE-zuNxbj6",
        "outputId": "c00ce007-a7a2-4d15-a0ba-bd8e278374e5"
      },
      "source": [
        "# Python code for fabs() function\n",
        " \n",
        "# importing \"math\" for mathematical operations\n",
        "import math\n",
        " \n",
        "a = -9\n",
        " \n",
        "# Print the absolute value of -9\n",
        "print (\"The absolute value of -9 is : \", math.fabs(a))"
      ],
      "execution_count": 13,
      "outputs": [
        {
          "output_type": "stream",
          "name": "stdout",
          "text": [
            "The absolute value of -9 is :  9.0\n"
          ]
        }
      ]
    },
    {
      "cell_type": "markdown",
      "metadata": {
        "id": "Iujyu8aAxt7J"
      },
      "source": [
        "**4. Factorial Function:-**"
      ]
    },
    {
      "cell_type": "markdown",
      "metadata": {
        "id": "KYHrivStx0B3"
      },
      "source": [
        "Returns the factorial of a number using factorial function."
      ]
    },
    {
      "cell_type": "code",
      "metadata": {
        "colab": {
          "base_uri": "https://localhost:8080/"
        },
        "id": "ZvEbuWcFx7ON",
        "outputId": "fc413061-c941-4499-f4b3-bc83c9514594"
      },
      "source": [
        "# Python code for factorial() function\n",
        " \n",
        "# importing \"math\" for mathematical operations\n",
        "import math\n",
        " \n",
        "a = 4\n",
        " \n",
        "# Print the factorial of 4\n",
        "print (\"The factorial of 4 is : \", math.factorial(a))"
      ],
      "execution_count": 11,
      "outputs": [
        {
          "output_type": "stream",
          "name": "stdout",
          "text": [
            "The factorial of 4 is :  24\n"
          ]
        }
      ]
    },
    {
      "cell_type": "markdown",
      "metadata": {
        "id": "piaPu-eQyMY-"
      },
      "source": [
        "**5. GCD Function:-**"
      ]
    },
    {
      "cell_type": "markdown",
      "metadata": {
        "id": "FaVgwKGOyWBQ"
      },
      "source": [
        "Returns the greatest common divisor of the specified integer arguments using this function."
      ]
    },
    {
      "cell_type": "code",
      "metadata": {
        "colab": {
          "base_uri": "https://localhost:8080/"
        },
        "id": "ysjEmVij08ff",
        "outputId": "013e16fa-d703-4aa8-9974-aab4f3d9a46b"
      },
      "source": [
        "# Python code for gcd() function\n",
        "\n",
        "# importing \"math\" for mathematical operations\n",
        "import math\n",
        " \n",
        "a = 4\n",
        "b = 16\n",
        "\n",
        "# Print the gcd of 4 and 16\n",
        "print (\"The gcd of 4 and 16 is : \", math.gcd(a, b))"
      ],
      "execution_count": 12,
      "outputs": [
        {
          "output_type": "stream",
          "name": "stdout",
          "text": [
            "The gcd of 4 and 16 is :  4\n"
          ]
        }
      ]
    },
    {
      "cell_type": "markdown",
      "metadata": {
        "id": "tePSYzOi5P0W"
      },
      "source": [
        "# Power and Logarithmic Function:-"
      ]
    },
    {
      "cell_type": "markdown",
      "metadata": {
        "id": "dnz9QJVI7RVU"
      },
      "source": [
        "Power functions can be expressed as a number is the power of another number whereas logarithmic functions are considered as a number is the logarithm of another number .\n"
      ]
    },
    {
      "cell_type": "markdown",
      "metadata": {
        "id": "hVbIRvm37zlC"
      },
      "source": [
        "Some of the power and logarithmic functions are - "
      ]
    },
    {
      "cell_type": "markdown",
      "metadata": {
        "id": "3XP4Wok477o-"
      },
      "source": [
        "**1. Exp Function:-**"
      ]
    },
    {
      "cell_type": "markdown",
      "metadata": {
        "id": "SSwcvOz48fnH"
      },
      "source": [
        "It is used to calculate the exponent of a number. Let a number a then it is used to calculate the value of e ^ a, where the value of e is 2.71..."
      ]
    },
    {
      "cell_type": "markdown",
      "metadata": {
        "id": "T9_KFMrj89YW"
      },
      "source": [
        "**Example:-**"
      ]
    },
    {
      "cell_type": "code",
      "metadata": {
        "colab": {
          "base_uri": "https://localhost:8080/"
        },
        "id": "jJ2vHUM38_7W",
        "outputId": "8cf39c04-a691-4b1c-8e94-51c1b5930059"
      },
      "source": [
        "# Python3 code to demonstrate the working of exp()\n",
        "import math\n",
        " \n",
        "# initializing the values\n",
        "pos_int = 5\n",
        "neg_int = -5\n",
        "zero_value = 0\n",
        " \n",
        "# checking exp function values for different numbers\n",
        "print(math.exp(pos_int))\n",
        "print(math.exp(neg_int))\n",
        "print(math.exp(zero_value))"
      ],
      "execution_count": 14,
      "outputs": [
        {
          "output_type": "stream",
          "name": "stdout",
          "text": [
            "148.4131591025766\n",
            "0.006737946999085467\n",
            "1.0\n"
          ]
        }
      ]
    },
    {
      "cell_type": "markdown",
      "metadata": {
        "id": "bQ-6n93K93L0"
      },
      "source": [
        "**2. Logarithm Function:-**"
      ]
    },
    {
      "cell_type": "markdown",
      "metadata": {
        "id": "g359Skvy-NWd"
      },
      "source": [
        "1. log(a,b) function returns the logarithmic value of a with base b. \n",
        "If the base is not mentioned, the computed value is of the natural log.\n",
        "\n",
        "2. log2(a) function computes value of log a with base 2. \n",
        "\n",
        "3. log10(a) function computes value of log a with base 10. \n",
        "\n",
        "All computed values are in floating-point.\n",
        "\n"
      ]
    },
    {
      "cell_type": "markdown",
      "metadata": {
        "id": "shelRnNO-w-_"
      },
      "source": [
        "**Example:-**"
      ]
    },
    {
      "cell_type": "code",
      "metadata": {
        "colab": {
          "base_uri": "https://localhost:8080/"
        },
        "id": "ii_5kni1-z8C",
        "outputId": "86c3c8e5-4d27-4903-8625-b15028cb49c3"
      },
      "source": [
        "# Python code to demonstrate the working of logarithm\n",
        " \n",
        "# importing \"math\" for mathematical operations\n",
        "import math\n",
        " \n",
        " \n",
        "# prints the log of 4,2\n",
        "print(\"The value of log 4 with base 2 is : \", math.log(4,2))\n",
        "\n",
        "# prints the natural log of 16\n",
        "print(\"The value of natural log of 16 is : \", math.log(16))\n",
        " \n",
        "# prints the log2 of 32\n",
        "print(\"The value of log2 of 32 is : \", math.log2(32))\n",
        "    \n",
        "# prints the log10 of 100\n",
        "print(\"The value of log10 of 100 is : \", math.log10(100))"
      ],
      "execution_count": 15,
      "outputs": [
        {
          "output_type": "stream",
          "name": "stdout",
          "text": [
            "The value of log 4 with base 2 is :  2.0\n",
            "The value of natural log of 16 is :  2.772588722239781\n",
            "The value of log2 of 32 is :  5.0\n",
            "The value of log10 of 100 is :  2.0\n"
          ]
        }
      ]
    },
    {
      "cell_type": "markdown",
      "metadata": {
        "id": "D1VxZseAADxV"
      },
      "source": [
        "3. Power Function:-"
      ]
    },
    {
      "cell_type": "markdown",
      "metadata": {
        "id": "lvs7z5gIAO3U"
      },
      "source": [
        "pow() function can be expressed as a number is the power of another number. This function first converts its arguments into float and then computes the power."
      ]
    },
    {
      "cell_type": "markdown",
      "metadata": {
        "id": "leoJXCQDAqjj"
      },
      "source": [
        "**Example:-**"
      ]
    },
    {
      "cell_type": "code",
      "metadata": {
        "colab": {
          "base_uri": "https://localhost:8080/"
        },
        "id": "CMAypbS9As7D",
        "outputId": "69939d56-4517-4f75-ffa1-c8ac43beb0a0"
      },
      "source": [
        "# Python code to demonstrate pow function\n",
        "\n",
        "# prints the value of 2 to the power 5 which is 32\n",
        "print(\"The value of 2**5 is : \", pow(2,5))"
      ],
      "execution_count": 17,
      "outputs": [
        {
          "output_type": "stream",
          "name": "stdout",
          "text": [
            "The value of 2**5 is :  32.0\n"
          ]
        }
      ]
    },
    {
      "cell_type": "markdown",
      "metadata": {
        "id": "XDPqENxDBZWe"
      },
      "source": [
        "**4. Square Root Function:-**"
      ]
    },
    {
      "cell_type": "markdown",
      "metadata": {
        "id": "OmsnE8wsBd4q"
      },
      "source": [
        "This function returns the square root of a number."
      ]
    },
    {
      "cell_type": "markdown",
      "metadata": {
        "id": "ETvLLs92BkWa"
      },
      "source": [
        "**Example:-**"
      ]
    },
    {
      "cell_type": "code",
      "metadata": {
        "colab": {
          "base_uri": "https://localhost:8080/"
        },
        "id": "e_vZiXTcBnoQ",
        "outputId": "cf8c78b2-9656-4e70-c3cd-f23e57980f94"
      },
      "source": [
        "# Python3 program to demonstrate the sqrt function\n",
        " \n",
        "# import the math module\n",
        "import math\n",
        " \n",
        "# print the square root of 0\n",
        "print(math.sqrt(0))\n",
        " \n",
        "# print the square root of 16\n",
        "print(math.sqrt(16))\n",
        " \n",
        "# print the square root of 17.2\n",
        "print(math.sqrt(17.2))"
      ],
      "execution_count": 19,
      "outputs": [
        {
          "output_type": "stream",
          "name": "stdout",
          "text": [
            "0.0\n",
            "4.0\n",
            "4.147288270665544\n"
          ]
        }
      ]
    },
    {
      "cell_type": "markdown",
      "metadata": {
        "id": "YNRIkCatCBVK"
      },
      "source": [
        "It will throw an error for square root value of negative number."
      ]
    },
    {
      "cell_type": "code",
      "metadata": {
        "colab": {
          "base_uri": "https://localhost:8080/",
          "height": 195
        },
        "id": "fM1yqhBcCQTt",
        "outputId": "985ffce6-b8ca-4bf3-c977-466e0b21630e"
      },
      "source": [
        "import math\n",
        "\n",
        "print(math.sqrt(-16))"
      ],
      "execution_count": 20,
      "outputs": [
        {
          "output_type": "error",
          "ename": "ValueError",
          "evalue": "ignored",
          "traceback": [
            "\u001b[0;31m---------------------------------------------------------------------------\u001b[0m",
            "\u001b[0;31mValueError\u001b[0m                                Traceback (most recent call last)",
            "\u001b[0;32m<ipython-input-20-3185ee4e8a18>\u001b[0m in \u001b[0;36m<module>\u001b[0;34m()\u001b[0m\n\u001b[1;32m      1\u001b[0m \u001b[0;32mimport\u001b[0m \u001b[0mmath\u001b[0m\u001b[0;34m\u001b[0m\u001b[0;34m\u001b[0m\u001b[0m\n\u001b[1;32m      2\u001b[0m \u001b[0;34m\u001b[0m\u001b[0m\n\u001b[0;32m----> 3\u001b[0;31m \u001b[0mprint\u001b[0m\u001b[0;34m(\u001b[0m\u001b[0mmath\u001b[0m\u001b[0;34m.\u001b[0m\u001b[0msqrt\u001b[0m\u001b[0;34m(\u001b[0m\u001b[0;34m-\u001b[0m\u001b[0;36m16\u001b[0m\u001b[0;34m)\u001b[0m\u001b[0;34m)\u001b[0m\u001b[0;34m\u001b[0m\u001b[0;34m\u001b[0m\u001b[0m\n\u001b[0m",
            "\u001b[0;31mValueError\u001b[0m: math domain error"
          ]
        }
      ]
    },
    {
      "cell_type": "markdown",
      "metadata": {
        "id": "GCWHDbJICXJv"
      },
      "source": [
        "# Trigonometric Functions:-"
      ]
    },
    {
      "cell_type": "markdown",
      "metadata": {
        "id": "EcnKUcSdCt4M"
      },
      "source": [
        "Trigonometric functions are used to find the values of sine, cosine and tangent etc. values of any angle. The value passed in this function should be in radians."
      ]
    },
    {
      "cell_type": "markdown",
      "metadata": {
        "id": "1denzOAkDRCp"
      },
      "source": [
        "**Example:-**"
      ]
    },
    {
      "cell_type": "code",
      "metadata": {
        "colab": {
          "base_uri": "https://localhost:8080/"
        },
        "id": "UpZVge1WDUO5",
        "outputId": "1fb185eb-22f0-4128-8258-a3259d69438f"
      },
      "source": [
        "# Python code to demonstrate the working of sin, cos, and tan functions.\n",
        " \n",
        "# importing \"math\" for mathematical operations\n",
        "import math\n",
        " \n",
        "a = math.pi/4\n",
        " \n",
        "# print the value of sine of pi/4\n",
        "print(\"The value of sine of pi/4 is : \", math.sin(a))\n",
        " \n",
        "# print the value of cosine of pi/4\n",
        "print(\"The value of cosine of pi/4 is : \", math.cos(a))\n",
        "\n",
        "# print the value of tangent of pi/4\n",
        "print(\"The value of tangent of pi/4 is : \", math.tan(a))"
      ],
      "execution_count": 25,
      "outputs": [
        {
          "output_type": "stream",
          "name": "stdout",
          "text": [
            "The value of sine of pi/4 is :  0.7071067811865475\n",
            "The value of cosine of pi/4 is :  0.7071067811865476\n",
            "The value of tangent of pi/4 is :  0.9999999999999999\n"
          ]
        }
      ]
    },
    {
      "cell_type": "markdown",
      "metadata": {
        "id": "GV2vu274EY5V"
      },
      "source": [
        "For arc angle values asin, acos, atan is used."
      ]
    },
    {
      "cell_type": "markdown",
      "metadata": {
        "id": "T5dhSCQwEgtj"
      },
      "source": [
        "# Angular Functions:-"
      ]
    },
    {
      "cell_type": "markdown",
      "metadata": {
        "id": "FgYe7GZMEmw9"
      },
      "source": [
        "1. degrees() function is used to convert value from radians to degrees.\n",
        "2. radians() function is used to convert value from degrees to radians."
      ]
    },
    {
      "cell_type": "markdown",
      "metadata": {
        "id": "szQN3I_iFELD"
      },
      "source": [
        "**Example:-**"
      ]
    },
    {
      "cell_type": "code",
      "metadata": {
        "colab": {
          "base_uri": "https://localhost:8080/"
        },
        "id": "rYuONXCZFHu3",
        "outputId": "8dabadf3-a960-4a37-dd71-356243e5ae03"
      },
      "source": [
        "# Python code to demonstrate the working of degrees and radians functions\n",
        " \n",
        "# importing \"math\" for mathematical operations\n",
        "import math\n",
        " \n",
        "a = math.pi\n",
        " \n",
        "# print the converted value from radians to degrees\n",
        "print(\"The converted value from radians to degrees is : \", math.degrees(a))\n",
        " \n",
        "# print the converted value from degrees to radians\n",
        "print(\"The converted value from degrees to radians is : \", math.radians(90))"
      ],
      "execution_count": 27,
      "outputs": [
        {
          "output_type": "stream",
          "name": "stdout",
          "text": [
            "The converted value from radians to degrees is :  180.0\n",
            "The converted value from degrees to radians is :  1.5707963267948966\n"
          ]
        }
      ]
    },
    {
      "cell_type": "markdown",
      "metadata": {
        "id": "wMy2pjqZNJTF"
      },
      "source": [
        "# Special Functions"
      ]
    },
    {
      "cell_type": "markdown",
      "metadata": {
        "id": "0O9uiKO5NNmf"
      },
      "source": [
        "Special functions are also useful for calculations purpose."
      ]
    },
    {
      "cell_type": "markdown",
      "metadata": {
        "id": "q56cYrOpNZau"
      },
      "source": [
        "Some special functions are - \n",
        "\n",
        "**1. gamma:-**\n",
        "Returns gamma value of given argument\n",
        "\n",
        "**2. erf:-**\n",
        "Returns cumulative standard value used in Statistics."
      ]
    },
    {
      "cell_type": "markdown",
      "metadata": {
        "id": "uuxytsMzONye"
      },
      "source": [
        "# References:-\n",
        "\n",
        "For more details, visit the websites below,\n",
        "  - [Programiz](https://www.programiz.com/python-programming/modules/math)\n",
        "  - [W3 schools](https://www.w3schools.com/python/module_math.asp)\n",
        "  - [Geeks for Geeks](https://www.geeksforgeeks.org/python-math-module)"
      ]
    }
  ]
}