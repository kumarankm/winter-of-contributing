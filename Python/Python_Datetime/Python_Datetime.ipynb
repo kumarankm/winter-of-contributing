{
  "nbformat": 4,
  "nbformat_minor": 0,
  "metadata": {
    "colab": {
      "name": "Python_Datetime.ipynb",
      "provenance": [],
      "collapsed_sections": []
    },
    "kernelspec": {
      "name": "python3",
      "display_name": "Python 3"
    },
    "language_info": {
      "name": "python"
    }
  },
  "cells": [
    {
      "cell_type": "markdown",
      "metadata": {
        "id": "5w_XIaZCIZ3l"
      },
      "source": [
        "# Python datetime module"
      ]
    },
    {
      "cell_type": "markdown",
      "metadata": {
        "id": "PL6z2RvclvgY"
      },
      "source": [
        "# Introduction:-"
      ]
    },
    {
      "cell_type": "markdown",
      "metadata": {
        "id": "gvXzQLJumLGr"
      },
      "source": [
        "Python Datetime module provides classes to work with date and time. These classes provide a number of functions to work with dates, times and time intervals. Date and datetime are an object in Python, so when you manipulate them, you are actually manipulating objects and not string or timestamps. \n",
        "\n",
        "Python Datetime module comes built into Python, so there is no need to install it externally so, we can simply import this to work with the date as well as time.\n",
        "\n",
        "We can simply import datetime module like this - "
      ]
    },
    {
      "cell_type": "code",
      "metadata": {
        "id": "n22qJcOPm1zK"
      },
      "source": [
        "import datetime "
      ],
      "execution_count": null,
      "outputs": []
    },
    {
      "cell_type": "markdown",
      "metadata": {
        "id": "M7a37Dq8nH34"
      },
      "source": [
        "To get all the classes or functions without mentioning the datetime module in our code we can import datetime as - "
      ]
    },
    {
      "cell_type": "code",
      "metadata": {
        "id": "8nRV2RC-nl2V"
      },
      "source": [
        "from datetime import *"
      ],
      "execution_count": 1,
      "outputs": []
    },
    {
      "cell_type": "markdown",
      "metadata": {
        "id": "UpPMeGYantq3"
      },
      "source": [
        "# **What is inside in datetime module?**\n",
        "\n",
        "We can use dir() function to get a list of all attributes containing in this module."
      ]
    },
    {
      "cell_type": "code",
      "metadata": {
        "colab": {
          "base_uri": "https://localhost:8080/"
        },
        "id": "dwtFWIq0qVLQ",
        "outputId": "67ec0fd0-c310-4980-95c5-2e48d3058d91"
      },
      "source": [
        "import datetime\n",
        "\n",
        "print(dir(datetime))"
      ],
      "execution_count": 2,
      "outputs": [
        {
          "output_type": "stream",
          "name": "stdout",
          "text": [
            "['MAXYEAR', 'MINYEAR', '__builtins__', '__cached__', '__doc__', '__file__', '__loader__', '__name__', '__package__', '__spec__', 'date', 'datetime', 'datetime_CAPI', 'sys', 'time', 'timedelta', 'timezone', 'tzinfo']\n"
          ]
        }
      ]
    },
    {
      "cell_type": "markdown",
      "metadata": {
        "id": "ozM9O0Ccqffc"
      },
      "source": [
        "**Get Current Date And Time:-**"
      ]
    },
    {
      "cell_type": "code",
      "metadata": {
        "colab": {
          "base_uri": "https://localhost:8080/"
        },
        "id": "5wdKR7CasXSx",
        "outputId": "8429e74c-86d1-42e7-9361-52a2ee318249"
      },
      "source": [
        "import datetime\n",
        "\n",
        "datetime_obj = datetime.datetime.now()\n",
        "print(datetime_obj)"
      ],
      "execution_count": 3,
      "outputs": [
        {
          "output_type": "stream",
          "name": "stdout",
          "text": [
            "2021-11-01 08:50:57.003083\n"
          ]
        }
      ]
    },
    {
      "cell_type": "markdown",
      "metadata": {
        "id": "Hxzcm6lNseYi"
      },
      "source": [
        "One of the classes defined in the datetime module is datetime class. We then used now() method to create a datetime object containing our current local date and time."
      ]
    },
    {
      "cell_type": "markdown",
      "metadata": {
        "id": "VB9LZHuUsq0r"
      },
      "source": [
        "Most Commonly used classes in the datetime module are - \n",
        "\n",
        "\n",
        "\n",
        "1.   date class\n",
        "2.   time class \n",
        "3.   datetime class\n",
        "4.   timedelta class\n",
        "\n",
        "\n",
        "\n"
      ]
    },
    {
      "cell_type": "markdown",
      "metadata": {
        "id": "u58ddGHlwWIY"
      },
      "source": [
        "# 1. **Date Class:-**"
      ]
    },
    {
      "cell_type": "markdown",
      "metadata": {
        "id": "e-095WtVwa91"
      },
      "source": [
        "We can use date objects from the date class. A date object represents a date (year, month and day).\n",
        "\n",
        "**Syntax:-**"
      ]
    },
    {
      "cell_type": "code",
      "metadata": {
        "id": "g5cROnf37V_2"
      },
      "source": [
        "class datetime.date(year, month, day)"
      ],
      "execution_count": null,
      "outputs": []
    },
    {
      "cell_type": "markdown",
      "metadata": {
        "id": "dXK8hOnd7eVP"
      },
      "source": [
        "Remember that – If the argument is not an integer it will raise a TypeError and if it is outside the range a ValueError will be raised. "
      ]
    },
    {
      "cell_type": "markdown",
      "metadata": {
        "id": "PCoyMkzS7rBd"
      },
      "source": [
        "**Example 1:**\n",
        "\n",
        "***Creating Date Objects to represent the date:-***\n",
        "\n",
        "\n",
        "To create a date, we can use the date class of the datetime module.\n",
        "\n",
        "The date() constructor of data class requires three parameters to create a date: year, month, day."
      ]
    },
    {
      "cell_type": "code",
      "metadata": {
        "colab": {
          "base_uri": "https://localhost:8080/"
        },
        "id": "97MPF2ja8lRc",
        "outputId": "668c12b6-5a75-41ae-a766-f3db86702e47"
      },
      "source": [
        "from datetime import date\n",
        "\n",
        "d=date(2021, 11, 1)\n",
        "print(\"The date is: \", d)"
      ],
      "execution_count": 4,
      "outputs": [
        {
          "output_type": "stream",
          "name": "stdout",
          "text": [
            "The date is:  2021-11-01\n"
          ]
        }
      ]
    },
    {
      "cell_type": "markdown",
      "metadata": {
        "id": "dyGyz-DX-d_c"
      },
      "source": [
        "But if we use any of the argument as string we will get typeerror as shown below."
      ]
    },
    {
      "cell_type": "code",
      "metadata": {
        "colab": {
          "base_uri": "https://localhost:8080/",
          "height": 212
        },
        "id": "pgN7cSif_Sdo",
        "outputId": "1fdb49b4-8627-4462-8da7-5f52757a00cb"
      },
      "source": [
        "from datetime import date\n",
        "\n",
        "d=date('2021', 11, '1')\n",
        "print(\"The date is: \", d)"
      ],
      "execution_count": 6,
      "outputs": [
        {
          "output_type": "error",
          "ename": "TypeError",
          "evalue": "ignored",
          "traceback": [
            "\u001b[0;31m---------------------------------------------------------------------------\u001b[0m",
            "\u001b[0;31mTypeError\u001b[0m                                 Traceback (most recent call last)",
            "\u001b[0;32m<ipython-input-6-8634b74f99fc>\u001b[0m in \u001b[0;36m<module>\u001b[0;34m()\u001b[0m\n\u001b[1;32m      1\u001b[0m \u001b[0;32mfrom\u001b[0m \u001b[0mdatetime\u001b[0m \u001b[0;32mimport\u001b[0m \u001b[0mdate\u001b[0m\u001b[0;34m\u001b[0m\u001b[0;34m\u001b[0m\u001b[0m\n\u001b[1;32m      2\u001b[0m \u001b[0;34m\u001b[0m\u001b[0m\n\u001b[0;32m----> 3\u001b[0;31m \u001b[0md\u001b[0m\u001b[0;34m=\u001b[0m\u001b[0mdate\u001b[0m\u001b[0;34m(\u001b[0m\u001b[0;34m'2021'\u001b[0m\u001b[0;34m,\u001b[0m \u001b[0;36m11\u001b[0m\u001b[0;34m,\u001b[0m \u001b[0;34m'1'\u001b[0m\u001b[0;34m)\u001b[0m\u001b[0;34m\u001b[0m\u001b[0;34m\u001b[0m\u001b[0m\n\u001b[0m\u001b[1;32m      4\u001b[0m \u001b[0mprint\u001b[0m\u001b[0;34m(\u001b[0m\u001b[0;34m\"The date is: \"\u001b[0m\u001b[0;34m,\u001b[0m \u001b[0md\u001b[0m\u001b[0;34m)\u001b[0m\u001b[0;34m\u001b[0m\u001b[0;34m\u001b[0m\u001b[0m\n",
            "\u001b[0;31mTypeError\u001b[0m: an integer is required (got type str)"
          ]
        }
      ]
    },
    {
      "cell_type": "markdown",
      "metadata": {
        "id": "hn9sVcw5_0tR"
      },
      "source": [
        "Example 2:\n",
        "\n",
        "***Get the current date***\n",
        "\n",
        "To get the current local date today() function of date class is used. today() function comes with attributes such as - year, month and day.  "
      ]
    },
    {
      "cell_type": "code",
      "metadata": {
        "colab": {
          "base_uri": "https://localhost:8080/"
        },
        "id": "ySGJmLfOCc-m",
        "outputId": "6b844c27-553e-40e4-91b1-a051641402ce"
      },
      "source": [
        "from datetime import date\n",
        " \n",
        "# calling the today\n",
        "# function of date class\n",
        "today_date = date.today()\n",
        " \n",
        "print(\"The Current date is\", today_date)"
      ],
      "execution_count": 7,
      "outputs": [
        {
          "output_type": "stream",
          "name": "stdout",
          "text": [
            "The Current date is 2021-11-01\n"
          ]
        }
      ]
    },
    {
      "cell_type": "markdown",
      "metadata": {
        "id": "AZS2Z69XDOOO"
      },
      "source": [
        "Example 3:\n",
        "\n",
        "***Get date from timestamp***\n",
        "\n",
        "We can also create date objects from a timestamp. A  timestamp is the number of seconds between a particular date and January 1, 1970 at UTC. We can convert a timestamp to date using fromtimestamp() method."
      ]
    },
    {
      "cell_type": "code",
      "metadata": {
        "colab": {
          "base_uri": "https://localhost:8080/"
        },
        "id": "or9nNMsfDhRT",
        "outputId": "103adb69-152c-44b7-e072-43771c2ab46b"
      },
      "source": [
        "from datetime import datetime\n",
        "\n",
        "# Getting Datetime from timestamp\n",
        "date_time = datetime.fromtimestamp(1987558667)\n",
        "print(\"Getting Datetime from timestamp:\", date_time)\n"
      ],
      "execution_count": 9,
      "outputs": [
        {
          "output_type": "stream",
          "name": "stdout",
          "text": [
            "Getting Datetime from timestamp: 2032-12-25 03:37:47\n"
          ]
        }
      ]
    },
    {
      "cell_type": "markdown",
      "metadata": {
        "id": "cQz4BpRiEEBC"
      },
      "source": [
        "**Example 4:**\n",
        "\n",
        "***Get today's year, month and date***\n",
        "\n",
        "We can get the year, month, and date attributes from the date object using the year, month and date attribute of the date class. "
      ]
    },
    {
      "cell_type": "code",
      "metadata": {
        "colab": {
          "base_uri": "https://localhost:8080/"
        },
        "id": "nhD52vnSEkiI",
        "outputId": "ab043b9a-1cd9-4dab-a8dd-9b0d27dd3f1e"
      },
      "source": [
        "from datetime import date\n",
        "\n",
        "# date object of today's date\n",
        "today_dateobj = date.today() \n",
        "\n",
        "print(\"Current year:\", today_dateobj.year)\n",
        "print(\"Current month:\", today_dateobj.month)\n",
        "print(\"Current day:\", today_dateobj.day)"
      ],
      "execution_count": 10,
      "outputs": [
        {
          "output_type": "stream",
          "name": "stdout",
          "text": [
            "Current year: 2021\n",
            "Current month: 11\n",
            "Current day: 1\n"
          ]
        }
      ]
    },
    {
      "cell_type": "markdown",
      "metadata": {
        "id": "E1_frpSTTFIj"
      },
      "source": [
        "\n",
        "\n",
        "# 2. **Time Class:-**\n",
        "\n",
        "The time class creates the time object which represents local time.\n",
        "\n",
        "**Syntax:-**\n",
        "\n"
      ]
    },
    {
      "cell_type": "code",
      "metadata": {
        "id": "23tN_0h-T3Yh"
      },
      "source": [
        "class datetime.time(hour, minute, second, microsecond)"
      ],
      "execution_count": null,
      "outputs": []
    },
    {
      "cell_type": "markdown",
      "metadata": {
        "id": "neaU8fkfUIGS"
      },
      "source": [
        "**Example 1:**\n",
        "\n",
        "***Time object to represent time***\n",
        "\n",
        "To get time, we can use the time class of the datetime module."
      ]
    },
    {
      "cell_type": "code",
      "metadata": {
        "colab": {
          "base_uri": "https://localhost:8080/"
        },
        "id": "yJkcfxepWEL0",
        "outputId": "2c28205b-947a-45bb-e5c6-ad8c76b794e6"
      },
      "source": [
        "from datetime import time\n",
        "\n",
        "# time(hour = 0, minute = 0, second = 0) \n",
        "# if no arguments are passed then it takes 0 as default value of argument\n",
        "first = time()\n",
        "print(\"Get time without argument =\", first)\n",
        "\n",
        "# time(hour, minute and second)\n",
        "second = time(12, 20, 43)\n",
        "print(\"Get time with three argument =\", second)\n",
        "\n",
        "# time(hour, minute and second) \n",
        "# declaring the arguments with variables explicitly\n",
        "third = time(hour = 12, minute = 20, second = 43)\n",
        "print(\"Get time with three argument using variables =\", third)\n",
        "\n",
        "# time(hour, minute, second, microsecond)\n",
        "fourth = time(12, 20, 43, 154564)\n",
        "print(\"Get time with four argument =\", fourth)"
      ],
      "execution_count": 13,
      "outputs": [
        {
          "output_type": "stream",
          "name": "stdout",
          "text": [
            "Get time without argument = 00:00:00\n",
            "Get time with three argument = 12:20:43\n",
            "Get time with three argument using variables = 12:20:43\n",
            "Get time with four argument = 12:20:43.154564\n"
          ]
        }
      ]
    },
    {
      "cell_type": "markdown",
      "metadata": {
        "id": "FymhK5PbXquI"
      },
      "source": [
        "**Example 2:**\n",
        "\n",
        "***Get hours, minutes, seconds, and microseconds***\n",
        "\n",
        "After creating a time object, it's attributes can also be printed separately. "
      ]
    },
    {
      "cell_type": "code",
      "metadata": {
        "colab": {
          "base_uri": "https://localhost:8080/"
        },
        "id": "NiI8jeBubqR9",
        "outputId": "86a864a0-9159-42cf-f2d5-c27543593efd"
      },
      "source": [
        "from datetime import time\n",
        "\n",
        "Time = time(12, 20, 43)\n",
        "\n",
        "print(\"hour =\", Time.hour)\n",
        "print(\"minute =\", Time.minute)\n",
        "print(\"second =\", Time.second)\n",
        "print(\"microsecond =\", Time.microsecond)\n"
      ],
      "execution_count": 14,
      "outputs": [
        {
          "output_type": "stream",
          "name": "stdout",
          "text": [
            "hour = 12\n",
            "minute = 20\n",
            "second = 43\n",
            "microsecond = 0\n"
          ]
        }
      ]
    },
    {
      "cell_type": "markdown",
      "metadata": {
        "id": "earDwdsQb2Y2"
      },
      "source": [
        "Note that - we haven't passed microsecond argument. Hence, it's default value 0 is printed."
      ]
    },
    {
      "cell_type": "markdown",
      "metadata": {
        "id": "VUFxN5reb_ET"
      },
      "source": [
        "\n",
        "# 3. **Datetime Class:-**\n",
        "\n",
        "The datetime module has a class named dateclass that can contain information from both date and time objects.\n",
        "\n",
        "**Syntax:-**\n"
      ]
    },
    {
      "cell_type": "code",
      "metadata": {
        "id": "o-2alAblcw7Q"
      },
      "source": [
        "class datetime.datetime(year, month, day, hour, minute, second, microsecond)"
      ],
      "execution_count": null,
      "outputs": []
    },
    {
      "cell_type": "markdown",
      "metadata": {
        "id": "HonYxP-KdHV5"
      },
      "source": [
        "\n",
        "**Example 1:**\n",
        "\n",
        "***Datetime object to represent datetime***\n",
        "\n",
        "To get date and time, we can use the datetime class of the datetime module."
      ]
    },
    {
      "cell_type": "code",
      "metadata": {
        "colab": {
          "base_uri": "https://localhost:8080/"
        },
        "id": "bxoW3LKNddGn",
        "outputId": "dfd63684-0912-46a9-d5f8-3ad6c14cceda"
      },
      "source": [
        "from datetime import datetime\n",
        "\n",
        "#datetime(year, month, day)\n",
        "first = datetime(2021, 11, 1)\n",
        "print(\"Date time with three parameters: \", first)\n",
        "\n",
        "# datetime(year, month, day, hour, minute, second, microsecond)\n",
        "second = datetime(2021, 11, 1, 11, 30, 35, 243561)\n",
        "print(\"Date time with seven parameters: \", second)"
      ],
      "execution_count": 16,
      "outputs": [
        {
          "output_type": "stream",
          "name": "stdout",
          "text": [
            "Date time with three parameters:  2021-11-01 00:00:00\n",
            "Date time with seven parameters:  2021-11-01 11:30:35.243561\n"
          ]
        }
      ]
    },
    {
      "cell_type": "markdown",
      "metadata": {
        "id": "4Wsyt2hUeShc"
      },
      "source": [
        "**Example 2:**\n",
        "\n",
        "***Get year, month, day, hours, minutes, seconds and microseconds***\n",
        "\n",
        "After creating a datetime object, it's attributes can also be printed separately."
      ]
    },
    {
      "cell_type": "code",
      "metadata": {
        "colab": {
          "base_uri": "https://localhost:8080/"
        },
        "id": "n2TQRd3HgoPa",
        "outputId": "edc67eee-7c1c-4069-dacf-b506ca3f3e1e"
      },
      "source": [
        "from datetime import datetime\n",
        "\n",
        "obj = datetime(2021, 11, 1, 11, 30, 35, 243561)\n",
        "\n",
        "print(\"year =\", obj.year)\n",
        "print(\"month =\", obj.month)\n",
        "print(\"day =\", obj.day)\n",
        "print(\"hour =\", obj.hour)\n",
        "print(\"minute =\", obj.minute)\n",
        "print(\"second =\", obj.second)\n",
        "print(\"microsecond =\", obj.microsecond)"
      ],
      "execution_count": 17,
      "outputs": [
        {
          "output_type": "stream",
          "name": "stdout",
          "text": [
            "year = 2021\n",
            "month = 11\n",
            "day = 1\n",
            "hour = 11\n",
            "minute = 30\n",
            "second = 35\n",
            "microsecond = 243561\n"
          ]
        }
      ]
    },
    {
      "cell_type": "markdown",
      "metadata": {
        "id": "PGAp2r1Nhsyd"
      },
      "source": [
        "**Example 3:**\n",
        "\n",
        "***Get Current date and time***\n",
        "\n",
        "We can print the current date and time using the Datetime.now() function. now() function returns the current local date and time. "
      ]
    },
    {
      "cell_type": "code",
      "metadata": {
        "colab": {
          "base_uri": "https://localhost:8080/"
        },
        "id": "3Q0Kqe4diACl",
        "outputId": "811d2a09-3ada-4f33-c00a-b14f9cb43b4a"
      },
      "source": [
        "from datetime import datetime\n",
        "\n",
        "# Calling now() function\n",
        "today = datetime.now()\n",
        "\n",
        "print(\"Current date and time is\", today)\n"
      ],
      "execution_count": 18,
      "outputs": [
        {
          "output_type": "stream",
          "name": "stdout",
          "text": [
            "Current date and time is 2021-11-01 12:45:00.663447\n"
          ]
        }
      ]
    },
    {
      "cell_type": "markdown",
      "metadata": {
        "id": "UMkVowUqiI10"
      },
      "source": [
        "\n",
        "# 4. **Timedelta Class:-**\n",
        "\n",
        "A timedelta object represents the difference between two dates or times used for performing date manipulations in Python.\n",
        "\n",
        "**Syntax:-**\n"
      ]
    },
    {
      "cell_type": "code",
      "metadata": {
        "id": "EHzO-wm7jRAg"
      },
      "source": [
        "class datetime.timedelta(days, seconds, microseconds, milliseconds, minutes, hours, weeks)"
      ],
      "execution_count": null,
      "outputs": []
    },
    {
      "cell_type": "markdown",
      "metadata": {
        "id": "d52zp47Cjkgq"
      },
      "source": [
        "**Example 1:**\n",
        "\n",
        "***Difference between two timedelta objects***"
      ]
    },
    {
      "cell_type": "markdown",
      "metadata": {
        "id": "ZMd68FjSkqnQ"
      },
      "source": [
        "Difference between two date and time can found using this class."
      ]
    },
    {
      "cell_type": "code",
      "metadata": {
        "colab": {
          "base_uri": "https://localhost:8080/"
        },
        "id": "BBoOrwptlL1T",
        "outputId": "64ad4e17-956f-46a6-b995-e708761f4828"
      },
      "source": [
        "from datetime import timedelta\n",
        "\n",
        "time1 = timedelta(days=6, seconds=30, microseconds=234567, minutes=45, hours=12, weeks=5)\n",
        "time2 = timedelta(days=5, seconds=20, microseconds=125638, minutes=20, hours=6, weeks=4)\n",
        "time3 = time1 - time2\n",
        "\n",
        "print(\"Difference is = \", time3)"
      ],
      "execution_count": 19,
      "outputs": [
        {
          "output_type": "stream",
          "name": "stdout",
          "text": [
            "Difference is =  8 days, 6:25:10.108929\n"
          ]
        }
      ]
    },
    {
      "cell_type": "markdown",
      "metadata": {
        "id": "U7TbDNFGmOtQ"
      },
      "source": [
        "**Example 2:**\n",
        "\n",
        "***Time duration in seconds***\n",
        "\n",
        "We can get the total number of seconds in a timedelta object using total_seconds() method."
      ]
    },
    {
      "cell_type": "code",
      "metadata": {
        "colab": {
          "base_uri": "https://localhost:8080/"
        },
        "id": "gxyuq44vnFDp",
        "outputId": "5a52296f-8d45-4979-f6ab-f3dfaa3e8483"
      },
      "source": [
        "from datetime import timedelta\n",
        "\n",
        "t_seconds = timedelta(days = 3, hours = 12, seconds = 30, microseconds = 243561)\n",
        "print(\"Total seconds =\", t_seconds.total_seconds())"
      ],
      "execution_count": 20,
      "outputs": [
        {
          "output_type": "stream",
          "name": "stdout",
          "text": [
            "Total seconds = 302430.243561\n"
          ]
        }
      ]
    },
    {
      "cell_type": "markdown",
      "metadata": {
        "id": "pZ7kCQ5MoJAU"
      },
      "source": [
        "# Python format datetime:-\n",
        "\n",
        "Formatting Datetime can be very necessary as the date representation may differe from place to place.\n",
        "\n",
        "To format Python Datetime **strptime** and **strftime** functions can be used.\n",
        "\n",
        "strftime method converts the given date, time or datetime object to the a string representation of the given format.\n",
        "\n",
        "strptime method creates a datetime object from the given string representation."
      ]
    },
    {
      "cell_type": "markdown",
      "metadata": {
        "id": "RUc-dpJaqQkh"
      },
      "source": [
        "# References:-\n",
        "\n",
        "For more details, visit the websites below,\n",
        "  - [Programiz](https://www.programiz.com/python-programming/datetime)\n",
        "  - [W3 schools](https://www.w3schools.com/python/python_datetime.asp)\n",
        "  - [Geeks for Geeks](https://www.geeksforgeeks.org/python-datetime-module)"
      ]
    }
  ]
}