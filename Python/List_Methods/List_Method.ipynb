{
  "nbformat": 4,
  "nbformat_minor": 0,
  "metadata": {
    "colab": {
      "name": "List_Method.ipynb",
      "provenance": []
    },
    "kernelspec": {
      "name": "python3",
      "display_name": "Python 3"
    },
    "language_info": {
      "name": "python"
    }
  },
  "cells": [
    {
      "cell_type": "markdown",
      "metadata": {
        "id": "Q9937qHeJ5vq"
      },
      "source": [
        "# What are List Methods?\n"
      ]
    },
    {
      "cell_type": "markdown",
      "metadata": {
        "id": "zfFF6txRKcBn"
      },
      "source": [
        "Python has a set of built-in methods that you can use on List.<br/>\n",
        "Lists are used to store multiple items in a single variable.<br/>"
      ]
    },
    {
      "cell_type": "markdown",
      "metadata": {
        "id": "LKyS3oI9KtKh"
      },
      "source": [
        "#Main Purpose<br/>\n",
        "List methods are to create Lists or change the contents of a list.<br/>"
      ]
    },
    {
      "cell_type": "markdown",
      "metadata": {
        "id": "7KgJqP2PLB3S"
      },
      "source": [
        "# List Representation"
      ]
    },
    {
      "cell_type": "markdown",
      "metadata": {
        "id": "yUpuzKiMK54e"
      },
      "source": [
        "List is created using square bracket.<br/>"
      ]
    },
    {
      "cell_type": "markdown",
      "metadata": {
        "id": "L0nepgLEMIUW"
      },
      "source": [
        "# Sample Code and Explanation\n",
        "##Append\n",
        "```python\n",
        "L=['A','B','C']\n",
        "L.append('D')  # append is used to add elements in end\n",
        "L\n",
        "```\n",
        "['A', 'B', 'C', 'D']\n"
      ]
    },
    {
      "cell_type": "markdown",
      "metadata": {
        "id": "nebRjr0hQB-t"
      },
      "source": [
        "##Copy\n",
        "```python\n",
        "y=L.copy() #Copy elements of list to another\n",
        "y\n",
        "```\n",
        "['A', 'B', 'C', 'D']\n"
      ]
    },
    {
      "cell_type": "markdown",
      "metadata": {
        "id": "BTC3vUt1QPG6"
      },
      "source": [
        "##Count\n",
        "```python\n",
        "z=y.count('A') # count the number on list elements in given list  \n",
        "z\n",
        "```\n",
        "1"
      ]
    },
    {
      "cell_type": "markdown",
      "metadata": {
        "id": "NsCjGY7xQXCU"
      },
      "source": [
        "\n",
        "##Clear\n",
        "```Python\n",
        "L.clear() # Clear the list elements\n",
        "L\n",
        "```\n",
        "[]"
      ]
    },
    {
      "cell_type": "markdown",
      "metadata": {
        "id": "D_Ts7oYeQkvZ"
      },
      "source": [
        "##Extend\n",
        "```Python\n",
        "M=['A','B']\n",
        "N=['C','D']\n",
        "M.extend(N) # adds the specified list elements to the end of the current list\n",
        "M\n",
        "```\n",
        "['A', 'B', 'C', 'D']\n"
      ]
    },
    {
      "cell_type": "markdown",
      "metadata": {
        "id": "wWIrq5-tQsr6"
      },
      "source": [
        "##Index\n",
        "```Python\n",
        "P= M.index('C') # used to check element c in list and return the index of it\n",
        "P\n",
        "```\n",
        "2"
      ]
    },
    {
      "cell_type": "markdown",
      "metadata": {
        "id": "E_O4406aRYTx"
      },
      "source": [
        "##Remove\n",
        "```Python\n",
        "I=M.remove('C') # To remove C element from the list\n",
        "M\n",
        "```\n",
        "['A', 'B', 'D']\n"
      ]
    },
    {
      "cell_type": "markdown",
      "metadata": {
        "id": "SiGU-Zl9ReO2"
      },
      "source": [
        "##Insert\n",
        "```Python\n",
        "I=M.insert(2,'F') # used to insert F element using index\n",
        "M\n",
        "```\n",
        "['A', 'B', 'F', 'D']\n"
      ]
    },
    {
      "cell_type": "markdown",
      "metadata": {
        "id": "fq-3VoYVRnkN"
      },
      "source": [
        "##Reverse\n",
        "```Python\n",
        "M.reverse() # used to reverse the list\n",
        "M\n",
        "```\n",
        "['D', 'F', 'B', 'A']\n"
      ]
    },
    {
      "cell_type": "markdown",
      "metadata": {
        "id": "kDZi78cmRysH"
      },
      "source": [
        "##Sort\n",
        "```Python\n",
        "M.sort() # Sort the list in ascending order\n",
        "M\n",
        "```\n",
        "['A', 'B', 'D', 'F']\n"
      ]
    },
    {
      "cell_type": "markdown",
      "metadata": {
        "id": "ZNRN10vhLMAj"
      },
      "source": [
        "#Advantage\n",
        "List formatting is easier. "
      ]
    },
    {
      "cell_type": "markdown",
      "metadata": {
        "id": "YuX00t5mLTws"
      },
      "source": [
        "#Conclusion\n",
        "List methods change or manipulate the original List."
      ]
    }
  ]
}