{
  "nbformat": 4,
  "nbformat_minor": 0,
  "metadata": {
    "colab": {
      "name": "Python_Collections_Module.ipynb",
      "provenance": [],
      "collapsed_sections": []
    },
    "kernelspec": {
      "name": "python3",
      "display_name": "Python 3"
    },
    "language_info": {
      "name": "python"
    }
  },
  "cells": [
    {
      "cell_type": "markdown",
      "metadata": {
        "id": "j8fE3Eo6PLYI"
      },
      "source": [
        "#  Python Collections Module "
      ]
    },
    {
      "cell_type": "markdown",
      "metadata": {
        "id": "P-XiCupDPcqG"
      },
      "source": [
        "# Introduction:-"
      ]
    },
    {
      "cell_type": "markdown",
      "metadata": {
        "id": "ioXMgNrhlqpP"
      },
      "source": [
        "The Python **collections** module is defined as a container that is used to store different objects such as list, dict, set, tuple etc. and access the contained objects and iterate over them. \n",
        "\n",
        "Python **collections** module comes built into Python, so there is no need to install it externally so, it can simply import for work with different objects.\n",
        "\n",
        "It is used to improve the capability of different Python built-in containers."
      ]
    },
    {
      "cell_type": "markdown",
      "metadata": {
        "id": "ZJgDTZ3Mm0AX"
      },
      "source": [
        "We can simply import **collections** module like this -"
      ]
    },
    {
      "cell_type": "code",
      "metadata": {
        "id": "uAk08XyOnNML"
      },
      "source": [
        "import collections"
      ],
      "execution_count": null,
      "outputs": []
    },
    {
      "cell_type": "markdown",
      "metadata": {
        "id": "KEXSH7eFnXvz"
      },
      "source": [
        "To get all the containers without mentioning the **collections** module in our code we can import **collections** module as -\n"
      ]
    },
    {
      "cell_type": "code",
      "metadata": {
        "id": "wMCmao4fnmJ3"
      },
      "source": [
        "from collections import *"
      ],
      "execution_count": null,
      "outputs": []
    },
    {
      "cell_type": "markdown",
      "metadata": {
        "id": "nJkQ5jUQnqjT"
      },
      "source": [
        "# What is inside in collections module?"
      ]
    },
    {
      "cell_type": "markdown",
      "metadata": {
        "id": "b4YH4ol5nw9F"
      },
      "source": [
        "dir() function is used to get a list of all attributes containing in this module."
      ]
    },
    {
      "cell_type": "code",
      "metadata": {
        "colab": {
          "base_uri": "https://localhost:8080/"
        },
        "id": "Z-dqUHRPn2aP",
        "outputId": "ef8d461b-50fb-46ab-d373-6b608080c38f"
      },
      "source": [
        "import collections\n",
        "\n",
        "print(dir(collections))"
      ],
      "execution_count": null,
      "outputs": [
        {
          "output_type": "stream",
          "name": "stdout",
          "text": [
            "['ChainMap', 'Counter', 'OrderedDict', 'UserDict', 'UserList', 'UserString', '_Link', '_OrderedDictItemsView', '_OrderedDictKeysView', '_OrderedDictValuesView', '__all__', '__builtins__', '__cached__', '__doc__', '__file__', '__getattr__', '__loader__', '__name__', '__package__', '__path__', '__spec__', '_chain', '_collections_abc', '_count_elements', '_eq', '_heapq', '_iskeyword', '_itemgetter', '_nt_itemgetters', '_proxy', '_recursive_repr', '_repeat', '_starmap', '_sys', 'abc', 'defaultdict', 'deque', 'namedtuple']\n"
          ]
        }
      ]
    },
    {
      "cell_type": "markdown",
      "metadata": {
        "id": "X9wwBRbMokd6"
      },
      "source": [
        "# Containers In Collections Module:-"
      ]
    },
    {
      "cell_type": "markdown",
      "metadata": {
        "id": "Se73dYtCosyv"
      },
      "source": [
        "Collections module provides various containers. \n",
        "\n",
        "Containers provided by the collections module are -"
      ]
    },
    {
      "cell_type": "markdown",
      "metadata": {
        "id": "Y6gMLKcypNpK"
      },
      "source": [
        "1. NamedTuple\n",
        "2. OrderedDict\n",
        "3. DefaultDict\n",
        "4. Counter\n",
        "5. Deque\n",
        "6. ChainMap\n",
        "7. UserDict\n",
        "8. UserList\n",
        "9. UserString"
      ]
    },
    {
      "cell_type": "markdown",
      "metadata": {
        "id": "MRm8VqYWqG5h"
      },
      "source": [
        "**1. NamedTuple:-**"
      ]
    },
    {
      "cell_type": "markdown",
      "metadata": {
        "id": "mmDBtuosqNZh"
      },
      "source": [
        "The Python namedtuple() function returns a tuple-like object with names for each position. But in ordinary tuples there is the problem of remembering the index of each field of a tuple object.\n",
        "\n"
      ]
    },
    {
      "cell_type": "markdown",
      "metadata": {
        "id": "3wGUvlvmq4qW"
      },
      "source": [
        "**Syntax:-**"
      ]
    },
    {
      "cell_type": "code",
      "metadata": {
        "id": "SVUku50wq7Yw"
      },
      "source": [
        "class collections.namedtuple(typename, field_names)"
      ],
      "execution_count": null,
      "outputs": []
    },
    {
      "cell_type": "markdown",
      "metadata": {
        "id": "gJgt1fverCyA"
      },
      "source": [
        "**Example:-**"
      ]
    },
    {
      "cell_type": "code",
      "metadata": {
        "colab": {
          "base_uri": "https://localhost:8080/"
        },
        "id": "ctOPugCUrGt3",
        "outputId": "f2c6f7e6-8da8-4186-de20-b1c4b9007bdd"
      },
      "source": [
        "# Python code to demonstrate namedtuple()\n",
        "   \n",
        "from collections import namedtuple\n",
        "   \n",
        "# Declaring namedtuple()\n",
        "Employee = namedtuple('Employee',['name','age','salary'])\n",
        "   \n",
        "# Adding values\n",
        "E = Employee('Amitabh','30','75000')\n",
        "   \n",
        "# Access using index\n",
        "print(\"The Employee age using index is : \", E[1])\n",
        "\n",
        "# Access using name \n",
        "print(\"The Employee name using keyname is : \", E.name)"
      ],
      "execution_count": null,
      "outputs": [
        {
          "output_type": "stream",
          "name": "stdout",
          "text": [
            "The Employee age using index is :  30\n",
            "The Employee name using keyname is :  Amitabh\n"
          ]
        }
      ]
    },
    {
      "cell_type": "markdown",
      "metadata": {
        "id": "P8i3xMqhr9UR"
      },
      "source": [
        "**2. OrderedDict:-**"
      ]
    },
    {
      "cell_type": "markdown",
      "metadata": {
        "id": "i0QynqnysBky"
      },
      "source": [
        "The Python OrderedDict() is similar to a dictionary object which remembers the order of keys insertion. Inserting a key again, will be overwritten previous value for that key."
      ]
    },
    {
      "cell_type": "markdown",
      "metadata": {
        "id": "3djh83zps31L"
      },
      "source": [
        "**Syntax:-**"
      ]
    },
    {
      "cell_type": "code",
      "metadata": {
        "id": "ru4nCpRss1Ck"
      },
      "source": [
        "class collections.OrderedDict()"
      ],
      "execution_count": null,
      "outputs": []
    },
    {
      "cell_type": "markdown",
      "metadata": {
        "id": "Xg4Zf5-2tJLl"
      },
      "source": [
        "**Example:-**"
      ]
    },
    {
      "cell_type": "code",
      "metadata": {
        "colab": {
          "base_uri": "https://localhost:8080/"
        },
        "id": "GfGCzMyctLZ6",
        "outputId": "8018fa40-bf36-4b46-cf14-fb29600bdf3d"
      },
      "source": [
        "# A Python program to demonstrate OrderedDict\n",
        "\n",
        "from collections import OrderedDict\n",
        "\n",
        "print(\"\\nThis is an Ordered Dict:\")\n",
        "od = OrderedDict()\n",
        "od['p'] = 2\n",
        "od['r'] = 5\n",
        "od['s'] = 7\n",
        "od['q'] = 3\n",
        "\n",
        "for key, value in od.items():\n",
        "\tprint(key, value)\n"
      ],
      "execution_count": null,
      "outputs": [
        {
          "output_type": "stream",
          "name": "stdout",
          "text": [
            "\n",
            "This is an Ordered Dict:\n",
            "p 2\n",
            "r 5\n",
            "s 7\n",
            "q 3\n"
          ]
        }
      ]
    },
    {
      "cell_type": "markdown",
      "metadata": {
        "id": "BOGAS4vTwyc8"
      },
      "source": [
        "**3. DefaultDict:-**"
      ]
    },
    {
      "cell_type": "markdown",
      "metadata": {
        "id": "tn7wlxR7w6Mq"
      },
      "source": [
        "It is a subclass of the built-in dict class. It is used to provide some default values for the key that does not exist and never raises a KeyError."
      ]
    },
    {
      "cell_type": "markdown",
      "metadata": {
        "id": "jwOt3weJxiWx"
      },
      "source": [
        "DefaultDict objects can be initialized using DefaultDict() method by passing the data type as an argument."
      ]
    },
    {
      "cell_type": "markdown",
      "metadata": {
        "id": "2pJCA46txpqK"
      },
      "source": [
        "**Syntax:-**"
      ]
    },
    {
      "cell_type": "code",
      "metadata": {
        "id": "AY7VpYXExreA"
      },
      "source": [
        "class collections.defaultdict(datatype)"
      ],
      "execution_count": null,
      "outputs": []
    },
    {
      "cell_type": "markdown",
      "metadata": {
        "id": "hfCL5dVKx409"
      },
      "source": [
        "**Example:-**"
      ]
    },
    {
      "cell_type": "code",
      "metadata": {
        "colab": {
          "base_uri": "https://localhost:8080/"
        },
        "id": "zBHaRFclx8XX",
        "outputId": "f3519e0f-05e7-47d8-ccb4-3a76c8e63074"
      },
      "source": [
        "# Python program to demonstrate defaultdict\n",
        "    \n",
        "from collections import defaultdict\n",
        "    \n",
        "# Defining the defaultdict\n",
        "df = defaultdict(int)\n",
        "df['working days'] = 5\n",
        "df['salary'] = 60000\n",
        "\n",
        "# Printing the default value of key for the key which doesn't exist\n",
        "a = df['age']\n",
        "print(a)"
      ],
      "execution_count": null,
      "outputs": [
        {
          "output_type": "stream",
          "name": "stdout",
          "text": [
            "0\n"
          ]
        }
      ]
    },
    {
      "cell_type": "markdown",
      "metadata": {
        "id": "EYJo_KPtzzu5"
      },
      "source": [
        "**4. Counter:-**"
      ]
    },
    {
      "cell_type": "markdown",
      "metadata": {
        "id": "2-uOsaEAz34-"
      },
      "source": [
        "A counter is a subclass of the dictionary. It is used to count the elements of hashable or iterable objects."
      ]
    },
    {
      "cell_type": "markdown",
      "metadata": {
        "id": "5XPjDifq0jt2"
      },
      "source": [
        "The counter object can be initialized using the counter() function and this function can be called in one of the following ways:\n",
        "\n",
        "1. With a sequence of items\n",
        "2. With a dictionary \n",
        "3. With keyword arguments "
      ]
    },
    {
      "cell_type": "markdown",
      "metadata": {
        "id": "63J4LHVH07wR"
      },
      "source": [
        "**Syntax:-**"
      ]
    },
    {
      "cell_type": "code",
      "metadata": {
        "id": "OU0EOUJz0-ON"
      },
      "source": [
        "class collections.Counter()"
      ],
      "execution_count": null,
      "outputs": []
    },
    {
      "cell_type": "markdown",
      "metadata": {
        "id": "YV9OXgdF1LbS"
      },
      "source": [
        "**Example:-**"
      ]
    },
    {
      "cell_type": "code",
      "metadata": {
        "colab": {
          "base_uri": "https://localhost:8080/"
        },
        "id": "LgRSzIro1Nts",
        "outputId": "861e4e82-03c8-4e7e-b026-563c1c123093"
      },
      "source": [
        "# A Python program to show different ways to create Counter\n",
        "from collections import Counter\n",
        "   \n",
        "# With sequence of items \n",
        "print(Counter(['1','2','1','2','3','1','2','2','1','3']))\n",
        "   \n",
        "# with dictionary\n",
        "print(Counter({'P':2, 'Q':4, 'R':6}))\n",
        "   \n",
        "# with keyword arguments\n",
        "print(Counter(P=2, Q=4, R=6))"
      ],
      "execution_count": null,
      "outputs": [
        {
          "output_type": "stream",
          "name": "stdout",
          "text": [
            "Counter({'1': 4, '2': 4, '3': 2})\n",
            "Counter({'R': 6, 'Q': 4, 'P': 2})\n",
            "Counter({'R': 6, 'Q': 4, 'P': 2})\n"
          ]
        }
      ]
    },
    {
      "cell_type": "markdown",
      "metadata": {
        "id": "8-szzeTZ1_1V"
      },
      "source": [
        "**5. Deque:-**"
      ]
    },
    {
      "cell_type": "markdown",
      "metadata": {
        "id": "tRr1tGYd2DJS"
      },
      "source": [
        "The Python deque() is a double-ended queue which allows us to add and remove elements from both the ends of the container."
      ]
    },
    {
      "cell_type": "markdown",
      "metadata": {
        "id": "HlfWVz183gOX"
      },
      "source": [
        "**Syntax:-**"
      ]
    },
    {
      "cell_type": "code",
      "metadata": {
        "id": "ruDsmBx13jee"
      },
      "source": [
        "class collections.deque(list)"
      ],
      "execution_count": null,
      "outputs": []
    },
    {
      "cell_type": "markdown",
      "metadata": {
        "id": "LN8EPvB73mnO"
      },
      "source": [
        "**Example:-**"
      ]
    },
    {
      "cell_type": "code",
      "metadata": {
        "colab": {
          "base_uri": "https://localhost:8080/"
        },
        "id": "Qo6i3R8d3ovu",
        "outputId": "2757ebae-6f5e-42ad-e4ea-0d2417e8b091"
      },
      "source": [
        "# Python code to demonstrate working of deque operations\n",
        "   \n",
        "from collections import deque\n",
        "\n",
        "li = [10,15,20]  \n",
        "\n",
        "# initializing deque\n",
        "dq = deque(li)\n",
        "\n",
        "print(dq)\n",
        "\n",
        "# using append() to inserts 25 at the end of deque\n",
        "dq.append(25)\n",
        "   \n",
        "# printing modified deque\n",
        "print(\"The deque after appending at right is : \", dq)\n",
        "   \n",
        "# using appendleft() to inserts 30 at the beginning of deque\n",
        "dq.appendleft(30)\n",
        "   \n",
        "# printing modified deque\n",
        "print(\"The deque after appending at left is : \", dq)\n",
        "\n",
        "# using pop() to delete element from right end \n",
        "dq.pop()\n",
        "   \n",
        "# printing modified deque\n",
        "print(\"The deque after deleting from right is : \", dq)\n",
        "   \n",
        "# using popleft() to delete element from left end \n",
        "dq.popleft()\n",
        "   \n",
        "# printing modified deque\n",
        "print(\"The deque after deleting from left is : \", dq)"
      ],
      "execution_count": null,
      "outputs": [
        {
          "output_type": "stream",
          "name": "stdout",
          "text": [
            "deque([10, 15, 20])\n",
            "The deque after appending at right is :  deque([10, 15, 20, 25])\n",
            "The deque after appending at left is :  deque([30, 10, 15, 20, 25])\n",
            "The deque after deleting from right is :  deque([30, 10, 15, 20])\n",
            "The deque after deleting from left is :  deque([10, 15, 20])\n"
          ]
        }
      ]
    },
    {
      "cell_type": "markdown",
      "metadata": {
        "id": "NhSaYGEQ7tVd"
      },
      "source": [
        "**6. ChainMap:-**"
      ]
    },
    {
      "cell_type": "markdown",
      "metadata": {
        "id": "N8HAjhp77wNu"
      },
      "source": [
        "A chainmap class is used to groups multiple dictionary together to create a single list. The linked dictionary stores in the list and can be accessed by the map attribute."
      ]
    },
    {
      "cell_type": "markdown",
      "metadata": {
        "id": "pSdphAtf8oVq"
      },
      "source": [
        "**Syntax:-**"
      ]
    },
    {
      "cell_type": "code",
      "metadata": {
        "id": "jyL01mX-8vV6"
      },
      "source": [
        "class collections.ChainMap(multiple dictionaries)"
      ],
      "execution_count": null,
      "outputs": []
    },
    {
      "cell_type": "markdown",
      "metadata": {
        "id": "5Zc78xEr88PC"
      },
      "source": [
        "**Example:-**"
      ]
    },
    {
      "cell_type": "code",
      "metadata": {
        "colab": {
          "base_uri": "https://localhost:8080/"
        },
        "id": "eFunHQ2M8-Jl",
        "outputId": "3d84dc7f-333f-43d0-aee3-d97829a5e70c"
      },
      "source": [
        "# Python program to demonstrate ChainMap\n",
        "    \n",
        "from collections import ChainMap\n",
        "    \n",
        "dict1 = {'p': 3, 'q': 2}\n",
        "dict2 = {'r': 5, 's': 7}\n",
        "dict3 = {'t': 11, 'u': 13}\n",
        " \n",
        "# Defining the chainmap\n",
        "ch_mp = ChainMap(dict1, dict2, dict3)\n",
        "    \n",
        "print(ch_mp)\n",
        "\n",
        "# Accessing Values using key name 'r'\n",
        "print(ch_mp['r'])\n",
        " \n",
        "# Accessing values using values() method\n",
        "print(list(ch_mp.values()))\n",
        " \n",
        "# Accessing keys using keys() method\n",
        "print(list(ch_mp.keys()))"
      ],
      "execution_count": null,
      "outputs": [
        {
          "output_type": "stream",
          "name": "stdout",
          "text": [
            "ChainMap({'p': 3, 'q': 2}, {'r': 5, 's': 7}, {'t': 11, 'u': 13})\n",
            "5\n",
            "[11, 13, 5, 7, 3, 2]\n",
            "['t', 'u', 'r', 's', 'p', 'q']\n"
          ]
        }
      ]
    },
    {
      "cell_type": "markdown",
      "metadata": {
        "id": "MZjrtABCMM4j"
      },
      "source": [
        "**7. UserDict:-**"
      ]
    },
    {
      "cell_type": "markdown",
      "metadata": {
        "id": "3RcAiLe3MSBB"
      },
      "source": [
        "UserDict is a dictionary-like container that is used as a wrapper around the dictionary objects. \n",
        "\n",
        "This container is used for creating own dictionary with some modified functionality. "
      ]
    },
    {
      "cell_type": "markdown",
      "metadata": {
        "id": "2Xyl-lVzM3Vb"
      },
      "source": [
        "**Syntax:-**"
      ]
    },
    {
      "cell_type": "code",
      "metadata": {
        "id": "IW-rJRr7M5RI"
      },
      "source": [
        "class collections.UserDict(dictionary)"
      ],
      "execution_count": null,
      "outputs": []
    },
    {
      "cell_type": "markdown",
      "metadata": {
        "id": "bV5k1Q0xNN_Z"
      },
      "source": [
        "**8. UserList:-**"
      ]
    },
    {
      "cell_type": "markdown",
      "metadata": {
        "id": "sFgXLsYONTM8"
      },
      "source": [
        "UserList is a list-like container that is used as a wrapper around the list objects.\n",
        "\n",
        "This container is used for creating own list with some modified functionality."
      ]
    },
    {
      "cell_type": "markdown",
      "metadata": {
        "id": "XMVjMuAVNjtq"
      },
      "source": [
        "**Syntax:-**"
      ]
    },
    {
      "cell_type": "code",
      "metadata": {
        "id": "iciUD0wRNmEl"
      },
      "source": [
        "class collections.UserList(list)"
      ],
      "execution_count": null,
      "outputs": []
    },
    {
      "cell_type": "markdown",
      "metadata": {
        "id": "gdEjTyAxOFYB"
      },
      "source": [
        "**9. UserString:-**"
      ]
    },
    {
      "cell_type": "markdown",
      "metadata": {
        "id": "h-oi4Z8FOQyz"
      },
      "source": [
        "UserString is a string-like container that is used as a wrapper around the string objects.\n",
        "\n",
        "This container is used for creating own string with some modified functionality."
      ]
    },
    {
      "cell_type": "markdown",
      "metadata": {
        "id": "Rc0I-j-yOaKN"
      },
      "source": [
        "**Syntax:-**"
      ]
    },
    {
      "cell_type": "code",
      "metadata": {
        "id": "0km7BweDOcfL"
      },
      "source": [
        "class collections.UserString(string)"
      ],
      "execution_count": null,
      "outputs": []
    },
    {
      "cell_type": "markdown",
      "metadata": {
        "id": "IOIdwNUJPIvr"
      },
      "source": [
        "# References:-\n",
        "\n",
        "For more details, visit the websites below,\n",
        "  - [Javatpoint](https://www.javatpoint.com/python-collection-module)\n",
        "  - [Geeks for Geeks](https://www.geeksforgeeks.org/python-collections-module)"
      ]
    }
  ]
}