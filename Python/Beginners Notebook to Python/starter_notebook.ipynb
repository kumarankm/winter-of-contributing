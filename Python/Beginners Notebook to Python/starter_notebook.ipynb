{
  "cells": [
    {
      "cell_type": "markdown",
      "metadata": {},
      "source": [
        "**Disclaimer:** ⚠️⚠️Please Run the **cells** in ***order*** to avoid errors.⚠️⚠️"
      ]
    },
    {
      "cell_type": "markdown",
      "metadata": {
        "id": "M22tUG_0i6UT"
      },
      "source": [
        "# Python Documentation\n",
        "**Link:** https://docs.python.org/3/\n",
        "\n",
        "## General\n"
      ]
    },
    {
      "cell_type": "code",
      "execution_count": 129,
      "metadata": {
        "id": "vHS2ybUMi6Ue",
        "outputId": "3b2107d3-78cf-4888-b337-d9a2ef00df7a",
        "scrolled": true
      },
      "outputs": [
        {
          "name": "stdout",
          "output_type": "stream",
          "text": [
            "Hello World!!\n"
          ]
        }
      ],
      "source": [
        "print('Hello World!!')"
      ]
    },
    {
      "cell_type": "code",
      "execution_count": 2,
      "metadata": {
        "id": "fCuzco90i6Ui",
        "outputId": "86f7ac05-f3ca-4e76-ed66-d286d2b09451"
      },
      "outputs": [
        {
          "data": {
            "text/plain": [
              "14"
            ]
          },
          "execution_count": 2,
          "metadata": {},
          "output_type": "execute_result"
        }
      ],
      "source": [
        "2+7\n",
        "2*7"
      ]
    },
    {
      "cell_type": "markdown",
      "metadata": {
        "id": "XMHwXoDGi6Uj"
      },
      "source": [
        "### **Difference**\n",
        "\n",
        "**Need to give individual print statements to every statement individually, else only the last operation will be executed and displayed.**"
      ]
    },
    {
      "cell_type": "code",
      "execution_count": 3,
      "metadata": {
        "id": "mqgrw5LZi6Uk",
        "outputId": "c1016b8d-a5c1-42e4-9368-a7c750d1202d",
        "scrolled": true
      },
      "outputs": [
        {
          "name": "stdout",
          "output_type": "stream",
          "text": [
            "9\n",
            "14\n"
          ]
        }
      ],
      "source": [
        "print(2+7)\n",
        "print(2*7)"
      ]
    },
    {
      "cell_type": "markdown",
      "metadata": {
        "id": "vym76QDXi6Ul"
      },
      "source": [
        "### **Get INPUT from User**"
      ]
    },
    {
      "cell_type": "code",
      "execution_count": 4,
      "metadata": {
        "id": "IuELOmsii6Um",
        "outputId": "40ca436e-3645-44ef-bdaf-db827b37bb5e"
      },
      "outputs": [
        {
          "name": "stdout",
          "output_type": "stream",
          "text": [
            "Hello!!\n"
          ]
        }
      ],
      "source": [
        "inp = input('Give Input: ')\n",
        "print(inp)"
      ]
    },
    {
      "cell_type": "markdown",
      "metadata": {
        "id": "Kx36qdhFi6Un"
      },
      "source": [
        "### **Indentation**\n",
        "\n",
        "\n",
        "See the indentation in the second line"
      ]
    },
    {
      "cell_type": "code",
      "execution_count": 5,
      "metadata": {
        "id": "l6OPibnSi6Up",
        "outputId": "688c1000-7532-4511-d9fe-b65f1ba75bd7"
      },
      "outputs": [
        {
          "name": "stdout",
          "output_type": "stream",
          "text": [
            "Hi\n"
          ]
        }
      ],
      "source": [
        "if True:\n",
        "    print('Hi')"
      ]
    },
    {
      "cell_type": "markdown",
      "metadata": {
        "id": "r4-9SW4hi6Uq"
      },
      "source": [
        "### **Comments** "
      ]
    },
    {
      "cell_type": "code",
      "execution_count": 6,
      "metadata": {
        "id": "Ublqnbwdi6Uq",
        "outputId": "23706172-d93c-4152-8c66-c9f3c1422cd5"
      },
      "outputs": [
        {
          "name": "stdout",
          "output_type": "stream",
          "text": [
            "Single Line Comment\n"
          ]
        }
      ],
      "source": [
        "# This is a Single Line Comment\n",
        "\n",
        "print('Single Line Comment')"
      ]
    },
    {
      "cell_type": "code",
      "execution_count": 7,
      "metadata": {
        "id": "saqUKhaci6Ur",
        "outputId": "e87acff7-0a7a-49e9-ae9a-735644107215"
      },
      "outputs": [
        {
          "name": "stdout",
          "output_type": "stream",
          "text": [
            "Multi Line Comment\n"
          ]
        }
      ],
      "source": [
        "\"\"\"This is\n",
        "a Multi\n",
        "Line Comment\"\"\"\n",
        "\n",
        "print('Multi Line Comment')"
      ]
    },
    {
      "cell_type": "markdown",
      "metadata": {
        "id": "791FDxQPi6Ut"
      },
      "source": [
        "\n",
        "# Data Types"
      ]
    },
    {
      "cell_type": "markdown",
      "metadata": {
        "id": "lNqjRG0Ni6Ut"
      },
      "source": [
        "**Types**\n",
        "\n"
      ]
    },
    {
      "cell_type": "code",
      "execution_count": 8,
      "metadata": {
        "id": "salGrL4Ci6Uu",
        "outputId": "098755f4-8508-4e32-9ba5-1075ad81b8cf"
      },
      "outputs": [
        {
          "data": {
            "text/plain": [
              "int"
            ]
          },
          "execution_count": 8,
          "metadata": {},
          "output_type": "execute_result"
        }
      ],
      "source": [
        "# 1. Integer Data Type\n",
        "a = 13\n",
        "type(a)    #Type function is used to return the data type of the Variable"
      ]
    },
    {
      "cell_type": "code",
      "execution_count": 9,
      "metadata": {
        "id": "KA-Y1g5Ci6Uu",
        "outputId": "ebcf57b1-0690-4f6e-9c9a-52e94257cbbb"
      },
      "outputs": [
        {
          "data": {
            "text/plain": [
              "float"
            ]
          },
          "execution_count": 9,
          "metadata": {},
          "output_type": "execute_result"
        }
      ],
      "source": [
        "# 2. Float\n",
        "b = -65.5\n",
        "type(b)"
      ]
    },
    {
      "cell_type": "code",
      "execution_count": 10,
      "metadata": {
        "id": "OFil4ZaHi6Uv",
        "outputId": "33f6d1b4-6897-42be-fe32-96756ba0638c"
      },
      "outputs": [
        {
          "data": {
            "text/plain": [
              "complex"
            ]
          },
          "execution_count": 10,
          "metadata": {},
          "output_type": "execute_result"
        }
      ],
      "source": [
        "#3. Complex\n",
        "c = 6 + 4j\n",
        "type(c)"
      ]
    },
    {
      "cell_type": "markdown",
      "metadata": {
        "id": "x-OEw2spi6Uw"
      },
      "source": [
        "**Be Careful**\n",
        "\n",
        "Uncomment the line and Check it out"
      ]
    },
    {
      "cell_type": "code",
      "execution_count": 11,
      "metadata": {
        "id": "CWttM8sOi6Uw"
      },
      "outputs": [],
      "source": [
        "#  c = 6 + j4 #Provides an Name error <=> Notice the color change as well"
      ]
    },
    {
      "cell_type": "code",
      "execution_count": 12,
      "metadata": {
        "id": "L8RNx8fSi6Ux",
        "outputId": "8fc10484-abb4-4012-bc54-e7fad8db50fd"
      },
      "outputs": [
        {
          "data": {
            "text/plain": [
              "str"
            ]
          },
          "execution_count": 12,
          "metadata": {},
          "output_type": "execute_result"
        }
      ],
      "source": [
        "# 4. String\n",
        "d = 'Sriniketh J'\n",
        "type(d)"
      ]
    },
    {
      "cell_type": "code",
      "execution_count": 13,
      "metadata": {
        "id": "-zpGbshhi6Ux",
        "outputId": "5353a815-e005-4024-eff9-9147bfd9ab8a"
      },
      "outputs": [
        {
          "data": {
            "text/plain": [
              "bool"
            ]
          },
          "execution_count": 13,
          "metadata": {},
          "output_type": "execute_result"
        }
      ],
      "source": [
        "# 5. Boolean.\n",
        "e = False\n",
        "type(e)"
      ]
    },
    {
      "cell_type": "code",
      "execution_count": 14,
      "metadata": {
        "id": "T1NwSd8fi6Ux",
        "outputId": "c84206a1-6862-4969-deeb-4de8a84d4c30"
      },
      "outputs": [
        {
          "data": {
            "text/plain": [
              "list"
            ]
          },
          "execution_count": 14,
          "metadata": {},
          "output_type": "execute_result"
        }
      ],
      "source": [
        "# 6. List\n",
        "f = [2, 'Hi', 5.6, -7-5j, True, None]    #See the values types inside the List\n",
        "type(f)"
      ]
    },
    {
      "cell_type": "code",
      "execution_count": 15,
      "metadata": {
        "id": "qDeK4XNli6Uy",
        "outputId": "72308fe0-424d-4edd-fd54-20ff0c309874"
      },
      "outputs": [
        {
          "data": {
            "text/plain": [
              "tuple"
            ]
          },
          "execution_count": 15,
          "metadata": {},
          "output_type": "execute_result"
        }
      ],
      "source": [
        "# 7. Tuple\n",
        "g = (2, 'Hi', 5.6, -7-5j, True, None)\n",
        "type(g)"
      ]
    },
    {
      "cell_type": "code",
      "execution_count": 16,
      "metadata": {
        "id": "1X7bDeZUi6Uy",
        "outputId": "ce4253d5-35da-4b61-ffbe-6efa2ca056d6"
      },
      "outputs": [
        {
          "data": {
            "text/plain": [
              "range"
            ]
          },
          "execution_count": 16,
          "metadata": {},
          "output_type": "execute_result"
        }
      ],
      "source": [
        "# 8. Range\n",
        "h = range(3)   #Range accepts three parameters i.e. range(start, end-1, step)\n",
        "type(h)"
      ]
    },
    {
      "cell_type": "code",
      "execution_count": 17,
      "metadata": {
        "id": "z1Zw3r8ci6Uz",
        "outputId": "f96dea7f-fe2e-42b8-a977-970e6c42b61c"
      },
      "outputs": [
        {
          "data": {
            "text/plain": [
              "dict"
            ]
          },
          "execution_count": 17,
          "metadata": {},
          "output_type": "execute_result"
        }
      ],
      "source": [
        "# 9. Dictionary\n",
        "i = {\n",
        "    'Zero' : 0,\n",
        "    'One' : 1,\n",
        "    'Two' : 2\n",
        "}\n",
        "\n",
        "type(i)"
      ]
    },
    {
      "cell_type": "code",
      "execution_count": 18,
      "metadata": {
        "id": "2i-PC_U0i6Uz",
        "outputId": "cd13b691-24f7-45a0-db1e-dabd40ad9391"
      },
      "outputs": [
        {
          "data": {
            "text/plain": [
              "set"
            ]
          },
          "execution_count": 18,
          "metadata": {},
          "output_type": "execute_result"
        }
      ],
      "source": [
        "# 10. Set\n",
        "j = {'One', 'Two', 3}\n",
        "type(j)"
      ]
    },
    {
      "cell_type": "code",
      "execution_count": 19,
      "metadata": {
        "id": "BG4dyypLi6U0",
        "outputId": "5b0f01bf-6d6e-41b4-fcdf-1a9f91c655f3"
      },
      "outputs": [
        {
          "name": "stdout",
          "output_type": "stream",
          "text": [
            "Frozen Set is: frozenset({'Zero', 'One', 'Two'})\n",
            "\n"
          ]
        },
        {
          "data": {
            "text/plain": [
              "frozenset"
            ]
          },
          "execution_count": 19,
          "metadata": {},
          "output_type": "execute_result"
        }
      ],
      "source": [
        "# 11. Frozen Set\n",
        "k = frozenset(i)\n",
        "print('Frozen Set is:',k)\n",
        "print()    # same as  using '\\n' or newline\n",
        "type(k)"
      ]
    },
    {
      "cell_type": "markdown",
      "metadata": {
        "id": "D1QR8UIsi6U0"
      },
      "source": [
        "# Operators"
      ]
    },
    {
      "cell_type": "markdown",
      "metadata": {
        "id": "xPT6DRCLi6U0"
      },
      "source": [
        "## **Arithmetic**"
      ]
    },
    {
      "cell_type": "raw",
      "metadata": {
        "id": "ggyKJO3Ri6U0"
      },
      "source": [
        "+ Addition\n",
        "- Subtraction\n",
        "* Multiplication\n",
        "/ Division\n",
        "% Mod (the remainder after dividing)\n",
        "** Exponentiation (note that ^ does not do this operation, as you might have seen in other languages)\n",
        "// Divides and rounds down to the nearest integer"
      ]
    },
    {
      "cell_type": "code",
      "execution_count": 20,
      "metadata": {
        "id": "8Yyf0aD7i6U1",
        "outputId": "9eb66914-422b-422d-8f36-8f41cce33d4e"
      },
      "outputs": [
        {
          "name": "stdout",
          "output_type": "stream",
          "text": [
            "4\n"
          ]
        }
      ],
      "source": [
        "print(1 + 3)"
      ]
    },
    {
      "cell_type": "code",
      "execution_count": 21,
      "metadata": {
        "id": "p4ymGlkui6U1",
        "outputId": "aafeb496-a580-41f2-9470-4066e8baccc8"
      },
      "outputs": [
        {
          "name": "stdout",
          "output_type": "stream",
          "text": [
            "-4\n"
          ]
        }
      ],
      "source": [
        "print(2 - 6)"
      ]
    },
    {
      "cell_type": "code",
      "execution_count": 22,
      "metadata": {
        "id": "5G2UxPIri6U1",
        "outputId": "8fa1108c-400e-4ada-ba15-0617c62a7eb2"
      },
      "outputs": [
        {
          "name": "stdout",
          "output_type": "stream",
          "text": [
            "10\n"
          ]
        }
      ],
      "source": [
        "print(2 * 5)"
      ]
    },
    {
      "cell_type": "code",
      "execution_count": 23,
      "metadata": {
        "id": "PrtIJf-Bi6U2",
        "outputId": "445d14b1-72ad-4ba4-ffd0-328f8c6568a2"
      },
      "outputs": [
        {
          "name": "stdout",
          "output_type": "stream",
          "text": [
            "5.0\n",
            "<class 'float'>\n"
          ]
        }
      ],
      "source": [
        "print(10 / 2)     #Normal Division\n",
        "print(type(10 / 2))"
      ]
    },
    {
      "cell_type": "code",
      "execution_count": 24,
      "metadata": {
        "id": "fkD_a2K1i6U2",
        "outputId": "91df4785-2f3c-4f9e-d9ee-dd9293186dc9"
      },
      "outputs": [
        {
          "name": "stdout",
          "output_type": "stream",
          "text": [
            "1\n"
          ]
        }
      ],
      "source": [
        "print(10 % 3)    #Return Remainder of the division"
      ]
    },
    {
      "cell_type": "code",
      "execution_count": 25,
      "metadata": {
        "id": "sKPdgStzi6U3",
        "outputId": "585a8406-64b2-4349-a1ba-8ca37612e5e2"
      },
      "outputs": [
        {
          "name": "stdout",
          "output_type": "stream",
          "text": [
            "3\n"
          ]
        }
      ],
      "source": [
        "print(10//3)    #Divides and rounds the numerator to the nearest integer\n",
        "                       # Expected 3.3333 got 3"
      ]
    },
    {
      "cell_type": "code",
      "execution_count": 26,
      "metadata": {
        "id": "J-d0FyL4i6U3",
        "outputId": "3e488a47-b395-4bd3-e7da-dd1de5403d4e",
        "scrolled": true
      },
      "outputs": [
        {
          "name": "stdout",
          "output_type": "stream",
          "text": [
            "32\n"
          ]
        }
      ],
      "source": [
        "print(2 ** 5)    #Exponentiation"
      ]
    },
    {
      "cell_type": "code",
      "execution_count": 27,
      "metadata": {
        "id": "Sk0X4YKEi6U4"
      },
      "outputs": [],
      "source": [
        "# print(4 / 0)    #ZeroDivisionError raised"
      ]
    },
    {
      "cell_type": "markdown",
      "metadata": {
        "id": "jcIwxCmLi6U4"
      },
      "source": [
        "## **Comparsion**"
      ]
    },
    {
      "cell_type": "code",
      "execution_count": 28,
      "metadata": {
        "id": "cHLXOursi6U4",
        "outputId": "174d5317-bc0b-4028-c284-d29f1edc2f85"
      },
      "outputs": [
        {
          "name": "stdout",
          "output_type": "stream",
          "text": [
            "False\n"
          ]
        }
      ],
      "source": [
        "print(5 == 4)    #Compares whether LHS is same as RHS and returns a Boolean Value"
      ]
    },
    {
      "cell_type": "code",
      "execution_count": 29,
      "metadata": {
        "id": "urXICRf2i6U4",
        "outputId": "253dc521-3a35-4570-8afc-5cb275d809d8"
      },
      "outputs": [
        {
          "name": "stdout",
          "output_type": "stream",
          "text": [
            "True\n"
          ]
        }
      ],
      "source": [
        "print(5 != 4)     #Checks whether LHS and RHS is not same"
      ]
    },
    {
      "cell_type": "code",
      "execution_count": 30,
      "metadata": {
        "id": "r6n0Wg6Mi6U5",
        "outputId": "a0b1759c-1150-44c7-8473-91f4dc7c1951"
      },
      "outputs": [
        {
          "name": "stdout",
          "output_type": "stream",
          "text": [
            "True\n"
          ]
        }
      ],
      "source": [
        "print(5 > 4)    #Greater than Operator"
      ]
    },
    {
      "cell_type": "code",
      "execution_count": 31,
      "metadata": {
        "id": "nwR2gsIKi6U5",
        "outputId": "6130c753-1d4f-4418-e2a2-ae9b26b7b267"
      },
      "outputs": [
        {
          "name": "stdout",
          "output_type": "stream",
          "text": [
            "False\n"
          ]
        }
      ],
      "source": [
        "print(5 < 4)    #Less than Operator"
      ]
    },
    {
      "cell_type": "code",
      "execution_count": 32,
      "metadata": {
        "id": "rcGmTNZDi6U5",
        "outputId": "99495e1c-a5fa-444d-f99d-8ca230cc6ae9"
      },
      "outputs": [
        {
          "name": "stdout",
          "output_type": "stream",
          "text": [
            "True\n"
          ]
        }
      ],
      "source": [
        "print(5 >= 4)    #Greater than or Equal to"
      ]
    },
    {
      "cell_type": "code",
      "execution_count": 33,
      "metadata": {
        "id": "arEY7ryZi6U6",
        "outputId": "08710fde-6536-4872-c968-a966197c072a"
      },
      "outputs": [
        {
          "name": "stdout",
          "output_type": "stream",
          "text": [
            "True\n"
          ]
        }
      ],
      "source": [
        "print(4 <= 4)    #Less than or Equal to"
      ]
    },
    {
      "cell_type": "markdown",
      "metadata": {
        "id": "S64xhmAhi6U6"
      },
      "source": [
        "## **Assignment and In place Operator**"
      ]
    },
    {
      "cell_type": "code",
      "execution_count": 34,
      "metadata": {
        "id": "yal11cKWi6U6",
        "outputId": "9b875c68-5921-4bef-9e9f-b49f9b21c58f"
      },
      "outputs": [
        {
          "name": "stdout",
          "output_type": "stream",
          "text": [
            "5\n"
          ]
        }
      ],
      "source": [
        "a = 5    #here = is the Assignment Operator\n",
        "print(a)"
      ]
    },
    {
      "cell_type": "code",
      "execution_count": 35,
      "metadata": {
        "id": "abbQbCW-i6U7",
        "outputId": "876f1e7f-576e-4438-ff0b-39ea1efde351"
      },
      "outputs": [
        {
          "name": "stdout",
          "output_type": "stream",
          "text": [
            "Initial Value:  5\n",
            "Final Value:  6\n"
          ]
        }
      ],
      "source": [
        "print('Initial Value: ', a)\n",
        "a += 1    #Inplace Operator\n",
        "print('Final Value: ', a)"
      ]
    },
    {
      "cell_type": "code",
      "execution_count": 36,
      "metadata": {
        "id": "urvxIb0Ti6U7",
        "outputId": "4efe42e6-4fdf-4cc6-a278-3cb0cde6bcf9"
      },
      "outputs": [
        {
          "name": "stdout",
          "output_type": "stream",
          "text": [
            "-6\n"
          ]
        }
      ],
      "source": [
        "print(-a)    #Unary Operator"
      ]
    },
    {
      "cell_type": "markdown",
      "metadata": {
        "id": "ldw_66_Li6U8"
      },
      "source": [
        "## **Bitwise Operators**"
      ]
    },
    {
      "cell_type": "markdown",
      "metadata": {
        "id": "Ril7sPfxi6U8"
      },
      "source": [
        "### **Bitwise AND**\n",
        "\n",
        "Returns 1 if both the bits are 1 else 0\n",
        "\n",
        "### **Bitwise OR**\n",
        "\n",
        "Returns 1 if either of the bit is 1 else 0.\n",
        "\n",
        "### **Bitwise NOT**\n",
        "\n",
        "Returns one’s complement of the number.\n",
        "\n",
        "### **Bitwise XOR**\n",
        "\n",
        "Returns 1 if one of the bits is 1 and the other is 0 else returns false."
      ]
    },
    {
      "cell_type": "markdown",
      "metadata": {
        "id": "bo4EefiHi6U9"
      },
      "source": [
        "**Reference Link:** https://bit.ly/2UZvCMM"
      ]
    },
    {
      "cell_type": "code",
      "execution_count": 37,
      "metadata": {
        "id": "sB2at3gri6U9",
        "outputId": "f054233e-7939-468b-d83c-0d7f91887ef5"
      },
      "outputs": [
        {
          "name": "stdout",
          "output_type": "stream",
          "text": [
            "a & b = 0\n",
            "a | b = 14\n",
            "~a = -11\n",
            "a ^ b = 14\n"
          ]
        }
      ],
      "source": [
        "a = 10   #1010\n",
        "b = 4    #0100\n",
        "\n",
        "# Bitwise AND operation\n",
        "print(\"a & b =\", a & b)\n",
        "\n",
        "# Bitwise OR operation\n",
        "print(\"a | b =\", a | b)\n",
        "\n",
        "# Bitwise NOT operation\n",
        "print(\"~a =\", ~a)\n",
        "\n",
        "# Bitwise XOR operation\n",
        "print(\"a ^ b =\", a ^ b)\n"
      ]
    },
    {
      "cell_type": "markdown",
      "metadata": {
        "id": "iM1WkG5Mi6U9"
      },
      "source": [
        "## Shift Operators"
      ]
    },
    {
      "cell_type": "markdown",
      "metadata": {
        "id": "l1unD2Z7i6U-"
      },
      "source": [
        "**Bitwise Right Shift:**\n",
        "*Shifts the bits of the number to the right and fills 0 on voids left as a result. Similar effect as of dividing the number with some power of two.*\n",
        "\n",
        "\n",
        "**Bitwise Left Shift:**\n",
        "*Shifts the bits of the number to the left and fills 0 on voids left as a result. Similar effect as of multiplying the number with some power of two.*"
      ]
    },
    {
      "cell_type": "code",
      "execution_count": 38,
      "metadata": {
        "id": "zkBC2Wmpi6U-",
        "outputId": "ddf32e15-e461-4ac6-b8b8-bac0e09c03c1",
        "scrolled": true
      },
      "outputs": [
        {
          "name": "stdout",
          "output_type": "stream",
          "text": [
            "a >> 1 =  5\n",
            "b >> 1 = -5\n",
            "a << 1 = 10\n",
            "b << 1 = -20\n"
          ]
        }
      ],
      "source": [
        "a = 10\n",
        "b = -10\n",
        "\n",
        "# Bitwise right shift operator\n",
        "print(\"a >> 1 = \", a >> 1)\n",
        "print(\"b >> 1 =\", b >> 1)\n",
        "\n",
        "a = 5\n",
        "b = -10\n",
        "\n",
        "# Bitwise left shift operator\n",
        "print(\"a << 1 =\", a << 1)\n",
        "print(\"b << 1 =\", b << 1)"
      ]
    },
    {
      "cell_type": "markdown",
      "metadata": {
        "id": "291RZrhli6U_"
      },
      "source": [
        "## Logical Operators"
      ]
    },
    {
      "cell_type": "code",
      "execution_count": 39,
      "metadata": {
        "id": "bmfhBJRJi6U_",
        "outputId": "82f9e78f-3450-448b-a008-d95ea9a0ca56"
      },
      "outputs": [
        {
          "name": "stdout",
          "output_type": "stream",
          "text": [
            "1\n"
          ]
        }
      ],
      "source": [
        "# Logical AND Operator\n",
        "print(1 and 1)"
      ]
    },
    {
      "cell_type": "code",
      "execution_count": 40,
      "metadata": {
        "id": "yKHeq0DKi6VA",
        "outputId": "84eeb4e3-9e1d-45a6-b716-710f2733e012"
      },
      "outputs": [
        {
          "name": "stdout",
          "output_type": "stream",
          "text": [
            "1\n"
          ]
        }
      ],
      "source": [
        "# Logical OR Operator\n",
        "print(0 or 1)"
      ]
    },
    {
      "cell_type": "code",
      "execution_count": 41,
      "metadata": {
        "id": "jo84EwVPi6VA",
        "outputId": "6277ec1d-0cc0-4ee5-8ebc-0139f6c6eb72"
      },
      "outputs": [
        {
          "name": "stdout",
          "output_type": "stream",
          "text": [
            "True\n"
          ]
        }
      ],
      "source": [
        "# Logical NOT Operator\n",
        "a = False\n",
        "print(not a)"
      ]
    },
    {
      "cell_type": "markdown",
      "metadata": {
        "id": "GMYfDSepi6VA"
      },
      "source": [
        "## Membership Operator"
      ]
    },
    {
      "cell_type": "code",
      "execution_count": 42,
      "metadata": {
        "id": "i0Wrrfefi6VA",
        "outputId": "d0aeb7f8-1aba-4f07-c78d-ad09f92ac391"
      },
      "outputs": [
        {
          "name": "stdout",
          "output_type": "stream",
          "text": [
            "[2, 'Hi', 5.6, (-7-5j), True, None]\n",
            "True\n",
            "False\n"
          ]
        }
      ],
      "source": [
        "print(f)    #List Variable defined Above\n",
        "print(2 in f)    # in operator\n",
        "print('hi' in f)"
      ]
    },
    {
      "cell_type": "code",
      "execution_count": 43,
      "metadata": {
        "id": "NsZZ6BhWi6VB",
        "outputId": "7c085e28-038b-49c5-a073-91526b215268"
      },
      "outputs": [
        {
          "name": "stdout",
          "output_type": "stream",
          "text": [
            "False\n"
          ]
        }
      ],
      "source": [
        "print(2 not in f)    #not in operator"
      ]
    },
    {
      "cell_type": "markdown",
      "metadata": {
        "id": "ciBHLmh8i6VB"
      },
      "source": [
        "## **Identity Operator**"
      ]
    },
    {
      "cell_type": "markdown",
      "metadata": {
        "id": "IF2DD6MJi6VB"
      },
      "source": [
        "**is Operator:** *Returns True if the operands or values on both sides of the operator point to the same object and False otherwise.*\n",
        "\n",
        "**For Example:** if a is b returns 1, then id(a) is same as id(b)"
      ]
    },
    {
      "cell_type": "code",
      "execution_count": 44,
      "metadata": {
        "id": "CgC0sdUSi6VC",
        "outputId": "7e885c64-744a-41d7-e2b0-07b64bcf3091"
      },
      "outputs": [
        {
          "name": "stdout",
          "output_type": "stream",
          "text": [
            "False\n"
          ]
        }
      ],
      "source": [
        "A = [1, 4, 5]\n",
        "B = [1, 4, 5]    # as they don't point the same object\n",
        "\n",
        "print(A is B)"
      ]
    },
    {
      "cell_type": "markdown",
      "metadata": {
        "id": "p-Ecja1Pi6VC"
      },
      "source": [
        "**is not Operator:** *Returns True if the operands or values on both sides of the operator does not point to the same object and False otherwise.*\n",
        "\n",
        "**For Example:** if a is not b returns 1, then id(a) is not same as id(b)"
      ]
    },
    {
      "cell_type": "code",
      "execution_count": 45,
      "metadata": {
        "id": "O5KAUxc3i6VC",
        "outputId": "0dd4d749-c05d-4b83-81a5-2574688b1857"
      },
      "outputs": [
        {
          "name": "stdout",
          "output_type": "stream",
          "text": [
            "True\n"
          ]
        }
      ],
      "source": [
        "A = [1, 4, 5]\n",
        "B = A    # as they point the same object\n",
        "\n",
        "print(A is B)"
      ]
    },
    {
      "cell_type": "markdown",
      "metadata": {
        "id": "mZvJKAq8i6VC"
      },
      "source": [
        "# Operations"
      ]
    },
    {
      "cell_type": "markdown",
      "metadata": {
        "id": "w_lhVqDmi6VD"
      },
      "source": [
        "**Concatenation**"
      ]
    },
    {
      "cell_type": "code",
      "execution_count": 46,
      "metadata": {
        "id": "ZXnGa2Xhi6VD",
        "outputId": "77f3e7f4-375d-4af3-db43-ff98581a44aa"
      },
      "outputs": [
        {
          "name": "stdout",
          "output_type": "stream",
          "text": [
            "ab\n",
            "Hello World!\n"
          ]
        }
      ],
      "source": [
        "print('a' + 'b')\n",
        "print('Hello' + ' World!')    #Watch out for the space"
      ]
    },
    {
      "cell_type": "markdown",
      "metadata": {
        "id": "Sacmqh4Ai6VD"
      },
      "source": [
        "**Repetition**"
      ]
    },
    {
      "cell_type": "code",
      "execution_count": 47,
      "metadata": {
        "id": "Z-rBowX5i6VD",
        "outputId": "124a058c-c5cc-44d3-d9ba-baf7d71c68e6"
      },
      "outputs": [
        {
          "name": "stdout",
          "output_type": "stream",
          "text": [
            "HiHiHi\n",
            "GWOC GWOC GWOC GWOC GWOC \n"
          ]
        }
      ],
      "source": [
        "print('Hi' * 3)\n",
        "print('GWOC ' * 5)    #Watch out for the space"
      ]
    },
    {
      "cell_type": "markdown",
      "metadata": {
        "id": "fK-PuU11i6VE"
      },
      "source": [
        "**Slicing**\n",
        "\n",
        "🚨🚨🚨🚨Try this on your own you are definitely going to enjoy it!!!🚨🚨🚨🚨"
      ]
    },
    {
      "cell_type": "code",
      "execution_count": 48,
      "metadata": {
        "id": "oCSgvGYHi6VE",
        "outputId": "aca2f77e-923a-4825-b4d0-8f1c7f68cea1"
      },
      "outputs": [
        {
          "name": "stdout",
          "output_type": "stream",
          "text": [
            "Original String:  Winter-of-Contributing-2021\n",
            "String Length:  27\n",
            "\n",
            "Case 1 -  Winter-of-Contributing-2021\n",
            "\n",
            "Case 2 -  1202-gnitubirtnoC-fo-retniW\n",
            "\n",
            "Case 3 -  Wint\n",
            "\n",
            "Case 4 -  1202\n"
          ]
        }
      ],
      "source": [
        "d = 'Winter-of-Contributing-2021'\n",
        "print('Original String: ', d)\n",
        "print('String Length: ', len(d))\n",
        "print()\n",
        "print('Case 1 - ', d[:])    # Original String\n",
        "print()\n",
        "print('Case 2 - ', d[::-1])    # Reversed String\n",
        "print()\n",
        "print('Case 3 - ', d[0:4])    # Positive Indexing\n",
        "print()\n",
        "print('Case 4 - ', d[-1:-5:-1])    # Negative Indexing"
      ]
    },
    {
      "cell_type": "markdown",
      "metadata": {
        "id": "D_QCWeRci6VF"
      },
      "source": [
        "## Type Conversion"
      ]
    },
    {
      "cell_type": "markdown",
      "metadata": {
        "id": "CoCqBNvIi6VF"
      },
      "source": [
        "**Method:** *Specify the data-type in front of the variable/value enclosed with in parathesis*\n",
        "\n",
        "To get started there are a few examples. Sure that there are lot of diffculties that will be faced here, which will be overcomed after practice."
      ]
    },
    {
      "cell_type": "code",
      "execution_count": 49,
      "metadata": {
        "id": "jjkknlUdi6VF",
        "outputId": "a8bdef09-153d-4e37-f288-1361898d27cc"
      },
      "outputs": [
        {
          "name": "stdout",
          "output_type": "stream",
          "text": [
            "Before Conversion:  <class 'str'>\n",
            "After Conversion:  <class 'int'>\n"
          ]
        }
      ],
      "source": [
        "print('Before Conversion: ', type('4'))\n",
        "print('After Conversion: ', type(int('4')))"
      ]
    },
    {
      "cell_type": "code",
      "execution_count": 50,
      "metadata": {
        "id": "V3DshcTki6VF",
        "outputId": "80f96cbf-3eb6-4a6a-b5e0-a3edca8af308"
      },
      "outputs": [
        {
          "name": "stdout",
          "output_type": "stream",
          "text": [
            "65\n"
          ]
        }
      ],
      "source": [
        "print(ord('A'))    #Returns corresponding ASCII Value of the Character"
      ]
    },
    {
      "cell_type": "code",
      "execution_count": 51,
      "metadata": {
        "id": "IFxa74TBi6VG",
        "outputId": "c41cfe14-2edd-462b-f712-791fd9a0e676"
      },
      "outputs": [
        {
          "name": "stdout",
          "output_type": "stream",
          "text": [
            "A\n"
          ]
        }
      ],
      "source": [
        "print(chr(65))    #Returns corresponding Character of the ASCII Value"
      ]
    },
    {
      "cell_type": "markdown",
      "metadata": {
        "id": "UrFEe78ui6VG"
      },
      "source": [
        "# Control Flow Statements - Sequential"
      ]
    },
    {
      "cell_type": "code",
      "execution_count": 52,
      "metadata": {
        "id": "lzRfNqBvi6VG",
        "outputId": "a1f072f6-0822-41b5-fdd3-b359405c8d96"
      },
      "outputs": [
        {
          "name": "stdout",
          "output_type": "stream",
          "text": [
            "First Line\n",
            "Second Line\n",
            "Done.\n"
          ]
        }
      ],
      "source": [
        "print('First Line')\n",
        "print('Second Line')\n",
        "print('Done.')"
      ]
    },
    {
      "cell_type": "markdown",
      "metadata": {
        "id": "32po6s0Ii6VG"
      },
      "source": [
        "## Selection\n",
        "\n",
        "**IF Statements**"
      ]
    },
    {
      "cell_type": "code",
      "execution_count": 53,
      "metadata": {
        "id": "IB6RHEfGi6VH",
        "outputId": "503a74ba-5db5-49dc-fa88-cbe68ea1818f"
      },
      "outputs": [
        {
          "name": "stdout",
          "output_type": "stream",
          "text": [
            "Hi\n"
          ]
        }
      ],
      "source": [
        "if (1 < 4):    # See the colon after the test expression\n",
        "    print('Hi')    #Look at the Indentation"
      ]
    },
    {
      "cell_type": "code",
      "execution_count": 54,
      "metadata": {
        "id": "ooWbn75Ci6VH",
        "outputId": "3bd1a916-7bad-409a-a64b-e422e64fef30"
      },
      "outputs": [
        {
          "name": "stdout",
          "output_type": "stream",
          "text": [
            "6  initially.\n",
            "7 it's incremented by 1.\n"
          ]
        }
      ],
      "source": [
        "num = int(input('Enter the number: '))\n",
        "print(num,' initially.')\n",
        "\n",
        "if (num > 0):\n",
        "    num += 1\n",
        "    \n",
        "print(num, 'it\\'s incremented by 1.')"
      ]
    },
    {
      "cell_type": "markdown",
      "metadata": {
        "id": "Y4_khmhUi6VH"
      },
      "source": [
        "**IF-ELSE Statements**"
      ]
    },
    {
      "cell_type": "code",
      "execution_count": 55,
      "metadata": {
        "id": "DHgd9nayi6VH",
        "outputId": "4b329d27-7894-4f5f-ea8c-4d1ec38f5e57"
      },
      "outputs": [
        {
          "name": "stdout",
          "output_type": "stream",
          "text": [
            "Negative.\n"
          ]
        }
      ],
      "source": [
        "num = int(input('Enter the number: '))\n",
        "if (num >= 0):\n",
        "    print('Positive')\n",
        "else:                     # See the colon after the else keyword\n",
        "    print('Negative.')"
      ]
    },
    {
      "cell_type": "markdown",
      "metadata": {
        "id": "JlKAlnCvi6VI"
      },
      "source": [
        "**IF-ELIF-ELSE Statements**"
      ]
    },
    {
      "cell_type": "code",
      "execution_count": 56,
      "metadata": {
        "id": "I6MvoZBdi6VI",
        "outputId": "e8a4178c-f42e-499a-ef7a-a926c276223b"
      },
      "outputs": [
        {
          "name": "stdout",
          "output_type": "stream",
          "text": [
            "Neither positive or negative.\n"
          ]
        }
      ],
      "source": [
        "num = int(input('Enter the number: '))\n",
        "if (num > 0):\n",
        "    print('Positive.')\n",
        "\n",
        "elif (num == 0):\n",
        "    print('Neither positive or negative.')\n",
        "\n",
        "else:\n",
        "    print('Negative.')"
      ]
    },
    {
      "cell_type": "markdown",
      "metadata": {
        "id": "BtLE65H0i6VI"
      },
      "source": [
        "**NESTED-IF Statements**"
      ]
    },
    {
      "cell_type": "code",
      "execution_count": 57,
      "metadata": {
        "id": "gJy-qrLpi6VI",
        "outputId": "f7de64bf-d0aa-4a9a-f44a-27309c279513"
      },
      "outputs": [
        {
          "name": "stdout",
          "output_type": "stream",
          "text": [
            "Check whether the number is Postitve or Negative.\n",
            "4 is Positive.\n"
          ]
        }
      ],
      "source": [
        "print('Check whether the number is Postitve or Negative.')\n",
        "num = int(input('Enter the number: '))\n",
        "\n",
        "if (num >= 0):\n",
        "    if (num > 0):\n",
        "        print(num, 'is Positive.')\n",
        "    else:\n",
        "        print(num, 'is Neither positive or Negative.')\n",
        "else:\n",
        "    print(num, 'is Negative.')"
      ]
    },
    {
      "cell_type": "markdown",
      "metadata": {
        "id": "ptCNwkPHi6VI"
      },
      "source": [
        "## Functions"
      ]
    },
    {
      "cell_type": "code",
      "execution_count": 58,
      "metadata": {
        "id": "UDIgMa6Li6VJ",
        "outputId": "af39af14-4105-4d62-da2e-f55bf8bd99e2"
      },
      "outputs": [
        {
          "name": "stdout",
          "output_type": "stream",
          "text": [
            "Welcome to the World of Python\n"
          ]
        }
      ],
      "source": [
        "def display():\n",
        "    \n",
        "    print('Welcome to the World of Python')\n",
        "\n",
        "display()"
      ]
    },
    {
      "cell_type": "markdown",
      "metadata": {
        "id": "cAauirtSi6VJ"
      },
      "source": [
        "### **Types of Functions**\n",
        "\n",
        "1. Built-in Functions\n",
        "2. Defined Functions"
      ]
    },
    {
      "cell_type": "markdown",
      "metadata": {},
      "source": [
        "***Built-in Functions***"
      ]
    },
    {
      "cell_type": "code",
      "execution_count": 59,
      "metadata": {
        "id": "wNoQnknui6VJ"
      },
      "outputs": [],
      "source": [
        "# import this     #Try this out yourselves & see the output😉😉"
      ]
    },
    {
      "cell_type": "code",
      "execution_count": 60,
      "metadata": {
        "id": "RBFomJOOi6VJ",
        "outputId": "30bf981d-d996-4cb3-f244-9b9332c7bf35"
      },
      "outputs": [
        {
          "name": "stdout",
          "output_type": "stream",
          "text": [
            "3.141592653589793\n"
          ]
        }
      ],
      "source": [
        "import math\n",
        "\n",
        "pi = math.pi\n",
        "print(pi)"
      ]
    },
    {
      "cell_type": "markdown",
      "metadata": {
        "id": "uwY_mlmvi6VJ"
      },
      "source": [
        "***User-Defined Functions***"
      ]
    },
    {
      "cell_type": "code",
      "execution_count": 61,
      "metadata": {
        "id": "PDCAmFbri6VK",
        "outputId": "3560995f-7478-4071-dab6-ccb26b8af0e2"
      },
      "outputs": [
        {
          "name": "stdout",
          "output_type": "stream",
          "text": [
            "Incremented Value: 16\n"
          ]
        }
      ],
      "source": [
        "def add(x):\n",
        "    return x + 1\n",
        "\n",
        "inp = int(input('Enter a number: '))\n",
        "ans = add(inp)\n",
        "print('Incremented Value:',ans)"
      ]
    },
    {
      "cell_type": "markdown",
      "metadata": {
        "id": "74ZaCGgfi6VK"
      },
      "source": [
        "### Key Terms"
      ]
    },
    {
      "cell_type": "markdown",
      "metadata": {},
      "source": [
        "**1. Arguments**\n",
        "\n",
        "➡ Required\n",
        "\n",
        "➡ Default\n",
        "\n",
        "➡ Keyword\n",
        "\n",
        "➡ Variable-Length"
      ]
    },
    {
      "cell_type": "code",
      "execution_count": 62,
      "metadata": {
        "id": "OvT8bshpi6VK",
        "outputId": "38c69a13-7090-4fdd-b898-fcd4116132a6"
      },
      "outputs": [
        {
          "name": "stdout",
          "output_type": "stream",
          "text": [
            "\n",
            "Value is GWOC\n"
          ]
        }
      ],
      "source": [
        "## Required Argument ##\n",
        "\n",
        "def display(s):    # here x is the required aregument whose value is passed from the variable x\n",
        "    print('\\nValue is',s)\n",
        "    \n",
        "x = input('Enter a string: ')\n",
        "display(x)"
      ]
    },
    {
      "cell_type": "code",
      "execution_count": 64,
      "metadata": {
        "id": "Dnh49mKWi6VK",
        "outputId": "b9eb7610-947e-481f-d9a4-803e42d96e4e"
      },
      "outputs": [
        {
          "name": "stdout",
          "output_type": "stream",
          "text": [
            "\n",
            "String Value: Open Source\n",
            "Integer Value: 9\n",
            "Floating Value: 21.11\n"
          ]
        }
      ],
      "source": [
        "## Keyword Argument ##\n",
        "\n",
        "def display(s, nat_x, dec_y):\n",
        "    print('\\nString Value:', s)\n",
        "    print('Integer Value:', nat_x)\n",
        "    print('Floating Value:', dec_y)\n",
        "    \n",
        "a1 = input('Enter string value: ')\n",
        "a2 = float(input('Enter float value: '))\n",
        "a3 = int(input('Enter integer value: '))\n",
        "\n",
        "display(s = a1, nat_x = a3, dec_y = a2)"
      ]
    },
    {
      "cell_type": "code",
      "execution_count": 65,
      "metadata": {
        "id": "Cz7kZfONi6VL",
        "outputId": "6fe059c8-ec00-4b67-f68c-7928dbbd645e"
      },
      "outputs": [
        {
          "name": "stdout",
          "output_type": "stream",
          "text": [
            "\n",
            "Name: Aryan\n",
            "Course: B.E.\n"
          ]
        }
      ],
      "source": [
        "## Default Argument ##\n",
        "\n",
        "# You can have any number of default arguments in the function\n",
        "# If there are default arguments, then they must eb written after the non-default arguments\n",
        "\n",
        "def display(name, course = 'B.E.'):\n",
        "    print('\\nName:',name + '\\nCourse:',course)\n",
        "    \n",
        "name = input('Enter name: ')\n",
        "\n",
        "display(name)"
      ]
    },
    {
      "cell_type": "code",
      "execution_count": 66,
      "metadata": {
        "id": "nv34MGoei6VN",
        "outputId": "8448c83e-045b-47d6-8e80-9ae1e9c6d327"
      },
      "outputs": [
        {
          "name": "stdout",
          "output_type": "stream",
          "text": [
            "\n",
            "Name: Ayushi\n",
            "Favourite Subjects are: Python Programming\tMathematics\tDataScience\tMachineLearning\t"
          ]
        }
      ],
      "source": [
        "## Variable-Length Argument ##\n",
        "\n",
        "# in some cases you may not know how many arguments will be passed to the function\n",
        "# In such cases we can use function call with arbitary number of arguments\n",
        "# The parameter has to be prefixed with a asterisk (*) to denote the varible-length argument\n",
        "\n",
        "def fav(name, *subjects):\n",
        "    print('\\nName:', name)\n",
        "    print('Favourite Subjects are:',end =' ')\n",
        "    for i in subjects:\n",
        "        print(i, end = '\\t')\n",
        "        \n",
        "name = input('Enter name: ')\n",
        "fav(name, \"Python Programming\", \"Mathematics\", \"DataScience\", \"MachineLearning\")"
      ]
    },
    {
      "cell_type": "markdown",
      "metadata": {
        "id": "9pxH2BwIi6VN"
      },
      "source": [
        "**2. Local Variable**"
      ]
    },
    {
      "cell_type": "markdown",
      "metadata": {},
      "source": [
        "**3. Global Variable**"
      ]
    },
    {
      "cell_type": "code",
      "execution_count": 67,
      "metadata": {
        "id": "paX4LlAki6VN",
        "outputId": "4acc5cee-457b-49df-9b6d-93181074e95f"
      },
      "outputs": [
        {
          "name": "stdout",
          "output_type": "stream",
          "text": [
            "Global Variable num1 = 10\n",
            "In function - Local Variable num2 = 20\n",
            "Local Variable num3 = 30\n",
            "\n",
            "num1 again = 10\n"
          ]
        }
      ],
      "source": [
        "num1 = 10    # Global Variable\n",
        "print('Global Variable num1 =', num1)\n",
        "\n",
        "def func(num2):    # here num2 is function parameter\n",
        "    print('In function - Local Variable num2 =', num2)\n",
        "    num3 = 30\n",
        "    print('Local Variable num3 =', num3)\n",
        "    \n",
        "func(20)\n",
        "print()\n",
        "print('num1 again =', num1)    # Global Varible is accessible\n",
        "\n",
        "# print('num3 out =', num3)    #NameError is num3 is not accessible outside and is the same case with num2 as well"
      ]
    },
    {
      "cell_type": "code",
      "execution_count": 68,
      "metadata": {
        "id": "AlCS0cqvi6VO",
        "outputId": "757666a3-05fb-4567-cf18-1ab89479a2ab"
      },
      "outputs": [
        {
          "name": "stdout",
          "output_type": "stream",
          "text": [
            "Outside function: var1 = Good \n",
            "Outside function: var2 = Morning\n",
            "Greetings to everyone😊😊😊 Good Morning\n"
          ]
        }
      ],
      "source": [
        "# Access Local Variable globally using Global Statement\n",
        "\n",
        "var_1 = 'Good '\n",
        "\n",
        "def greet():\n",
        "    global var_2    # see the color of the global <=> it's a reserved word\n",
        "    var_2 = 'Morning'\n",
        "    \n",
        "greet()\n",
        "print('Outside function: var1 =', var_1)    # accessed as it is global\n",
        "print('Outside function: var2 =', var_2)    # local variable made global and accessed\n",
        "\n",
        "print('Greetings to everyone😊😊😊', var_1 + var_2)"
      ]
    },
    {
      "cell_type": "markdown",
      "metadata": {
        "id": "B7shVG95i6VO"
      },
      "source": [
        "**4. Fruitful Functions**"
      ]
    },
    {
      "cell_type": "code",
      "execution_count": 69,
      "metadata": {
        "id": "yxSLko62i6VO",
        "outputId": "cdf24902-efe5-4559-fd73-7ff2c2bc8d81"
      },
      "outputs": [
        {
          "name": "stdout",
          "output_type": "stream",
          "text": [
            "Cube of 8 is: 512\n"
          ]
        }
      ],
      "source": [
        "def cube(x):\n",
        "    return x * x * x\n",
        "\n",
        "num = int(input('Enter a number: '))\n",
        "val = cube(num)\n",
        "print('Cube of', num, 'is:', val)"
      ]
    },
    {
      "cell_type": "markdown",
      "metadata": {
        "id": "_3m1B71ri6VO"
      },
      "source": [
        "**5. Lambda/Ananymous Functions**\n",
        "\n",
        "*Syntax:* ```lambda arguments: expression```"
      ]
    },
    {
      "cell_type": "code",
      "execution_count": 70,
      "metadata": {
        "id": "1kvf9osmi6VP",
        "outputId": "9c08be99-16c8-45a0-9345-528010d9910c"
      },
      "outputs": [
        {
          "name": "stdout",
          "output_type": "stream",
          "text": [
            "Multiplication is 24\n"
          ]
        }
      ],
      "source": [
        "mul = lambda x, y: x * y\n",
        "\n",
        "num1, num2 = int(input('Enter first number: ')), int(input('Enter second number: '))\n",
        "print('Multiplication is', mul(num1, num2))"
      ]
    },
    {
      "cell_type": "markdown",
      "metadata": {
        "id": "jQlxianmV2sv"
      },
      "source": [
        "#### Alias\n",
        "above code is same as writing a user-defined function like\n",
        "\n",
        "**def mul(x, y):**<br>\n",
        "**return x * y**"
      ]
    },
    {
      "cell_type": "markdown",
      "metadata": {
        "id": "omz9yFBJi6VP"
      },
      "source": [
        "# Sequences\n",
        "\n",
        "> ***Strings:***  ✅✅See previous cells which have strings involved✅✅\n",
        "\n",
        "> ***Lists***\n",
        "\n",
        "> ***Tuples***"
      ]
    },
    {
      "cell_type": "markdown",
      "metadata": {
        "id": "7DCOmqdpi6VQ"
      },
      "source": [
        "## Lists\n",
        "\n",
        "### Creating a List"
      ]
    },
    {
      "cell_type": "code",
      "execution_count": 71,
      "metadata": {
        "id": "0u6oRbToi6VQ",
        "outputId": "59fd3af0-41ad-4819-8e63-20ca52da4d62"
      },
      "outputs": [
        {
          "name": "stdout",
          "output_type": "stream",
          "text": [
            "[]\n"
          ]
        }
      ],
      "source": [
        "l1 = list()    # is same as writing l1 = []\n",
        "# initalizing a empty list\n",
        "\n",
        "print(l1)"
      ]
    },
    {
      "cell_type": "code",
      "execution_count": 72,
      "metadata": {
        "id": "OPcsccS4i6VQ",
        "outputId": "aa4f96f4-7557-4d81-a2bd-87d1e591bd68"
      },
      "outputs": [
        {
          "name": "stdout",
          "output_type": "stream",
          "text": [
            "List holds values of all data-types: [1, 'Two', 3.0, True]\n"
          ]
        }
      ],
      "source": [
        "l1 = [1, 'Two', 3.0, True]\n",
        "\n",
        "print('List holds values of all data-types:', l1)"
      ]
    },
    {
      "cell_type": "markdown",
      "metadata": {
        "id": "m2bM5kOzi6VR"
      },
      "source": [
        "### Accessing Values\n",
        "\n",
        "**Sequence = Seq_Name[start : stop : step]**\n",
        "\n",
        ">***End stops at end - 1***\n",
        "\n",
        "*It is not mandatory to define all the three parameters*"
      ]
    },
    {
      "cell_type": "code",
      "execution_count": 73,
      "metadata": {
        "id": "8OaE5877i6VR",
        "outputId": "ccd3c344-39e4-4a04-9f59-423f8df4bef2"
      },
      "outputs": [
        {
          "name": "stdout",
          "output_type": "stream",
          "text": [
            "[1, 2, 3, 4, 5, 6, 7, 8, 9, 10]\n",
            "\n",
            "6\n",
            "[1, 2, 3, 4, 5, 6, 7, 8, 9, 10]\n",
            "[10, 9, 8, 7, 6, 5, 4, 3, 2, 1]\n",
            "[1, 3, 5, 7, 9]\n",
            "[2, 4, 6, 8, 10]\n"
          ]
        }
      ],
      "source": [
        "l2 = [1, 2, 3, 4, 5, 6, 7, 8, 9, 10]\n",
        "\n",
        "print(l2)\n",
        "print()\n",
        "\n",
        "print(l2[5])       # access the 6th element of the list as indexing begins from zero\n",
        "print(l2[:])       # same list\n",
        "print(l2[::-1])    # reversed list\n",
        "print(l2[::2])     # odd numbers\n",
        "print(l2[1::2])    # even numbers"
      ]
    },
    {
      "cell_type": "markdown",
      "metadata": {
        "id": "-_iocDTPi6VR"
      },
      "source": [
        "### Updating Values\n",
        "\n",
        "#### Changing Values"
      ]
    },
    {
      "cell_type": "code",
      "execution_count": 74,
      "metadata": {
        "id": "G4m2CHqGi6VR",
        "outputId": "39f4f6b6-37e3-4f99-b560-3a39940f418e"
      },
      "outputs": [
        {
          "name": "stdout",
          "output_type": "stream",
          "text": [
            "[1, 2, 3, 4, 5, 6, 7, 8, 9, 10]\n",
            "[1, 2, 3, 4, 'Five', 6, 7, 8, 9, 10]\n"
          ]
        }
      ],
      "source": [
        "l3 = l2\n",
        "print(l3)\n",
        "\n",
        "l3[4] = 'Five'\n",
        "\n",
        "print(l3)"
      ]
    },
    {
      "cell_type": "markdown",
      "metadata": {
        "id": "YaH20aEgi6VS"
      },
      "source": [
        "#### Deleting Values\n",
        "\n",
        ">***del*** Use if the exact index / element to be deleted is known\n",
        "\n",
        ">***remove*** Use to delete unknown element and removes the first occurrence of value"
      ]
    },
    {
      "cell_type": "code",
      "execution_count": 75,
      "metadata": {
        "id": "fOcSKfrJi6VS",
        "outputId": "c290daf2-7868-4e54-9936-788a8a1ba20d"
      },
      "outputs": [
        {
          "name": "stdout",
          "output_type": "stream",
          "text": [
            "Before Deleting: [1, 2, 3, 4, 'Five', 6, 7, 8, 9, 10]\n",
            "After Deleting [1, 2, 3, 4, 6, 7, 8, 9, 10]\n"
          ]
        }
      ],
      "source": [
        "# using del keyword\n",
        "\n",
        "l4 = l3\n",
        "print('Before Deleting:',l4)\n",
        "\n",
        "del l4[4]    # deletes the value at 4th index position\n",
        "\n",
        "print('After Deleting', l4)"
      ]
    },
    {
      "cell_type": "code",
      "execution_count": 76,
      "metadata": {
        "id": "-ejjQBm0i6VS",
        "outputId": "83c77e06-5ec6-4172-8c8a-53a3c7c6808c",
        "scrolled": true
      },
      "outputs": [
        {
          "name": "stdout",
          "output_type": "stream",
          "text": [
            "[]\n"
          ]
        }
      ],
      "source": [
        "del l4[:]    # deletes entire vealues in the list\n",
        "\n",
        "print(l4)"
      ]
    },
    {
      "cell_type": "code",
      "execution_count": 77,
      "metadata": {
        "id": "jWgppDvhi6VS"
      },
      "outputs": [],
      "source": [
        "del l4    # deletes the list entirely\n",
        "\n",
        "# print(l4)   # uncomment and check the Ouptut"
      ]
    },
    {
      "cell_type": "code",
      "execution_count": 78,
      "metadata": {
        "id": "fKfRbCqji6VT",
        "outputId": "34d43616-9a22-4f32-8432-ea6a7cf7f5fd"
      },
      "outputs": [
        {
          "name": "stdout",
          "output_type": "stream",
          "text": [
            "Before Removing: [1, 2, 3, 4, 5, 6, 7, 3, 9, 10]\n",
            "After Removing: [1, 2, 4, 5, 6, 7, 3, 9, 10]\n"
          ]
        }
      ],
      "source": [
        "l5 = [1, 2, 3, 4, 5, 6, 7, 3, 9, 10]\n",
        "print('Before Removing:', l5)\n",
        "\n",
        "l5.remove(3)    # removes the first occurence of 3 located at index: 2\n",
        "\n",
        "print('After Removing:',l5)"
      ]
    },
    {
      "cell_type": "code",
      "execution_count": 79,
      "metadata": {
        "id": "qmn4lksUi6VT",
        "outputId": "3fcc10bc-de95-4dae-e497-a16e6d79eae5"
      },
      "outputs": [
        {
          "name": "stdout",
          "output_type": "stream",
          "text": [
            "After Removing Second Occurence: [1, 2, 4, 5, 6, 7, 9, 10]\n"
          ]
        }
      ],
      "source": [
        "l5.remove(3)    # removes the second occurence at index: -3(negative indexing = index: 7)\n",
        "print('After Removing Second Occurence:', l5)"
      ]
    },
    {
      "cell_type": "markdown",
      "metadata": {
        "id": "DRhSrYRzi6VT"
      },
      "source": [
        "### Nested Lists"
      ]
    },
    {
      "cell_type": "code",
      "execution_count": 80,
      "metadata": {
        "id": "qilLeiCgi6VU",
        "outputId": "5248ce1b-c0e9-4e2e-9a0a-600ea24f1504"
      },
      "outputs": [
        {
          "name": "stdout",
          "output_type": "stream",
          "text": [
            "Nested List: ['hi', 4.2, 8, [2, 4.5, 'me'], True]\n"
          ]
        }
      ],
      "source": [
        "l6 =['hi', 4.2, 8, [2, 4.5, 'me'], True]\n",
        "print('Nested List:', l6)"
      ]
    },
    {
      "cell_type": "markdown",
      "metadata": {
        "id": "xUHPdugwi6VU"
      },
      "source": [
        "### Acccessing elements of a Nested List"
      ]
    },
    {
      "cell_type": "code",
      "execution_count": 81,
      "metadata": {
        "id": "MJpJFpbki6VU",
        "outputId": "fe1b4412-9236-4a50-a0cb-8f28e734ec20"
      },
      "outputs": [
        {
          "name": "stdout",
          "output_type": "stream",
          "text": [
            "['hi', 4.2, 8, [2, 4.5, 'me'], True]\n",
            "\n",
            "4.2\n",
            "[2, 4.5, 'me']\n",
            "me\n"
          ]
        }
      ],
      "source": [
        "print(l6)\n",
        "print()\n",
        "\n",
        "print(l6[1])   # accessing the element at position: 2\n",
        "print(l6[3])   # accessing the element at position: 4\n",
        "print(l6[3][2])# accessing the string 'me'"
      ]
    },
    {
      "cell_type": "markdown",
      "metadata": {
        "id": "e5aZByILi6VU"
      },
      "source": [
        "______________________________________________________________________________\n",
        "\n",
        "### Cloning\n",
        "\n",
        "**Learn More about Cloning here:**\n",
        "\n",
        "http://bit.ly/cloning_list\n",
        "\n",
        "_______________________________________________________________________________"
      ]
    },
    {
      "cell_type": "markdown",
      "metadata": {
        "id": "h_CMK04qi6VU"
      },
      "source": [
        "### List Operations\n",
        "\n",
        "- Append\n",
        "- Inserting\n",
        "\n",
        "***Adds element to the list***"
      ]
    },
    {
      "cell_type": "markdown",
      "metadata": {
        "id": "AkvlCwOvi6VV"
      },
      "source": [
        "#### Append"
      ]
    },
    {
      "cell_type": "code",
      "execution_count": 82,
      "metadata": {
        "id": "UR1uc9Tdi6VV",
        "outputId": "326b0127-c3b1-43ae-db64-c98a66c15464"
      },
      "outputs": [
        {
          "name": "stdout",
          "output_type": "stream",
          "text": [
            "List Before Appending: [1, 2, 3, 4, 5, 6, 7, 3, 9, 10]\n",
            "List After Apppending: [1, 2, 3, 4, 5, 6, 7, 3, 9, 10, 11]\n"
          ]
        }
      ],
      "source": [
        "l7 = [1, 2, 3, 4, 5, 6, 7, 3, 9, 10]\n",
        "print('List Before Appending:', l7)\n",
        "\n",
        "l7.append(11)    # adds element with value 11 at the end of the list\n",
        "print('List After Apppending:', l7)"
      ]
    },
    {
      "cell_type": "markdown",
      "metadata": {
        "id": "7xSiuDVEi6VV"
      },
      "source": [
        "#### Insert\n",
        "\n",
        "**Insert takes in two parameters (index, obj)**\n",
        "\n",
        "*where obj is basically any value*"
      ]
    },
    {
      "cell_type": "code",
      "execution_count": 83,
      "metadata": {
        "id": "KGoCM-qai6VV",
        "outputId": "474fe367-f9e4-4d9f-80ad-e4d9f7f7f2a2"
      },
      "outputs": [
        {
          "name": "stdout",
          "output_type": "stream",
          "text": [
            "List before Appending: [1, 2, 3, 4, 5, 6, 7, 9, 10]\n",
            "After Inserting: [1, 2, 3, 4, 5, 6, 7, 8, 9, 10]\n"
          ]
        }
      ],
      "source": [
        "l8 = [1, 2, 3, 4, 5, 6, 7, 9, 10]\n",
        "print('List before Appending:', l8)\n",
        "\n",
        "l8.insert(7, 8)    # here at index: 7 value 8 is added\n",
        "print('After Inserting:', l8)"
      ]
    },
    {
      "cell_type": "markdown",
      "metadata": {
        "id": "iWTTZ67Bi6VW"
      },
      "source": [
        "### Count\n",
        "\n",
        "*Counts the occurence of a particular element is a List*\n",
        "\n",
        "***Syntax*** *: list_name.count(object)*"
      ]
    },
    {
      "cell_type": "code",
      "execution_count": 84,
      "metadata": {
        "id": "wrTrxPZ-i6VW",
        "outputId": "da0af864-94dd-44b6-b646-a2019364fedd"
      },
      "outputs": [
        {
          "data": {
            "text/plain": [
              "2"
            ]
          },
          "execution_count": 84,
          "metadata": {},
          "output_type": "execute_result"
        }
      ],
      "source": [
        "l9 = [1, 2, 3, 4, 5, 6, 7, 3, 9, 10]\n",
        "\n",
        "l9.count(3)"
      ]
    },
    {
      "cell_type": "markdown",
      "metadata": {
        "id": "ID2pQsBzi6VW"
      },
      "source": [
        "### Index\n",
        "\n",
        "*Returns the first occurence of a particular element is a List. If not found returns a ValueError.*\n",
        "\n",
        "***Syntax*** *: list_name.count(object)*"
      ]
    },
    {
      "cell_type": "code",
      "execution_count": 85,
      "metadata": {
        "id": "8BKTScF_i6VX",
        "outputId": "c30fcc25-4aab-4d56-f793-2ef0a13eaa56"
      },
      "outputs": [
        {
          "name": "stdout",
          "output_type": "stream",
          "text": [
            "[1, 2, 3, 4, 5, 6, 7, 3, 9, 10]\n"
          ]
        },
        {
          "data": {
            "text/plain": [
              "2"
            ]
          },
          "execution_count": 85,
          "metadata": {},
          "output_type": "execute_result"
        }
      ],
      "source": [
        "print(l9)\n",
        "\n",
        "l9.index(3)    # returns the first occurence even thogh there is 3 occuring twice"
      ]
    },
    {
      "cell_type": "markdown",
      "metadata": {
        "id": "kHfwluR5i6VX"
      },
      "source": [
        "### Reverse\n",
        "\n",
        "*Reverses the elements in the list.*\n",
        "\n",
        "***Syntax: list_name.reverse()***"
      ]
    },
    {
      "cell_type": "code",
      "execution_count": 86,
      "metadata": {
        "id": "RsWYxwIei6VX",
        "outputId": "e7bd146e-db6d-4437-9639-5c108b5c29b7"
      },
      "outputs": [
        {
          "name": "stdout",
          "output_type": "stream",
          "text": [
            "[10, 9, 3, 7, 6, 5, 4, 3, 2, 1]\n"
          ]
        }
      ],
      "source": [
        "l9.reverse()\n",
        "print(l9)"
      ]
    },
    {
      "cell_type": "markdown",
      "metadata": {
        "id": "TBoLnaDgi6VY"
      },
      "source": [
        "_______________________________________________________________________________\n",
        "\n",
        "***There are many more List Methods. Feel free to check this out which has a few mentioned:*** https://bit.ly/3zUcCy8\n",
        "_______________________________________________________________________________\n",
        "\n",
        "> Access the Lists Docs here: https://bit.ly/3zJTanE"
      ]
    },
    {
      "cell_type": "markdown",
      "metadata": {
        "id": "NfcCdY8Bi6VY"
      },
      "source": [
        "## Tuples\n",
        "\n",
        "### Creating a Tuple"
      ]
    },
    {
      "cell_type": "code",
      "execution_count": 87,
      "metadata": {
        "id": "n7Q696cmi6VY",
        "outputId": "ebd40537-7316-43e6-d838-72cc51267e79"
      },
      "outputs": [
        {
          "data": {
            "text/plain": [
              "()"
            ]
          },
          "execution_count": 87,
          "metadata": {},
          "output_type": "execute_result"
        }
      ],
      "source": [
        "tup1 = tuple()    #is same as writing >>> tup1 = ()\n",
        "# above code defines a empty tuple\n",
        "\n",
        "tup1"
      ]
    },
    {
      "cell_type": "markdown",
      "metadata": {
        "id": "NAou5ecbi6VY"
      },
      "source": [
        "🚨🚨**Be careful while using a single element tuple**🚨🚨"
      ]
    },
    {
      "cell_type": "code",
      "execution_count": 88,
      "metadata": {
        "id": "s3hjuVYBi6VZ",
        "outputId": "318ca6f2-5f04-4611-8b8c-fff3e32b7962"
      },
      "outputs": [
        {
          "name": "stdout",
          "output_type": "stream",
          "text": [
            "(5,)\n",
            "<class 'tuple'>\n",
            "\n",
            " 5\n",
            "<class 'int'>\n"
          ]
        }
      ],
      "source": [
        "tup1 = (5, )\n",
        "# above code initialzes tup1 of type tuple with value 5\n",
        "\n",
        "print(tup1)\n",
        "print(type(tup1))\n",
        "\n",
        "tup1 = (5)\n",
        "# above code initialzes tup1 of type integer with value 5\n",
        "# watch for the comma in the code and the output as well😉😉\n",
        "\n",
        "print('\\n', tup1)\n",
        "print(type(tup1))"
      ]
    },
    {
      "cell_type": "code",
      "execution_count": 89,
      "metadata": {
        "id": "lJvBTxN-i6VZ",
        "outputId": "1eb17c57-cab8-41d8-898a-c1fca52e1899"
      },
      "outputs": [
        {
          "data": {
            "text/plain": [
              "(1, 'abc', -8.3, 'm')"
            ]
          },
          "execution_count": 89,
          "metadata": {},
          "output_type": "execute_result"
        }
      ],
      "source": [
        "tup2 = (1, 'abc', -8.3, 'm')\n",
        "# tuple named tup2 with mixed values\n",
        "\n",
        "tup2"
      ]
    },
    {
      "cell_type": "markdown",
      "metadata": {
        "id": "a3x7bzZBi6VZ"
      },
      "source": [
        "### Utility of Tuple\n",
        "\n",
        "#### **Div Mod Function**"
      ]
    },
    {
      "cell_type": "code",
      "execution_count": 90,
      "metadata": {
        "id": "9wydxId2i6VZ",
        "outputId": "4a6089dc-dad4-413a-a00c-d862e46c0958"
      },
      "outputs": [
        {
          "name": "stdout",
          "output_type": "stream",
          "text": [
            "Quotient:  3\n",
            "Remainder:  1\n"
          ]
        }
      ],
      "source": [
        "(q, r) = divmod(10, 3)\n",
        "print('Quotient: ', q)\n",
        "print('Remainder: ', r)"
      ]
    },
    {
      "cell_type": "markdown",
      "metadata": {
        "id": "uymR_b_9i6Va"
      },
      "source": [
        "### Accessing Elements in a Tuple\n",
        "\n",
        "**Similar to that of List**"
      ]
    },
    {
      "cell_type": "code",
      "execution_count": 91,
      "metadata": {
        "id": "L3risri6i6Va",
        "outputId": "6c1a2fbd-92b7-4199-cde8-3c0e61ac4626"
      },
      "outputs": [
        {
          "name": "stdout",
          "output_type": "stream",
          "text": [
            "(1, 2, 3, 4, 5, 6, 7, 8, 9, 10)\n",
            "(10, 9, 8, 7, 6, 5, 4, 3, 2, 1)\n",
            "(2, 4, 6, 8, 10)\n",
            "(1, 3, 5, 7, 9)\n"
          ]
        }
      ],
      "source": [
        "tup4 = (1, 2, 3, 4, 5, 6, 7, 8, 9, 10)\n",
        "\n",
        "print(tup4[:])       # printing as such\n",
        "print(tup4[::-1])    # reversing tuple\n",
        "\n",
        "even = tup4[1::2]    # accessing only even numbers\n",
        "print(even)\n",
        "\n",
        "odd = tup4[::2]      # accessing only odd numbers\n",
        "print(odd)"
      ]
    },
    {
      "cell_type": "markdown",
      "metadata": {
        "id": "IuTATw_Wi6Va"
      },
      "source": [
        "### Updating Values in a Tuple"
      ]
    },
    {
      "cell_type": "code",
      "execution_count": 92,
      "metadata": {
        "id": "VkgAs8VRi6Vb",
        "outputId": "c39e5a3c-e39b-42ba-f807-02a197add625"
      },
      "outputs": [
        {
          "name": "stdout",
          "output_type": "stream",
          "text": [
            "('N', 'u', 'm', 'b', 'e', 'r', 's', 6, 7, 8, 9, 10)\n"
          ]
        }
      ],
      "source": [
        "Tup1 = tuple('Numbers')\n",
        "Tup2 = (6, 7, 8, 9, 10)\n",
        "\n",
        "Tup3 = Tup1 + Tup2    # cannot alter the values of the same tuple, but can be stored in a new tuple\n",
        "print(Tup3)"
      ]
    },
    {
      "cell_type": "markdown",
      "metadata": {
        "id": "1ew1AptVi6Vb"
      },
      "source": [
        "### Deletion Operation"
      ]
    },
    {
      "cell_type": "code",
      "execution_count": 93,
      "metadata": {
        "id": "opyAw57oi6Vb",
        "outputId": "63f3e4b2-c74a-4dc7-a6dd-fb0f318f7b51"
      },
      "outputs": [
        {
          "name": "stdout",
          "output_type": "stream",
          "text": [
            "(6, 7, 8, 9, 10)\n"
          ]
        }
      ],
      "source": [
        "print(Tup2)"
      ]
    },
    {
      "cell_type": "code",
      "execution_count": 94,
      "metadata": {
        "id": "KfBT_AAfi6Vb"
      },
      "outputs": [],
      "source": [
        "# del Tup2[3]    # prompts a TypeError as we cannot alter the tuple"
      ]
    },
    {
      "cell_type": "code",
      "execution_count": 95,
      "metadata": {
        "id": "ds_8LC3ui6Vc"
      },
      "outputs": [],
      "source": [
        "# as we cannot delete the tuple elements we have to delete the entire tuple\n",
        "\n",
        "del Tup2\n",
        "\n",
        "# print(Tup2)    # produces NameError as we have deleted it"
      ]
    },
    {
      "cell_type": "markdown",
      "metadata": {
        "id": "44sWiqaZi6Vc"
      },
      "source": [
        "### Tuple Assignment"
      ]
    },
    {
      "cell_type": "code",
      "execution_count": 96,
      "metadata": {
        "id": "NxRfehB2i6Vc",
        "outputId": "23cfe939-4786-4a82-95cc-30f950f5ed6e"
      },
      "outputs": [
        {
          "name": "stdout",
          "output_type": "stream",
          "text": [
            "1 \t 5 \t 7\n"
          ]
        }
      ],
      "source": [
        "(num1, num2, num3) = (1, num1+1, num2+1)    # make sure that number of elements on the left and right are the same\n",
        "\n",
        "print(num1, '\\t', num2, '\\t', num3)"
      ]
    },
    {
      "cell_type": "markdown",
      "metadata": {
        "id": "O7VLrS2fi6Vc"
      },
      "source": [
        "### Returning Multiple Values"
      ]
    },
    {
      "cell_type": "code",
      "execution_count": 97,
      "metadata": {
        "id": "15MwZ3G3i6Vc",
        "outputId": "cd42c937-b7ce-4559-a4a0-e2f5b776f2ba"
      },
      "outputs": [
        {
          "name": "stdout",
          "output_type": "stream",
          "text": [
            "(96, 54, 33, 34, 11, 77, 83, 32, 98, 51) \n",
            "\n",
            "Higest Mark: 98\n",
            "Lowest Mark: 11\n"
          ]
        }
      ],
      "source": [
        "def min_max(values):\n",
        "    x = max(values)\n",
        "    y = min(values)\n",
        "    \n",
        "    return (x, y)\n",
        "\n",
        "vals = (96, 54, 33, 34, 11, 77, 83, 32, 98, 51)\n",
        "print(vals, '\\n')\n",
        "\n",
        "(max_mark, min_mark) = min_max(vals)\n",
        "max_mark = print('Higest Mark:', max_mark)\n",
        "min_mark = print('Lowest Mark:', min_mark)"
      ]
    },
    {
      "cell_type": "markdown",
      "metadata": {
        "id": "aRT5oJmwi6Vd"
      },
      "source": [
        "### Nested Tuples"
      ]
    },
    {
      "cell_type": "code",
      "execution_count": 98,
      "metadata": {
        "id": "jMHrzgXbi6Vd",
        "outputId": "c347c0b7-2c75-42e4-8215-850a7c7f7575"
      },
      "outputs": [
        {
          "name": "stdout",
          "output_type": "stream",
          "text": [
            "(('A', 'CSE', 95.3), ('B', 'ECE', 98.4), ('C', 'AI', 100))\n",
            "\n",
            "ECE\n",
            "95.3\n",
            "C\n"
          ]
        }
      ],
      "source": [
        "mark_list = (\n",
        "             ('A', 'CSE', 95.3),\n",
        "             ('B', 'ECE', 98.4),\n",
        "             ('C', 'AI', 100)\n",
        ")\n",
        "\n",
        "print(mark_list)\n",
        "print()\n",
        "\n",
        "# accessing elemments\n",
        "print(mark_list[1][1])    # access the element ECE\n",
        "print(mark_list[0][2])    # access the mark 95.3\n",
        "print(mark_list[2][0])    # access the ID: 'C'"
      ]
    },
    {
      "cell_type": "markdown",
      "metadata": {
        "id": "EuvgbGQIi6Vd"
      },
      "source": [
        "## Dictionary\n",
        "\n",
        "***They are Mappings rather than Sequences***\n",
        "\n",
        "### Creating a Dictionary"
      ]
    },
    {
      "cell_type": "code",
      "execution_count": 99,
      "metadata": {
        "id": "LF51oLhbi6Vd",
        "outputId": "20e68b42-1005-43a8-f1fa-d159fa97d0c3",
        "scrolled": true
      },
      "outputs": [
        {
          "name": "stdout",
          "output_type": "stream",
          "text": [
            "{}\n"
          ]
        }
      ],
      "source": [
        "Dict = dict()    # which is same as writing Dict = {}\n",
        "# Initializes a empty dictionary\n",
        "\n",
        "print(Dict)"
      ]
    },
    {
      "cell_type": "markdown",
      "metadata": {
        "id": "6s3q_VcGi6Ve"
      },
      "source": [
        "### About Dictionary Keys\n",
        "\n",
        "*They are case sensitve*\n",
        "*Key must be a immutable data types like:*\n",
        ">**Strings**\n",
        "\n",
        ">**Numbers**\n",
        "\n",
        ">**Tuples**\n",
        "\n",
        "*Keys are case sensitive i.e. name and Name are different keys*"
      ]
    },
    {
      "cell_type": "code",
      "execution_count": 107,
      "metadata": {
        "id": "sy7QorCsi6Ve",
        "outputId": "eb69b9bf-5073-4206-9b8e-51b143375dda"
      },
      "outputs": [
        {
          "name": "stdout",
          "output_type": "stream",
          "text": [
            "{'Name': 'Girl Script', 'RollNo': 2021, 'Course': 'OpenSource', 'Domain': 'Python', 'Year': 2021}\n"
          ]
        }
      ],
      "source": [
        "Dict1 = {\n",
        "    'Name' : 'Girl Script',\n",
        "    'RollNo' : 2021,\n",
        "    'Course' : 'OpenSource',\n",
        "    'Domain' : 'Python',\n",
        "    'Year' : 2021\n",
        "}\n",
        "\n",
        "print(Dict1)"
      ]
    },
    {
      "cell_type": "markdown",
      "metadata": {
        "id": "io_5HOmZi6Vf"
      },
      "source": [
        "### Dictionary Comprehension"
      ]
    },
    {
      "cell_type": "code",
      "execution_count": 108,
      "metadata": {
        "id": "Py0f50lqi6Vf",
        "outputId": "1b35041c-7bf4-49e0-a66d-7ab2bba7344f"
      },
      "outputs": [
        {
          "name": "stdout",
          "output_type": "stream",
          "text": [
            "{1: 1, 2: 4, 3: 9, 4: 16, 5: 25, 6: 36, 7: 49, 8: 64, 9: 81, 10: 100}\n"
          ]
        }
      ],
      "source": [
        "'''\n",
        "KEY : Numbers\n",
        "VALUE : Square of the KEY'''\n",
        "\n",
        "Dict2 = {x : x ** 2 for x in range(1, 11)}    # Creating key-value pairs using list comprehension\n",
        "\n",
        "print(Dict2)"
      ]
    },
    {
      "cell_type": "markdown",
      "metadata": {
        "id": "JDQwyQJ0i6Vf"
      },
      "source": [
        "### Accessing Values"
      ]
    },
    {
      "cell_type": "code",
      "execution_count": 109,
      "metadata": {
        "id": "LewN0ItWi6Vf",
        "outputId": "9415c6b6-27c8-47a4-e8b3-352c73d856ca"
      },
      "outputs": [
        {
          "name": "stdout",
          "output_type": "stream",
          "text": [
            "{'Name': 'Girl Script', 'RollNo': 2021, 'Course': 'OpenSource', 'Domain': 'Python', 'Year': 2021}\n"
          ]
        }
      ],
      "source": [
        "print(Dict1)"
      ]
    },
    {
      "cell_type": "code",
      "execution_count": 112,
      "metadata": {
        "id": "rETALBcdi6Vf",
        "outputId": "624c692c-b701-4f84-dfbb-a06491393e2a"
      },
      "outputs": [
        {
          "name": "stdout",
          "output_type": "stream",
          "text": [
            "Roll No: 2021\n"
          ]
        }
      ],
      "source": [
        "# values of dictionary can be access using square brackets, along with its key to obtain value\n",
        "\n",
        "print('Roll No:', Dict1['RollNo'])"
      ]
    },
    {
      "cell_type": "markdown",
      "metadata": {
        "id": "FqM0lEpli6Vg"
      },
      "source": [
        "### Adding or Modifying an Item in a Dictionary"
      ]
    },
    {
      "cell_type": "markdown",
      "metadata": {
        "id": "R3RSkC5yi6Vg"
      },
      "source": [
        "***Add new item in dictionary***"
      ]
    },
    {
      "cell_type": "code",
      "execution_count": 113,
      "metadata": {
        "id": "mhTeGqcri6Vg",
        "outputId": "65f67d7f-64d3-4c59-8015-7063ce197eaa"
      },
      "outputs": [
        {
          "name": "stdout",
          "output_type": "stream",
          "text": [
            "{'Name': 'Girl Script', 'RollNo': 2021, 'Course': 'OpenSource', 'Domain': 'Python', 'Year': 2021}\n"
          ]
        }
      ],
      "source": [
        "print(Dict1)"
      ]
    },
    {
      "cell_type": "code",
      "execution_count": 115,
      "metadata": {
        "id": "B1_aggYGi6Vg",
        "outputId": "39b89eb6-dce5-49d7-8e3c-2e087594be0d"
      },
      "outputs": [
        {
          "name": "stdout",
          "output_type": "stream",
          "text": [
            "{'Name': 'Girl Script', 'RollNo': 2021, 'Course': 'OpenSource', 'Domain': 'Python', 'Year': 2021, 'Subject': 'Notebook Contribution'}\n"
          ]
        }
      ],
      "source": [
        "# add a new entry to the dictionary\n",
        "\n",
        "Dict1['Subject'] = 'Notebook Contribution'\n",
        "\n",
        "print(Dict1)"
      ]
    },
    {
      "cell_type": "markdown",
      "metadata": {
        "id": "tG8lzqpKi6Vh"
      },
      "source": [
        "***Modifying an Element***"
      ]
    },
    {
      "cell_type": "code",
      "execution_count": 117,
      "metadata": {
        "id": "FwM9Dn3Gi6Vh",
        "outputId": "43c34028-1470-4235-d46d-b25cdba08428"
      },
      "outputs": [
        {
          "name": "stdout",
          "output_type": "stream",
          "text": [
            "{'Name': 'Girl Script', 'RollNo': 2021, 'Course': 'OpenSource', 'Domain': 'Python', 'Year': 2022, 'Subject': 'Notebook Contribution'}\n"
          ]
        }
      ],
      "source": [
        "# update the existing key-value pair with the value\n",
        "Dict1['Year'] = 2022\n",
        "\n",
        "print(Dict1)"
      ]
    },
    {
      "cell_type": "markdown",
      "metadata": {
        "id": "WsESvwPyi6Vh"
      },
      "source": [
        "### Deleting Items"
      ]
    },
    {
      "cell_type": "code",
      "execution_count": 118,
      "metadata": {
        "id": "_R-hy620i6Vi",
        "outputId": "0527b0ab-8651-4a44-ce2a-84cd166fa236"
      },
      "outputs": [
        {
          "name": "stdout",
          "output_type": "stream",
          "text": [
            "{'Name': 'Girl Script', 'RollNo': 2021, 'Course': 'OpenSource', 'Domain': 'Python', 'Year': 2022, 'Subject': 'Notebook Contribution'}\n",
            "\n",
            "Subject Deleted Successfully from Dictionary\n",
            "\n",
            " {'Name': 'Girl Script', 'RollNo': 2021, 'Course': 'OpenSource', 'Domain': 'Python', 'Year': 2022}\n"
          ]
        }
      ],
      "source": [
        "print(Dict1)\n",
        "\n",
        "del Dict1['Subject']\n",
        "print(\"\\nSubject Deleted Successfully from Dictionary\")\n",
        "\n",
        "print('\\n', Dict1)"
      ]
    },
    {
      "cell_type": "code",
      "execution_count": 119,
      "metadata": {
        "id": "iloGpCIMi6Vj",
        "outputId": "2fc5ca4e-547c-430c-b5a2-bec0b7d54133"
      },
      "outputs": [
        {
          "name": "stdout",
          "output_type": "stream",
          "text": [
            "Dictionary after popping is {'Name': 'Girl Script', 'RollNo': 2021, 'Course': 'OpenSource', 'Domain': 'Python'}\n"
          ]
        }
      ],
      "source": [
        "Dict1.pop('Year', 0)\n",
        "\n",
        "print('Dictionary after popping is',Dict1)\n",
        "\n",
        "# if the key is present it is deleted and returns the deleted \n",
        "# value else retruns default value(explicitly defined here)"
      ]
    },
    {
      "cell_type": "markdown",
      "metadata": {
        "id": "sxeUjAL8i6Vj"
      },
      "source": [
        "### Sorting Keys"
      ]
    },
    {
      "cell_type": "code",
      "execution_count": 120,
      "metadata": {
        "id": "4P9o1Y_Ai6Vj",
        "outputId": "d1bb866a-5e1c-434a-f77f-456c92311824"
      },
      "outputs": [
        {
          "name": "stdout",
          "output_type": "stream",
          "text": [
            "{'Name': 'Girl Script', 'RollNo': 2021, 'Course': 'OpenSource', 'Domain': 'Python'}\n"
          ]
        }
      ],
      "source": [
        "print(Dict1)"
      ]
    },
    {
      "cell_type": "code",
      "execution_count": 121,
      "metadata": {
        "id": "mIdhdErfi6Vj",
        "outputId": "c4f85b09-1bec-488b-fea5-1798baf589a7"
      },
      "outputs": [
        {
          "name": "stdout",
          "output_type": "stream",
          "text": [
            "['Course', 'Domain', 'Name', 'RollNo']\n"
          ]
        }
      ],
      "source": [
        "# using sorted method\n",
        "\n",
        "print(sorted(Dict1))"
      ]
    },
    {
      "cell_type": "markdown",
      "metadata": {
        "id": "N-8fKvnZi6Vj"
      },
      "source": [
        "### Looping"
      ]
    },
    {
      "cell_type": "code",
      "execution_count": 122,
      "metadata": {
        "id": "vR0tS_qci6Vk",
        "outputId": "0464dea4-d2b0-4cd8-94b7-bb97fd0a0d88"
      },
      "outputs": [
        {
          "name": "stdout",
          "output_type": "stream",
          "text": [
            "{'Name': 'Girl Script', 'RollNo': 2021, 'Course': 'OpenSource', 'Domain': 'Python'}\n"
          ]
        }
      ],
      "source": [
        "print(Dict1)"
      ]
    },
    {
      "cell_type": "code",
      "execution_count": 123,
      "metadata": {
        "id": "t4B82sPYi6Vk",
        "outputId": "a61fe644-2fa0-40eb-a8ad-a6ae66edf4f8"
      },
      "outputs": [
        {
          "name": "stdout",
          "output_type": "stream",
          "text": [
            "Name RollNo Course Domain "
          ]
        }
      ],
      "source": [
        "for key in Dict1:    # Keys alone are accessed here\n",
        "    print(key, end = ' ')"
      ]
    },
    {
      "cell_type": "code",
      "execution_count": 124,
      "metadata": {
        "id": "cMOCgeB9i6Vk",
        "outputId": "3c7d1905-5b69-4145-cdc9-3d522a130b00"
      },
      "outputs": [
        {
          "name": "stdout",
          "output_type": "stream",
          "text": [
            "Girl Script 2021 OpenSource Python "
          ]
        }
      ],
      "source": [
        "for value in Dict1.values():    # Values alone are accessed here\n",
        "    print(value, end = ' ')"
      ]
    },
    {
      "cell_type": "code",
      "execution_count": 125,
      "metadata": {
        "id": "TMSNtM3Ni6Vk",
        "outputId": "d6e1a308-20fc-4b70-828e-ce05309cfdc0"
      },
      "outputs": [
        {
          "name": "stdout",
          "output_type": "stream",
          "text": [
            "Key: Name \tValues: Girl Script\n",
            "Key: RollNo \tValues: 2021\n",
            "Key: Course \tValues: OpenSource\n",
            "Key: Domain \tValues: Python\n"
          ]
        }
      ],
      "source": [
        "for key, value in Dict1.items():\n",
        "    print('Key:', key, '\\tValues:', value)"
      ]
    },
    {
      "cell_type": "markdown",
      "metadata": {
        "id": "Si63DhmGi6Vl"
      },
      "source": [
        "### Nested Dictionary"
      ]
    },
    {
      "cell_type": "code",
      "execution_count": 126,
      "metadata": {
        "id": "hLqSgaFoi6Vl",
        "outputId": "dd6305d9-c7f7-446a-b7b4-69096b4d8ec6"
      },
      "outputs": [
        {
          "name": "stdout",
          "output_type": "stream",
          "text": [
            "Sam \t {'Py': 50, 'JS': 64, 'Java': 95}\n",
            "Harry \t {'Py': 35, 'JS': 41, 'Java': 60}\n",
            "Alex \t {'Py': 99, 'JS': 86, 'Java': 91}\n"
          ]
        }
      ],
      "source": [
        "students_data = {\n",
        "    'Sam' : {'Py': 50, 'JS': 64, 'Java': 95},\n",
        "    'Harry' : {'Py': 35, 'JS': 41, 'Java': 60},\n",
        "    'Alex' : {'Py': 99, 'JS': 86, 'Java': 91}\n",
        "}\n",
        "\n",
        "for key, value in students_data.items():\n",
        "    print(key, '\\t', value)"
      ]
    },
    {
      "cell_type": "markdown",
      "metadata": {
        "id": "PWd-g-Api6Vl"
      },
      "source": [
        "### String formatting with Dictionaries"
      ]
    },
    {
      "cell_type": "code",
      "execution_count": 128,
      "metadata": {
        "id": "LtI4k1t2i6Vl",
        "outputId": "e01bf354-02be-4fd6-d3db-8450de1c5379"
      },
      "outputs": [
        {
          "name": "stdout",
          "output_type": "stream",
          "text": [
            "Sam is working on Open Source.\n",
            "Alex is working on Python.\n"
          ]
        }
      ],
      "source": [
        "Dict3 = {\n",
        "    'Sam' : 'Open Source',\n",
        "    'Alex' : 'Python'\n",
        "}\n",
        "\n",
        "for k, v in Dict3.items():\n",
        "    print(\"%s is working on %s.\" % (k, v))"
      ]
    },
    {
      "cell_type": "markdown",
      "metadata": {},
      "source": [
        "# More Resources:"
      ]
    },
    {
      "cell_type": "markdown",
      "metadata": {},
      "source": [
        "**Check this <a href=\"https://github.com/girlscript/winter-of-contributing/blob/Python/Python/Python_Online_Resources/Curated_List_of_all_Online_Python_Resources.md\" target=\"_blank\">link.</a>**"
      ]
    },
    {
      "cell_type": "code",
      "execution_count": null,
      "metadata": {
        "id": "Q8zxIObbi6Vm"
      },
      "outputs": [],
      "source": []
    }
  ],
  "metadata": {
    "colab": {
      "collapsed_sections": [],
      "name": "Vizathon Workshop.ipynb",
      "provenance": []
    },
    "kernelspec": {
      "display_name": "Python 3",
      "language": "python",
      "name": "python3"
    },
    "language_info": {
      "codemirror_mode": {
        "name": "ipython",
        "version": 3
      },
      "file_extension": ".py",
      "mimetype": "text/x-python",
      "name": "python",
      "nbconvert_exporter": "python",
      "pygments_lexer": "ipython3",
      "version": "3.9.5"
    }
  },
  "nbformat": 4,
  "nbformat_minor": 0
}
