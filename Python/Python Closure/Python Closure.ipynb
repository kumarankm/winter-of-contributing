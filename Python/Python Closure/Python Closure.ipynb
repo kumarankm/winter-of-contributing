{
 "cells": [
  {
   "cell_type": "markdown",
   "metadata": {},
   "source": [
    "# Python Closures"
   ]
  },
  {
   "cell_type": "markdown",
   "metadata": {},
   "source": [
    "## What are Python Closures?"
   ]
  },
  {
   "cell_type": "markdown",
   "metadata": {},
   "source": [
    "#### A Closure is a function object that remembers values in enclosing scopes even if they are not present in memory.\n",
    "#### In simple words, Python closures are the inner functions that are enclosed within the outer function. Closures can access variables present in the outer function scope. It can access these variables even after the outer function has completed its execution. "
   ]
  },
  {
   "cell_type": "markdown",
   "metadata": {},
   "source": [
    "## When do we have Python Closure?"
   ]
  },
  {
   "cell_type": "markdown",
   "metadata": {},
   "source": [
    "#### We have a closure in Python when a nested function references a value in its enclosing scope. The requirements for Python Closure :\n",
    "##### To have a nested funtion\n",
    "##### The nested function must refer to a value defined in the enclosing function.\n",
    "##### The enclosing function must return the nested function."
   ]
  },
  {
   "cell_type": "markdown",
   "metadata": {},
   "source": [
    "## What is the use of Python Closure?"
   ]
  },
  {
   "cell_type": "markdown",
   "metadata": {},
   "source": [
    "#### Use of Python Closures are:"
   ]
  },
  {
   "cell_type": "markdown",
   "metadata": {},
   "source": [
    "##### If we have few functions in our code, closures prove to be an efficient way, But if we have many functions, then go for classes instead of closure.\n",
    "##### Can be used for data hiding i.e. the only way to access the enclosed function is by calling the enclosing function. There is no other way to access the inner function directly.\n",
    "##### As closures are used as callback functions, they provide some sort of data hiding. This helps us to reduce the use of global variables.\n",
    "##### We can then access the variables of this environment later in your program."
   ]
  },
  {
   "cell_type": "markdown",
   "metadata": {},
   "source": [
    "## Python Closure Example :"
   ]
  },
  {
   "cell_type": "code",
   "execution_count": 10,
   "metadata": {},
   "outputs": [
    {
     "name": "stdout",
     "output_type": "stream",
     "text": [
      "This is an Example\n"
     ]
    }
   ],
   "source": [
    "def out_fun(text):\n",
    "    \n",
    "    def in_fun():\n",
    "\n",
    "        print(text)\n",
    "\n",
    "    return in_fun\n",
    "\n",
    "my_fun = out_fun(\"This is an Example\")\n",
    "my_fun()"
   ]
  },
  {
   "cell_type": "markdown",
   "metadata": {},
   "source": [
    "#### In above example out_fun() refers to outter funtion and in_fun() refers to inner funtion."
   ]
  },
  {
   "cell_type": "markdown",
   "metadata": {},
   "source": [
    "#### The out_fun() function was called with the string \"This is an Example\" and the returned function was bound to the name my_fun. On calling my_fun(), the message was still remembered although we had already finished executing the out_fun() function.\n",
    "#### This technique by which some data (\"This is an Example\" in this case) gets attached to the code is called closure in Python"
   ]
  }
 ],
 "metadata": {
  "kernelspec": {
   "display_name": "Python 3",
   "language": "python",
   "name": "python3"
  },
  "language_info": {
   "codemirror_mode": {
    "name": "ipython",
    "version": 3
   },
   "file_extension": ".py",
   "mimetype": "text/x-python",
   "name": "python",
   "nbconvert_exporter": "python",
   "pygments_lexer": "ipython3",
   "version": "3.8.5"
  }
 },
 "nbformat": 4,
 "nbformat_minor": 4
}
