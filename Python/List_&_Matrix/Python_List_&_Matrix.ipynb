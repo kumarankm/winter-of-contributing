{
 "cells": [
  {
   "cell_type": "markdown",
   "metadata": {},
   "source": [
    "# Python: List & matrix #550"
   ]
  },
  {
   "cell_type": "markdown",
   "metadata": {},
   "source": [
    "In this [python audio](https://drive.google.com/drive/u/0/folders/1h40aLs-jedyJm8F83Ayi_P8ixYNS6hWM) tutorial, we are going to learn about list and matrix in Python. These are the widely used data types in Python. First let us know about list."
   ]
  },
  {
   "cell_type": "markdown",
   "metadata": {},
   "source": [
    "## List in Python :"
   ]
  },
  {
   "cell_type": "markdown",
   "metadata": {},
   "source": [
    "A list is used to store the sequence of various types of data in Python. We can modify its element after it created. That means lists are mutable. We can create python list by putting different comma-separated values between square brackets. The list index starts at 0.\n",
    "\n",
    "We can Add Elements to a List, using append() or insert() or extend() method. We can remove Elements from the List using remove() or pop() method."
   ]
  },
  {
   "cell_type": "code",
   "execution_count": 4,
   "metadata": {},
   "outputs": [
    {
     "name": "stdout",
     "output_type": "stream",
     "text": [
      "Initial blank List: \n",
      "[]\n",
      "\n",
      "List after Addition of Three elements using append method: \n",
      "[10, 20]\n",
      "\n",
      "List after Addition of Three elements using insert method: \n",
      "[10, 20, 30]\n",
      "\n",
      "List after Addition of Three elements using extend method: \n",
      "[10, 20, 30, 40, 50]\n"
     ]
    }
   ],
   "source": [
    "List = []\n",
    "print(\"Initial blank List: \")\n",
    "print(List)\n",
    " \n",
    "# append()\n",
    "List.append(10)\n",
    "List.append(20)\n",
    "print(\"\\nList after Addition of Three elements using append method: \")\n",
    "print(List)\n",
    "\n",
    "# insert()\n",
    "List.insert(3, 30)\n",
    "print(\"\\nList after Addition of Three elements using insert method: \")\n",
    "print(List)\n",
    "\n",
    "# extend()\n",
    "List.extend([40, 50])\n",
    "print(\"\\nList after Addition of Three elements using extend method: \")\n",
    "print(List)"
   ]
  },
  {
   "cell_type": "code",
   "execution_count": 5,
   "metadata": {},
   "outputs": [
    {
     "name": "stdout",
     "output_type": "stream",
     "text": [
      "Initial List: \n",
      "[1, 2, 3, 4, 5, 6, 7, 8, 9, 10]\n",
      "\n",
      "List after Removal of two elements: \n",
      "[1, 2, 3, 4, 7, 8, 9, 10]\n",
      "\n",
      "List after popping a specific element: \n",
      "[1, 2, 4, 7, 8, 9, 10]\n"
     ]
    }
   ],
   "source": [
    "List = [1, 2, 3, 4, 5, 6, 7, 8, 9, 10]\n",
    "print(\"Initial List: \")\n",
    "print(List)\n",
    " \n",
    "# Removing elements from List using Remove() method\n",
    "List.remove(5)\n",
    "List.remove(6)\n",
    "print(\"\\nList after Removal of two elements: \")\n",
    "print(List)\n",
    "\n",
    "# Removing elements from List using pop() method\n",
    "List.pop(2)\n",
    "print(\"\\nList after popping a specific element: \")\n",
    "print(List)"
   ]
  },
  {
   "cell_type": "markdown",
   "metadata": {},
   "source": [
    "# Matrix in Python :"
   ]
  },
  {
   "cell_type": "markdown",
   "metadata": {},
   "source": [
    "Now, let's learn about matrices. A matrix is a two-dimensional data structure where numbers are arranged into rows and columns. Python doesn't have a built-in type for matrices. \n",
    "\n",
    "We can treat a list of a list as a matrix. Using nested lists as a matrix works for simple computational tasks.\n",
    "\n",
    "However, there is a better way of working with matrices in Python using NumPy package."
   ]
  },
  {
   "cell_type": "code",
   "execution_count": 1,
   "metadata": {},
   "outputs": [
    {
     "name": "stdout",
     "output_type": "stream",
     "text": [
      "[[ 1  2  3  4  5]\n",
      " [ 6  7  8  9 10]\n",
      " [11 12 13 14 15]]\n"
     ]
    }
   ],
   "source": [
    "from numpy import * \n",
    "a = array([[1,2,3,4,5],[6,7,8,9,10],\n",
    "   [11,12,13,14,15]])\n",
    "m = reshape(a,(3,5))\n",
    "print(m)"
   ]
  },
  {
   "cell_type": "code",
   "execution_count": 2,
   "metadata": {},
   "outputs": [
    {
     "name": "stdout",
     "output_type": "stream",
     "text": [
      "[[ 1  2  3  4  5 10]\n",
      " [ 6  7  8  9 10 20]\n",
      " [11 12 13 14 15 30]]\n"
     ]
    }
   ],
   "source": [
    "m_c = insert(m,[5],[[10],[20],[30]],1)\n",
    "\n",
    "print(m_c)"
   ]
  },
  {
   "cell_type": "code",
   "execution_count": 3,
   "metadata": {},
   "outputs": [
    {
     "name": "stdout",
     "output_type": "stream",
     "text": [
      "[[ 1  2  4  5]\n",
      " [ 6  7  9 10]\n",
      " [11 12 14 15]]\n"
     ]
    }
   ],
   "source": [
    "m = delete(m,s_[2],1)\n",
    "\n",
    "print(m)"
   ]
  }
 ],
 "metadata": {
  "kernelspec": {
   "display_name": "Python 3",
   "language": "python",
   "name": "python3"
  },
  "language_info": {
   "codemirror_mode": {
    "name": "ipython",
    "version": 3
   },
   "file_extension": ".py",
   "mimetype": "text/x-python",
   "name": "python",
   "nbconvert_exporter": "python",
   "pygments_lexer": "ipython3",
   "version": "3.8.5"
  }
 },
 "nbformat": 4,
 "nbformat_minor": 4
}
