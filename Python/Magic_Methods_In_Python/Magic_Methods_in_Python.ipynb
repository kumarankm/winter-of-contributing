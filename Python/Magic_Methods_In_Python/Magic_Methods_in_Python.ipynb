{
  "nbformat": 4,
  "nbformat_minor": 0,
  "metadata": {
    "colab": {
      "name": "Magic Methods in Python.ipynb",
      "provenance": [],
      "collapsed_sections": []
    },
    "kernelspec": {
      "name": "python3",
      "display_name": "Python 3"
    },
    "language_info": {
      "name": "python"
    }
  },
  "cells": [
    {
      "cell_type": "markdown",
      "metadata": {
        "id": "Gi2dCeP0dykg"
      },
      "source": [
        "# **Magic Methods in Python**🐍\n",
        "\n",
        "\n",
        "\n"
      ]
    },
    {
      "cell_type": "markdown",
      "metadata": {
        "id": "pNEyqTnA6qAl"
      },
      "source": [
        "These special methods are used to overwrite some default Python behaviour."
      ]
    },
    {
      "cell_type": "markdown",
      "metadata": {
        "id": "naKrTHUV6qEw"
      },
      "source": [
        "These methods are also known as **Dunder Methods**. The name Dunder comes from the double underscores that are added as suffix and prefix.\n",
        "\n",
        "The most common Magic Method that we use in Python is `__init__`.\n",
        "\n",
        "\n",
        "`__init__` is usually called to *initialise the object's state*.\n",
        "\n",
        "# **Why do we need Dunder Methods?**\n",
        "\n",
        "Let's take an example to see it clearly.\n",
        "\n"
      ]
    },
    {
      "cell_type": "code",
      "metadata": {
        "id": "FMpM9KkZduvC",
        "colab": {
          "base_uri": "https://localhost:8080/"
        },
        "outputId": "a467fb58-bd49-4994-a51d-0318be50659d"
      },
      "source": [
        "print(2+3)\n",
        "print('a'+'b')"
      ],
      "execution_count": 17,
      "outputs": [
        {
          "output_type": "stream",
          "name": "stdout",
          "text": [
            "5\n",
            "ab\n"
          ]
        }
      ]
    },
    {
      "cell_type": "markdown",
      "metadata": {
        "id": "YE4qb00ycGgF"
      },
      "source": [
        "You can see that the `+` operator behaves differently for int and string data types. So, the operator behaves differently for different **objects**.\n",
        "\n",
        ">\n",
        "**Note:**\n",
        "\n",
        "*Everything in Python is an object, including a variable/class/function etc.*\n",
        "\n",
        "Magic methods can be used in such cases to override some default Python methods.\n",
        "\n",
        "Let's look into some Dunder Methods"
      ]
    },
    {
      "cell_type": "markdown",
      "metadata": {
        "id": "ytKlcv-VeHbY"
      },
      "source": [
        "We use `__init__` to initialize an object when it is created."
      ]
    },
    {
      "cell_type": "code",
      "metadata": {
        "id": "j_CHABdOd0IT",
        "colab": {
          "base_uri": "https://localhost:8080/"
        },
        "outputId": "d37c06da-6daf-460d-968a-dc42820c8abe"
      },
      "source": [
        "class Employee:\n",
        "  def __init__(self,name,id,pay):\n",
        "    self.name = name\n",
        "    self.id = id\n",
        "    self.pay = pay\n",
        "employee = Employee(\"Hermione\",4560,64000)\n",
        "print(employee)"
      ],
      "execution_count": 18,
      "outputs": [
        {
          "output_type": "stream",
          "name": "stdout",
          "text": [
            "<__main__.Employee object at 0x7f99bcdac4d0>\n"
          ]
        }
      ]
    },
    {
      "cell_type": "markdown",
      "metadata": {
        "id": "VPl-lDsM3CH3"
      },
      "source": [
        "When `__init__ is invoked, the object is passed as `self`. Other arguments in the method call are passed as the rest of the arguments in the function.\n",
        "\n",
        "You must have noticed that when we print out the object it gets printed along with the `object id`. You might want to print out the attributes of the object as the output.\n",
        "\n",
        "We can use the `__str__` method. This allows us to get a printable string as an output for any user-defined class.\n",
        "Dunder methods are used to overwrite some default Python behaviours and in this case we are overwriting the built-in feature of representing objects."
      ]
    },
    {
      "cell_type": "code",
      "metadata": {
        "id": "Un3LrxnTiTnH",
        "colab": {
          "base_uri": "https://localhost:8080/"
        },
        "outputId": "0377a5be-e877-4542-fb36-645cf1d89769"
      },
      "source": [
        "class Employee:\n",
        "  def __init__(self,name,id,pay):\n",
        "    self.name = name\n",
        "    self.id = id\n",
        "    self.pay = pay\n",
        "  def __str__(self):\n",
        "    return \"Name: {}, Employee_ID: {}, Pay: {}\".format(self.name,self.id,self.pay)\n",
        "    \n",
        "employee = Employee(\"Hermione\",4560,64000)\n",
        "print(employee)"
      ],
      "execution_count": 19,
      "outputs": [
        {
          "output_type": "stream",
          "name": "stdout",
          "text": [
            "Name: Hermione, Employee_ID: 4560, Pay: 64000\n"
          ]
        }
      ]
    },
    {
      "cell_type": "markdown",
      "metadata": {
        "id": "36KC2x4d5X7S"
      },
      "source": [
        "We also have a function called `__repr__` which is similar to `__str__`.\n",
        "\n",
        "`__repr__` is an unambiguous representation of an object and is usually used for logging and debugging.\n",
        "\n",
        "`__str__` is used more for the end-user.\n",
        "\n",
        "Hence, we need to implement both to fall back on later.\n",
        "\n"
      ]
    },
    {
      "cell_type": "code",
      "metadata": {
        "id": "CH6kosoHjjf5",
        "colab": {
          "base_uri": "https://localhost:8080/"
        },
        "outputId": "c12b260a-4468-449a-e8a8-6955d0986294"
      },
      "source": [
        "class Employee:\n",
        "  def __init__(self,name,id,pay):\n",
        "    self.name = name\n",
        "    self.id = id\n",
        "    self.pay = pay\n",
        "  def __str__(self):\n",
        "    print(\"str\") #print statement added to show the output from the str method\n",
        "    return \"Name: {}, Employee_ID: {}, Pay: {}\".format(self.name,self.id,self.pay)\n",
        "  def __repr__(self):\n",
        "    print(\"repr\") #print statement added to show the output from the repr method\n",
        "    return \"Name: {}, Employee_ID: {}, Pay: {}\".format(self.name, self.id, self.pay)\n",
        "\n",
        "employee = Employee(\"Hermione\",4560, 64000)\n",
        "print(employee)\n",
        "employee\n",
        "  "
      ],
      "execution_count": 20,
      "outputs": [
        {
          "output_type": "stream",
          "name": "stdout",
          "text": [
            "str\n",
            "Name: Hermione, Employee_ID: 4560, Pay: 64000\n",
            "repr\n"
          ]
        },
        {
          "output_type": "execute_result",
          "data": {
            "text/plain": [
              "Name: Hermione, Employee_ID: 4560, Pay: 64000"
            ]
          },
          "metadata": {},
          "execution_count": 20
        }
      ]
    },
    {
      "cell_type": "markdown",
      "metadata": {
        "id": "yqeWx0y67gXr"
      },
      "source": [
        "You can see above that `__repr__` is invoked when the object is inspected in the interpreter.\n",
        "\n",
        "If we don’t add a `__str__` method, Python falls back on the result of the `__repr__` when searching for `__str__` . Therefore adding `__repr__` to our classes is recommended.\n"
      ]
    },
    {
      "cell_type": "markdown",
      "metadata": {
        "id": "rJc6oN0R8VPA"
      },
      "source": [
        "In the very first example, you saw how addition works differently for different data types.\n",
        "Under the hood, Python used it's own `__add__` method to implement the behaviour for different data types.\n",
        "\n",
        "You can also customise the way addition works in our classes by implementing our own `__add__` method.\n",
        "\n",
        "\n",
        "\n",
        "\n"
      ]
    },
    {
      "cell_type": "code",
      "metadata": {
        "colab": {
          "base_uri": "https://localhost:8080/"
        },
        "id": "YZ8TRoS88lV-",
        "outputId": "09bad0fc-18ab-43e1-aa96-76dbedb984bd"
      },
      "source": [
        "class Employee:\n",
        "  def __init__(self,name,id,pay):\n",
        "    self.name = name\n",
        "    self.id = id\n",
        "    self.pay = pay\n",
        "  def __str__(self):\n",
        "    print(\"str\") #print statement added to show the output from the str method\n",
        "    return \"Name: {}, Employee_ID: {}, Pay: {}\".format(self.name,self.id,self.pay)\n",
        "  def __repr__(self):\n",
        "    print(\"repr\") #print statement added to show the output from the repr method\n",
        "    return \"Name: {}, Employee_ID: {}, Pay: {}\".format(self.name, self.id, self.pay)\n",
        "  def __add__(self,other):\n",
        "    return self.pay + other.pay\n",
        "\n",
        "employee1 = Employee(\"Hermione\",4560,64000)\n",
        "employee2 = Employee(\"Neville\",4561,59000)\n",
        "\n",
        "print(employee1 + employee2)"
      ],
      "execution_count": 21,
      "outputs": [
        {
          "output_type": "stream",
          "name": "stdout",
          "text": [
            "123000\n"
          ]
        }
      ]
    },
    {
      "cell_type": "markdown",
      "metadata": {
        "id": "3jkrwasJA__2"
      },
      "source": [
        "There are many such arithmetic functions which can be implemented. \n",
        "\n",
        "Hence, we can use Dunder methods to emulate buit-in Python behaviour the way we want it implemented in our user-defined classes.\n",
        "There is a plethora of Dunder or Magic methods that can be implemented in Python.\n",
        "They are listed in the [Python docs](https://docs.python.org/3/reference/datamodel.html)."
      ]
    },
    {
      "cell_type": "markdown",
      "metadata": {
        "id": "vC8fhEtWCOtf"
      },
      "source": [
        "**References**\n",
        "\n",
        "\n",
        "\n",
        "*   [Corey Shafer's Tutorial](https://www.youtube.com/watch?v=3ohzBxoFHAY)\n",
        "*   [Section.io](https://www.section.io/engineering-education/dunder-methods-python/)\n",
        "\n",
        "\n"
      ]
    }
  ]
}