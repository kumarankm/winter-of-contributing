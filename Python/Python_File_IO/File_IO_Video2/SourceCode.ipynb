{
 "cells": [
  {
   "cell_type": "markdown",
   "metadata": {},
   "source": [
    "# Source Code\n",
    "\n",
    "1. fileop.py"
   ]
  },
  {
   "cell_type": "code",
   "execution_count": null,
   "metadata": {},
   "outputs": [],
   "source": [
    "f = open(\"t1.txt\", \"w+\")  # w+ to open file in read and write mode\n",
    "f.write(\"New First Line\\n\")  # can pass single string\n",
    "# can pass list of strings\n",
    "f.writelines([\"New Second Line\", \" It is Second Line\"])\n",
    "f.seek(0)  # Moves file pointer to desired location\n",
    "print(\"read() \", f.read())  # Reads complete content of file\n",
    "f.seek(0)  # Moves file pointer to desired location\n",
    "print(\"readline() \", f.readline())  # Reads single line\n",
    "f.seek(0)\n",
    "print(\"readlines() \", f.readlines())  # Returns list of lines\n",
    "print(\"seek() \", f.seek(5))\n",
    "print(\"tell() \", f.tell())  # returns current position of file pointer\n",
    "print(\"mode() \", f.mode)  # returns mode in which file is opened\n",
    "print(\"name() \", f.name)  # returns file name\n",
    "f.flush()\n",
    "f.close()\n",
    "print(\"close() \", f.closed)\n"
   ]
  },
  {
   "cell_type": "markdown",
   "metadata": {},
   "source": [
    "2. t1.txt"
   ]
  },
  {
   "cell_type": "code",
   "execution_count": null,
   "metadata": {},
   "outputs": [],
   "source": [
    "//It should be empty initially as file handling operations will take place here\n"
   ]
  }
 ],
 "metadata": {
  "language_info": {
   "name": "python"
  },
  "orig_nbformat": 4
 },
 "nbformat": 4,
 "nbformat_minor": 2
}
